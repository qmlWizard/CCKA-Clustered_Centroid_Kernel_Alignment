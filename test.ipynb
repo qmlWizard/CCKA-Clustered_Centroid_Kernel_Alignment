{
 "cells": [
  {
   "cell_type": "code",
   "execution_count": 7,
   "metadata": {},
   "outputs": [],
   "source": [
    "import pennylane as qml\n",
    "import torch\n",
    "from torch.utils.data import DataLoader, TensorDataset\n",
    "import ray\n",
    "from ray import tune\n",
    "from ray.air import session\n",
    "from sklearn.model_selection import train_test_split\n",
    "import numpy as np\n",
    "import yaml\n",
    "import json\n",
    "import time\n",
    "import os\n",
    "import pandas as pd\n",
    "\n",
    "\n",
    "# Custom Libraries\n",
    "from utils.model import Qkernel\n",
    "from utils.data_generator import DataGenerator\n",
    "from utils.agent import TrainModel\n",
    "\n",
    "# Backend Configuration\n",
    "if torch.backends.mps.is_available():\n",
    "    device = torch.device(\"mps\")\n",
    "elif torch.cuda.is_available():\n",
    "    device = torch.device(\"cuda\")\n",
    "else:\n",
    "    device = torch.device(\"cpu\")"
   ]
  },
  {
   "cell_type": "code",
   "execution_count": 8,
   "metadata": {},
   "outputs": [],
   "source": [
    "# Read Configs\n",
    "with open('config.yaml', 'r') as file:\n",
    "    config = yaml.safe_load(file)\n",
    "\n",
    "data = np.load('checkerboard_dataset.npy', allow_pickle=True).item()\n",
    "x_train, x_test, y_train, y_test = data['x_train'], data['x_test'], data['y_train'], data['y_test']\n",
    "\n",
    "training_data = torch.tensor(x_train, dtype=torch.float32, requires_grad=True)\n",
    "testing_data = torch.tensor(x_test, dtype=torch.float32, requires_grad=True)\n",
    "training_labels = torch.tensor(y_train, dtype=torch.int)\n",
    "testing_labels = torch.tensor(y_test, dtype=torch.int)\n",
    "\n",
    "kernel = Qkernel(   \n",
    "                        device = config['qkernel']['device'], \n",
    "                        n_qubits = 4, \n",
    "                        trainable = True, \n",
    "                        input_scaling = True, \n",
    "                        data_reuploading = True, \n",
    "                        ansatz = 'embedding_paper', \n",
    "                        ansatz_layers = 5\n",
    "                    )\n",
    "    \n",
    "agent = TrainModel(\n",
    "                        kernel=kernel,\n",
    "                        training_data=training_data,\n",
    "                        training_labels=training_labels,\n",
    "                        testing_data=testing_data,\n",
    "                        testing_labels=testing_labels,\n",
    "                        optimizer= 'adam',\n",
    "                        lr= 0.1,\n",
    "                        epochs = 200,\n",
    "                        train_method= 'ccka',\n",
    "                        target_accuracy=0.95,\n",
    "                        get_alignment_every=10,  \n",
    "                        validate_every_epoch=None, \n",
    "                        base_path='.',\n",
    "                        lambda_kao=0.01,\n",
    "                        lambda_co=0.1,\n",
    "                        clusters=4\n",
    "                      )"
   ]
  },
  {
   "cell_type": "code",
   "execution_count": 11,
   "metadata": {},
   "outputs": [],
   "source": [
    "c1 = training_data[training_labels == 1]\n",
    "c2 = training_data[training_labels == -1]"
   ]
  },
  {
   "cell_type": "code",
   "execution_count": 21,
   "metadata": {},
   "outputs": [],
   "source": [
    "c1_cent = torch.mean(c1, dim = 0)\n",
    "c2_cent = torch.mean(c2, dim = 0)"
   ]
  },
  {
   "cell_type": "code",
   "execution_count": null,
   "metadata": {},
   "outputs": [
    {
     "data": {
      "text/plain": [
       "tensor([[0.4565, 0.4528],\n",
       "        [0.4762, 0.5011]], requires_grad=True)"
      ]
     },
     "execution_count": 27,
     "metadata": {},
     "output_type": "execute_result"
    }
   ],
   "source": [
    "c_cent = torch.tensor(torch.stack([c1_cent, c2_cent]).detach().numpy(), requires_grad=True).retain_grad()\n",
    "c_cent"
   ]
  },
  {
   "cell_type": "code",
   "execution_count": null,
   "metadata": {},
   "outputs": [],
   "source": [
    "ccs = [torch.tensor(torch.mean(cluster, dim=0).detach().numpy(), requires_grad=True) for cluster in torch.chunk(c1, 4)]\n",
    "ccs = torch.tensor(torch.stack(ccs).detach().numpy(), requires_grad = True).retain_grad()"
   ]
  },
  {
   "cell_type": "code",
   "execution_count": 36,
   "metadata": {},
   "outputs": [
    {
     "data": {
      "text/plain": [
       "tensor([[0.2706, 0.4972],\n",
       "        [0.5634, 0.5544],\n",
       "        [0.4231, 0.3124],\n",
       "        [0.6066, 0.4455]], requires_grad=True)"
      ]
     },
     "execution_count": 36,
     "metadata": {},
     "output_type": "execute_result"
    }
   ],
   "source": [
    "ccs"
   ]
  },
  {
   "cell_type": "code",
   "execution_count": 37,
   "metadata": {},
   "outputs": [],
   "source": [
    "import torch.optim as optim\n",
    "kernel_optimizer = optim.Adam([\n",
    "            {'params': c_cent, 'lr': 0.1},\n",
    "            {'params': ccs, 'lr': 0.1}\n",
    "        ])"
   ]
  },
  {
   "cell_type": "code",
   "execution_count": 40,
   "metadata": {},
   "outputs": [
    {
     "name": "stderr",
     "output_type": "stream",
     "text": [
      "/tmp/ipykernel_9394/2082337650.py:2: UserWarning: The .grad attribute of a Tensor that is not a leaf Tensor is being accessed. Its .grad attribute won't be populated during autograd.backward(). If you indeed want the .grad field to be populated for a non-leaf Tensor, use .retain_grad() on the non-leaf Tensor. If you access the non-leaf Tensor by mistake, make sure you access the leaf Tensor instead. See github.com/pytorch/pytorch/pull/30531 for more informations. (Triggered internally at aten/src/ATen/core/TensorBody.h:489.)\n",
      "  if param.grad is not None:\n"
     ]
    }
   ],
   "source": [
    "for param in ccs:\n",
    "    if param.grad is not None:\n",
    "        print(param.grad)"
   ]
  },
  {
   "cell_type": "code",
   "execution_count": null,
   "metadata": {},
   "outputs": [],
   "source": []
  }
 ],
 "metadata": {
  "kernelspec": {
   "display_name": "kgreedy",
   "language": "python",
   "name": "python3"
  },
  "language_info": {
   "codemirror_mode": {
    "name": "ipython",
    "version": 3
   },
   "file_extension": ".py",
   "mimetype": "text/x-python",
   "name": "python",
   "nbconvert_exporter": "python",
   "pygments_lexer": "ipython3",
   "version": "3.12.3"
  }
 },
 "nbformat": 4,
 "nbformat_minor": 2
}
