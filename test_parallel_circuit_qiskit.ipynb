{
 "cells": [
  {
   "cell_type": "code",
   "execution_count": 2,
   "id": "8e1e4047",
   "metadata": {},
   "outputs": [],
   "source": [
    "from qiskit import QuantumCircuit\n",
    "from qiskit.circuit import Parameter\n",
    "from qiskit.quantum_info import Statevector\n",
    "from qiskit.quantum_info import Operator\n",
    "import numpy as np"
   ]
  },
  {
   "cell_type": "code",
   "execution_count": null,
   "id": "cb7bd47e",
   "metadata": {},
   "outputs": [],
   "source": [
    "def create_he_layer(circ, x, scaling_params, variational_params, wires, embed_data):\n",
    "    n = len(wires)\n",
    "    if embed_data:\n",
    "        for i in range(n):\n",
    "            circ.rx(scaling_params[i] * x[i], wires[i])\n",
    "    for i in range(n):\n",
    "        circ.ry(variational_params[i], wires[i])\n",
    "    for i in range(n):\n",
    "        circ.rz(variational_params[i + n], wires[i])\n",
    "    if n == 2:\n",
    "        circ.cz(wires[0], wires[1])\n",
    "    else:\n",
    "        for i in range(n):\n",
    "            circ.cz(wires[i], wires[(i + 1) % n])\n",
    "\n",
    "\n",
    "def create_qkhe_circuit(x1, x2, weights, wires, layers, embed_data):\n",
    "    circ = QuantumCircuit(len(wires))\n",
    "\n",
    "    for l in range(layers):\n",
    "        create_he_layer(circ, x1, weights['input_scaling'][l], weights['variational'][l], wires, embed_data and l == 0)\n",
    "    for l in reversed(range(layers)):\n",
    "        create_he_layer(circ, x2, weights['input_scaling'][l], weights['variational'][l], wires, embed_data and l == 0)\n",
    "        circ = circ.inverse()  \n",
    "\n",
    "    return circ\n"
   ]
  },
  {
   "cell_type": "code",
   "execution_count": 4,
   "id": "38b9b107",
   "metadata": {},
   "outputs": [],
   "source": [
    "def compute_kernel_value(circ):\n",
    "    psi = Statevector.from_instruction(circ)\n",
    "    return np.real(np.vdot(psi.data, psi.data))\n",
    "\n",
    "def compute_projected_overlap(circ, projector, wires):\n",
    "    psi = Statevector.from_instruction(circ)\n",
    "    projector_op = Operator(projector)\n",
    "    return np.real(psi.expectation_value(projector_op))"
   ]
  },
  {
   "cell_type": "code",
   "execution_count": 10,
   "id": "eeb88012",
   "metadata": {},
   "outputs": [
    {
     "name": "stdout",
     "output_type": "stream",
     "text": [
      "X1: [0.00250193 0.90875182 0.2856814  0.24251118]\n",
      "X2: [0.09197363 0.77850005 0.99049507 0.14792868]\n",
      "Kernel Value: 1.0000000000000016\n"
     ]
    }
   ],
   "source": [
    "num_qubits = 4\n",
    "wires = list(range(num_qubits))\n",
    "layers = 2\n",
    "x1 = np.random.rand(num_qubits)\n",
    "x2 = np.random.rand(num_qubits)\n",
    "\n",
    "weights = {\n",
    "    \"input_scaling\": [np.ones(num_qubits) for _ in range(layers)],\n",
    "    \"variational\": [np.ones(2 * num_qubits) for _ in range(layers)]\n",
    "}\n",
    "\n",
    "circ = create_qkhe_circuit(x1, x2, weights, wires, layers, embed_data=True)\n",
    "val = compute_kernel_value(circ)\n",
    "print(\"X1:\", x1)\n",
    "print(\"X2:\", x2)\n",
    "print(\"Kernel Value:\", val)\n"
   ]
  },
  {
   "cell_type": "code",
   "execution_count": null,
   "id": "ace57dea",
   "metadata": {},
   "outputs": [],
   "source": [
    "import numpy as np\n",
    "from qiskit import QuantumCircuit\n",
    "from qiskit.quantum_info import Statevector\n",
    "from concurrent.futures import ThreadPoolExecutor\n",
    "\n",
    "# Setup\n",
    "NUM_QUBITS = 4\n",
    "LAYERS = 2\n",
    "NUM_DATAPOINTS = 1000\n",
    "WIRES = list(range(NUM_QUBITS))\n",
    "\n",
    "# Generate 30 data points\n",
    "data = [np.random.rand(NUM_QUBITS) for _ in range(NUM_DATAPOINTS)]\n",
    "\n",
    "# Dummy weights (replace if needed)\n",
    "weights = {\n",
    "    \"input_scaling\": [np.ones(NUM_QUBITS) for _ in range(LAYERS)],\n",
    "    \"variational\": [np.ones(2 * NUM_QUBITS) for _ in range(LAYERS)]\n",
    "}\n",
    "\n",
    "# HE Layer\n",
    "def create_he_layer(circ, x, scaling, var, wires, embed):\n",
    "    if embed:\n",
    "        for i in wires:\n",
    "            circ.rx(scaling[i] * x[i], i)\n",
    "    for i in wires:\n",
    "        circ.ry(var[i], i)\n",
    "    for i in wires:\n",
    "        circ.rz(var[i + len(wires)], i)\n",
    "    for i in range(len(wires)):\n",
    "        circ.cz(wires[i], wires[(i + 1) % len(wires)])\n",
    "\n",
    "# Circuit builder\n",
    "def create_qkhe_circuit(x1, x2, weights, wires, layers, embed_data):\n",
    "    circ = QuantumCircuit(len(wires))\n",
    "    for l in range(layers):\n",
    "        create_he_layer(circ, x1, weights[\"input_scaling\"][l], weights[\"variational\"][l], wires, embed_data and l == 0)\n",
    "    adjoint_circ = QuantumCircuit(len(wires))\n",
    "    for l in reversed(range(layers)):\n",
    "        create_he_layer(adjoint_circ, x2, weights[\"input_scaling\"][l], weights[\"variational\"][l], wires, embed_data and l == 0)\n",
    "    circ.compose(adjoint_circ.inverse(), inplace=True)\n",
    "    return circ\n",
    "\n",
    "# Kernel evaluator\n",
    "def compute_kernel(i, j):\n",
    "    x1 = data[i]\n",
    "    x2 = data[j]\n",
    "    circ = create_qkhe_circuit(x1, x2, weights, WIRES, LAYERS, embed_data=True)\n",
    "    state = Statevector.from_instruction(circ)\n",
    "    val = np.real(np.vdot(state.data, state.data))  # ⟨ψ(x_j)|ψ(x_i)⟩\n",
    "    return (i, j, val)\n",
    "\n",
    "# Compute full Gram matrix using threading\n",
    "gram_matrix = np.zeros((NUM_DATAPOINTS, NUM_DATAPOINTS))\n",
    "\n",
    "with ThreadPoolExecutor(max_workers=10) as executor:\n",
    "    futures = [executor.submit(compute_kernel, i, j) for i in range(NUM_DATAPOINTS) for j in range(NUM_DATAPOINTS)]\n",
    "\n",
    "    for future in futures:\n",
    "        i, j, val = future.result()\n",
    "        gram_matrix[i, j] = val\n",
    "\n",
    "print(\"30x30 Quantum Kernel Gram Matrix:\")\n",
    "print(gram_matrix)"
   ]
  },
  {
   "cell_type": "code",
   "execution_count": null,
   "id": "7f01e15a",
   "metadata": {},
   "outputs": [],
   "source": []
  }
 ],
 "metadata": {
  "kernelspec": {
   "display_name": ".venv",
   "language": "python",
   "name": "python3"
  },
  "language_info": {
   "codemirror_mode": {
    "name": "ipython",
    "version": 3
   },
   "file_extension": ".py",
   "mimetype": "text/x-python",
   "name": "python",
   "nbconvert_exporter": "python",
   "pygments_lexer": "ipython3",
   "version": "3.9.6"
  }
 },
 "nbformat": 4,
 "nbformat_minor": 5
}
