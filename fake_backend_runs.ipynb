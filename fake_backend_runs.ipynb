{
 "cells": [
  {
   "metadata": {
    "ExecuteTime": {
     "end_time": "2025-07-28T16:48:52.776686Z",
     "start_time": "2025-07-28T16:48:50.429322Z"
    }
   },
   "cell_type": "code",
   "source": [
    "import torch\n",
    "import ray\n",
    "from ray import tune\n",
    "from ray.air import session\n",
    "from sklearn.model_selection import train_test_split\n",
    "import yaml\n",
    "import argparse\n",
    "import shutil\n",
    "from collections import namedtuple\n",
    "import os\n",
    "import datetime\n",
    "\n",
    "\n",
    "# Custom Libraries\n",
    "from utils.data_generator import DataGenerator\n",
    "from utils.agent import TrainModel\n",
    "from utils.helper import to_python_native, gen_experiment_name, set_seed, save_model_state\n",
    "from utils.plotter import alignment_progress_over_iterations, plot_initial_final_accuracies\n",
    "from utils.qiskit.model import Qkernel\n",
    "from qiskit import QuantumCircuit, transpile\n",
    "from qiskit.providers.aer import AerSimulator\n",
    "from qiskit_aer.noise import NoiseModel\n",
    "from qiskit.test.mock import FakeLima\n",
    "import numpy as np\n",
    "import torch"
   ],
   "id": "e3b729e9590effc",
   "outputs": [
    {
     "name": "stderr",
     "output_type": "stream",
     "text": [
      "2025-07-28 18:48:51,852\tINFO util.py:154 -- Missing packages: ['ipywidgets']. Run `pip install -U ipywidgets`, then restart the notebook server for rich notebook output.\n",
      "2025-07-28 18:48:52,082\tINFO util.py:154 -- Missing packages: ['ipywidgets']. Run `pip install -U ipywidgets`, then restart the notebook server for rich notebook output.\n",
      "/tmp/ipykernel_56843/442881082.py:23: DeprecationWarning: The module 'qiskit.test.mock' is deprecated since Qiskit Terra 0.21.0, and will be removed 3 months or more later. Instead, you should import the desired object directly 'qiskit.providers.fake_provider'.\n",
      "  from qiskit.test.mock import FakeLima\n"
     ]
    }
   ],
   "execution_count": 1
  },
  {
   "metadata": {
    "ExecuteTime": {
     "end_time": "2025-07-28T16:48:52.837416Z",
     "start_time": "2025-07-28T16:48:52.779202Z"
    }
   },
   "cell_type": "code",
   "source": [
    "# Setup fake backend with noise model\n",
    "fake_backend = FakeLima()\n",
    "noise_model = NoiseModel.from_backend(fake_backend)\n",
    "simulator = AerSimulator(noise_model=noise_model,\n",
    "                         basis_gates=noise_model.basis_gates,\n",
    "                         coupling_map=fake_backend.configuration().coupling_map)"
   ],
   "id": "aaba686318a03491",
   "outputs": [],
   "execution_count": 2
  },
  {
   "metadata": {
    "ExecuteTime": {
     "end_time": "2025-07-28T16:48:52.851689Z",
     "start_time": "2025-07-28T16:48:52.844201Z"
    }
   },
   "cell_type": "code",
   "source": [
    "data_generator = DataGenerator(\n",
    "        dataset_name= 'checkerboard',\n",
    "        file_path= 'data/checkerboard_dataset.npy',\n",
    "    )\n",
    "\n",
    "training_data, training_labels, testing_data, testing_labels = data_generator.generate_dataset()\n",
    "training_data = torch.tensor(training_data.to_numpy(), dtype=torch.float32, requires_grad=True)\n",
    "testing_data = torch.tensor(testing_data.to_numpy(), dtype=torch.float32, requires_grad=True)\n",
    "training_labels = torch.tensor(training_labels.to_numpy(), dtype=torch.int)\n",
    "testing_labels = torch.tensor(testing_labels.to_numpy(), dtype=torch.int)\n",
    "multi_class = True if int(training_labels.unique().numel()) == 2 else False\n",
    "\n",
    "\n",
    "kernel = Qkernel(\n",
    "    n_qubits = 2,\n",
    "    trainable = True,\n",
    "    input_scaling = True,\n",
    "    data_reuploading = True,\n",
    "    ansatz = 'embedding_paper',\n",
    "    ansatz_layers = 3,\n",
    "    use_noisy_backend=False,\n",
    "    simulator=None\n",
    ")\n",
    "\n",
    "kernel_noisy = Qkernel(\n",
    "    n_qubits = 2,\n",
    "    trainable = True,\n",
    "    input_scaling = True,\n",
    "    data_reuploading = True,\n",
    "    ansatz = 'embedding_paper',\n",
    "    ansatz_layers = 3,\n",
    "    use_noisy_backend=True,\n",
    "    simulator=simulator\n",
    ")"
   ],
   "id": "bf0bbb950b9ade7c",
   "outputs": [],
   "execution_count": 3
  },
  {
   "metadata": {
    "ExecuteTime": {
     "end_time": "2025-07-28T16:48:52.898006Z",
     "start_time": "2025-07-28T16:48:52.895646Z"
    }
   },
   "cell_type": "code",
   "source": [
    "x1 = training_data[0]\n",
    "x2 = training_data[1]"
   ],
   "id": "830a67484acb2afc",
   "outputs": [],
   "execution_count": 4
  },
  {
   "metadata": {
    "ExecuteTime": {
     "end_time": "2025-07-28T16:51:46.823853Z",
     "start_time": "2025-07-28T16:51:46.821383Z"
    }
   },
   "cell_type": "code",
   "source": [
    "def kernel_alignment(K1: torch.Tensor, K2: torch.Tensor) -> float:\n",
    "    K1 = K1.float()\n",
    "    K2 = K2.float()\n",
    "\n",
    "    numerator = torch.sum(K1 * K2)\n",
    "    denominator = torch.norm(K1, p='fro') * torch.norm(K2, p='fro')\n",
    "\n",
    "    return (numerator / denominator).item()"
   ],
   "id": "4e041c9a1b06f9e9",
   "outputs": [],
   "execution_count": 10
  },
  {
   "metadata": {
    "ExecuteTime": {
     "end_time": "2025-07-28T16:48:52.947481Z",
     "start_time": "2025-07-28T16:48:52.944075Z"
    }
   },
   "cell_type": "code",
   "source": [
    "def generate_kernel_matrix(x1, x2, k):\n",
    "    n1 = x1.shape[0]\n",
    "    n2 = x2.shape[0]\n",
    "    kernel_matrix = torch.zeros((n1, n2), dtype=torch.float32)\n",
    "\n",
    "    for i in range(n1):\n",
    "        for j in range(n2):\n",
    "            kernel_matrix[i, j] = k.forward(x1[i], x2[j])\n",
    "\n",
    "    return kernel_matrix"
   ],
   "id": "71eac2786188d9f4",
   "outputs": [],
   "execution_count": 5
  },
  {
   "metadata": {
    "ExecuteTime": {
     "end_time": "2025-07-28T16:48:54.320701Z",
     "start_time": "2025-07-28T16:48:52.991311Z"
    }
   },
   "cell_type": "code",
   "source": "km = generate_kernel_matrix(training_data, training_data, kernel)",
   "id": "7121ce6598b6f55a",
   "outputs": [
    {
     "name": "stderr",
     "output_type": "stream",
     "text": [
      "/home/digvijay/dev/CCKA-Clustered_Centroid_Kernel_Alignment/utils/qiskit/model.py:121: UserWarning: To copy construct from a tensor, it is recommended to use sourceTensor.detach().clone() or sourceTensor.detach().clone().requires_grad_(True), rather than torch.tensor(sourceTensor).\n",
      "  return torch.tensor(kernel_value, dtype=torch.float32)\n"
     ]
    }
   ],
   "execution_count": 6
  },
  {
   "metadata": {
    "ExecuteTime": {
     "end_time": "2025-07-28T16:49:45.111737Z",
     "start_time": "2025-07-28T16:48:54.370939Z"
    }
   },
   "cell_type": "code",
   "source": "km_noisy = generate_kernel_matrix(training_data, training_data, kernel_noisy)",
   "id": "d9418c8782a2998",
   "outputs": [],
   "execution_count": 7
  },
  {
   "metadata": {
    "ExecuteTime": {
     "end_time": "2025-07-28T16:52:20.163275Z",
     "start_time": "2025-07-28T16:52:20.160536Z"
    }
   },
   "cell_type": "code",
   "source": [
    "alignment_score = kernel_alignment(km, km_noisy)\n",
    "print(f\"Kernel Alignment (Uncentered): {alignment_score:.4f}\")"
   ],
   "id": "c541440e63a5657f",
   "outputs": [
    {
     "name": "stdout",
     "output_type": "stream",
     "text": [
      "Kernel Alignment (Uncentered): 0.7779\n"
     ]
    }
   ],
   "execution_count": 12
  },
  {
   "metadata": {},
   "cell_type": "code",
   "outputs": [],
   "execution_count": null,
   "source": "",
   "id": "62abe2bb3bdf999b"
  }
 ],
 "metadata": {
  "kernelspec": {
   "display_name": "Python 3",
   "language": "python",
   "name": "python3"
  },
  "language_info": {
   "codemirror_mode": {
    "name": "ipython",
    "version": 2
   },
   "file_extension": ".py",
   "mimetype": "text/x-python",
   "name": "python",
   "nbconvert_exporter": "python",
   "pygments_lexer": "ipython2",
   "version": "2.7.6"
  }
 },
 "nbformat": 4,
 "nbformat_minor": 5
}
