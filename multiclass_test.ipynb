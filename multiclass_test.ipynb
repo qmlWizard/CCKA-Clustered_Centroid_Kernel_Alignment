{
 "cells": [
  {
   "metadata": {
    "ExecuteTime": {
     "end_time": "2025-07-21T10:18:05.234877Z",
     "start_time": "2025-07-21T10:18:05.230688Z"
    }
   },
   "cell_type": "code",
   "source": [
    "import torch\n",
    "import ray\n",
    "from ray import tune\n",
    "from ray.air import session\n",
    "from sklearn.model_selection import train_test_split\n",
    "import yaml\n",
    "import argparse\n",
    "import shutil\n",
    "from collections import namedtuple\n",
    "import os\n",
    "import datetime\n",
    "\n",
    "\n",
    "# Custom Libraries\n",
    "from utils.data_generator import DataGenerator\n",
    "from utils.agent import TrainModel\n",
    "from utils.helper import to_python_native, gen_experiment_name, set_seed, save_model_state\n",
    "from utils.plotter import alignment_progress_over_iterations, plot_initial_final_accuracies\n",
    "from utils.pennylane.model import Qkernel"
   ],
   "id": "73fc4ed22cb68042",
   "outputs": [],
   "execution_count": 21
  },
  {
   "metadata": {
    "ExecuteTime": {
     "end_time": "2025-07-21T10:18:05.297265Z",
     "start_time": "2025-07-21T10:18:05.292702Z"
    }
   },
   "cell_type": "code",
   "source": [
    "# === Backend Configuration ===\n",
    "if torch.backends.mps.is_available():\n",
    "    device = torch.device(\"mps\")\n",
    "elif torch.cuda.is_available():\n",
    "    device = torch.device(\"cuda\")\n",
    "elif torch.xpu.is_available():\n",
    "    device = torch.device(\"xpu\")\n",
    "else:\n",
    "    device = torch.device(\"cpu\")\n",
    "\n",
    "set_seed(42)"
   ],
   "id": "6e00a9009403967a",
   "outputs": [],
   "execution_count": 22
  },
  {
   "metadata": {
    "ExecuteTime": {
     "end_time": "2025-07-21T10:18:05.347919Z",
     "start_time": "2025-07-21T10:18:05.340283Z"
    }
   },
   "cell_type": "code",
   "source": [
    "data_generator = DataGenerator(\n",
    "        dataset_name= 'wine',\n",
    "        file_path=None,\n",
    "    )\n",
    "\n",
    "training_data, training_labels, testing_data, testing_labels = data_generator.generate_dataset()\n",
    "training_data = torch.tensor(training_data.to_numpy(), dtype=torch.float32, requires_grad=True)\n",
    "testing_data = torch.tensor(testing_data.to_numpy(), dtype=torch.float32, requires_grad=True)\n",
    "training_labels = torch.tensor(training_labels.to_numpy(), dtype=torch.int)\n",
    "testing_labels = torch.tensor(testing_labels.to_numpy(), dtype=torch.int)"
   ],
   "id": "8eff54c8221ee3f8",
   "outputs": [],
   "execution_count": 23
  },
  {
   "metadata": {
    "ExecuteTime": {
     "end_time": "2025-07-21T10:18:05.391959Z",
     "start_time": "2025-07-21T10:18:05.388325Z"
    }
   },
   "cell_type": "code",
   "source": [
    "print(training_data.size())\n",
    "print(testing_data.size())"
   ],
   "id": "b0795ba50830e58e",
   "outputs": [
    {
     "name": "stdout",
     "output_type": "stream",
     "text": [
      "torch.Size([142, 13])\n",
      "torch.Size([36, 13])\n"
     ]
    }
   ],
   "execution_count": 24
  },
  {
   "metadata": {
    "ExecuteTime": {
     "end_time": "2025-07-21T10:18:05.444239Z",
     "start_time": "2025-07-21T10:18:05.438582Z"
    }
   },
   "cell_type": "code",
   "source": [
    "kernel = Qkernel(\n",
    "        device='lightning.qubit',\n",
    "        n_qubits=4,\n",
    "        trainable=True,\n",
    "        input_scaling=True,\n",
    "        data_reuploading=True,\n",
    "        ansatz='embedding_paper',\n",
    "        ansatz_layers=3\n",
    "    )"
   ],
   "id": "44d5dde088255c59",
   "outputs": [],
   "execution_count": 25
  },
  {
   "metadata": {
    "ExecuteTime": {
     "end_time": "2025-07-21T10:18:05.495947Z",
     "start_time": "2025-07-21T10:18:05.489907Z"
    }
   },
   "cell_type": "code",
   "source": [
    "agent = TrainModel(\n",
    "        kernel=kernel,\n",
    "        training_data=training_data,\n",
    "        training_labels=training_labels,\n",
    "        testing_data=testing_data,\n",
    "        testing_labels=testing_labels,\n",
    "        optimizer='gd',\n",
    "        lr= 0.1,\n",
    "        mclr=0.01,\n",
    "        cclr=0.01,\n",
    "        epochs=100,\n",
    "        train_method='ccka',\n",
    "        target_accuracy=0.95,\n",
    "        get_alignment_every=10,\n",
    "        validate_every_epoch=1,\n",
    "        base_path='./',\n",
    "        lambda_kao=0.001,\n",
    "        lambda_co=0.001,\n",
    "        clusters=10\n",
    "    )"
   ],
   "id": "de729e20ecf68f01",
   "outputs": [
    {
     "name": "stdout",
     "output_type": "stream",
     "text": [
      "Epochs:  10\n"
     ]
    }
   ],
   "execution_count": 26
  },
  {
   "metadata": {
    "ExecuteTime": {
     "end_time": "2025-07-21T10:22:38.991995Z",
     "start_time": "2025-07-21T10:18:05.543122Z"
    }
   },
   "cell_type": "code",
   "source": [
    "before_metrics = agent.evaluate(testing_data, testing_labels, 'before')\n",
    "before_metrics"
   ],
   "id": "e8f8566defb4bf8b",
   "outputs": [
    {
     "data": {
      "text/plain": [
       "{'alignment': tensor(2.6561, grad_fn=<SqueezeBackward0>),\n",
       " 'executions': None,\n",
       " 'training_accuracy': 0.8943661971830986,\n",
       " 'testing_accuracy': 0.7777777777777778,\n",
       " 'f1_score': 0.784795321637427,\n",
       " 'alignment_arr': [[], []],\n",
       " 'loss_arr': [],\n",
       " 'validation_accuracy_arr': []}"
      ]
     },
     "execution_count": 27,
     "metadata": {},
     "output_type": "execute_result"
    }
   ],
   "execution_count": 27
  },
  {
   "metadata": {
    "ExecuteTime": {
     "end_time": "2025-07-21T10:25:18.101801Z",
     "start_time": "2025-07-21T10:22:39.092640Z"
    }
   },
   "cell_type": "code",
   "source": "agent.fit_multiclass(training_data, training_labels)",
   "id": "ead487234afd392a",
   "outputs": [
    {
     "name": "stdout",
     "output_type": "stream",
     "text": [
      "Started Training\n",
      "------------------------------------------------------------------\n",
      "Epoch: 0 — Alignment per main centroid\n",
      "Centroid 0 (label=0): Alignment = -0.5721251368522644\n",
      "Centroid 1 (label=1): Alignment = -0.7101485133171082\n",
      "Centroid 2 (label=2): Alignment = -0.1201796755194664\n",
      "------------------------------------------------------------------\n",
      "------------------------------------------------------------------\n",
      "Epoch: 1 — Alignment per main centroid\n",
      "Centroid 0 (label=0): Alignment = -0.5435969233512878\n",
      "Centroid 1 (label=1): Alignment = -0.6837146878242493\n",
      "Centroid 2 (label=2): Alignment = -0.052386797964572906\n",
      "------------------------------------------------------------------\n",
      "------------------------------------------------------------------\n",
      "Epoch: 2 — Alignment per main centroid\n",
      "Centroid 0 (label=0): Alignment = -0.5388357043266296\n",
      "Centroid 1 (label=1): Alignment = -0.6530607342720032\n",
      "Centroid 2 (label=2): Alignment = -0.03502922132611275\n",
      "------------------------------------------------------------------\n",
      "------------------------------------------------------------------\n",
      "Epoch: 3 — Alignment per main centroid\n",
      "Centroid 0 (label=0): Alignment = -0.546190619468689\n",
      "Centroid 1 (label=1): Alignment = -0.6462613344192505\n",
      "Centroid 2 (label=2): Alignment = -0.037924520671367645\n",
      "------------------------------------------------------------------\n",
      "------------------------------------------------------------------\n",
      "Epoch: 4 — Alignment per main centroid\n",
      "Centroid 0 (label=0): Alignment = -0.5561665296554565\n",
      "Centroid 1 (label=1): Alignment = -0.6425450444221497\n",
      "Centroid 2 (label=2): Alignment = -0.02789832092821598\n",
      "------------------------------------------------------------------\n",
      "------------------------------------------------------------------\n",
      "Epoch: 5 — Alignment per main centroid\n",
      "Centroid 0 (label=0): Alignment = -0.5623682737350464\n",
      "Centroid 1 (label=1): Alignment = -0.6358569860458374\n",
      "Centroid 2 (label=2): Alignment = -0.0005627262871712446\n",
      "------------------------------------------------------------------\n",
      "------------------------------------------------------------------\n",
      "Epoch: 6 — Alignment per main centroid\n",
      "Centroid 0 (label=0): Alignment = -0.5646806955337524\n",
      "Centroid 1 (label=1): Alignment = -0.6291283965110779\n",
      "Centroid 2 (label=2): Alignment = 0.030413083732128143\n",
      "------------------------------------------------------------------\n",
      "------------------------------------------------------------------\n",
      "Epoch: 7 — Alignment per main centroid\n",
      "Centroid 0 (label=0): Alignment = -0.5593599677085876\n",
      "Centroid 1 (label=1): Alignment = -0.623701810836792\n",
      "Centroid 2 (label=2): Alignment = 0.0488026924431324\n",
      "------------------------------------------------------------------\n",
      "------------------------------------------------------------------\n",
      "Epoch: 8 — Alignment per main centroid\n",
      "Centroid 0 (label=0): Alignment = -0.5508982539176941\n",
      "Centroid 1 (label=1): Alignment = -0.6165499091148376\n",
      "Centroid 2 (label=2): Alignment = 0.08635350316762924\n",
      "------------------------------------------------------------------\n",
      "------------------------------------------------------------------\n",
      "Epoch: 9 — Alignment per main centroid\n",
      "Centroid 0 (label=0): Alignment = -0.5545536279678345\n",
      "Centroid 1 (label=1): Alignment = -0.6056270003318787\n",
      "Centroid 2 (label=2): Alignment = 0.13330167531967163\n",
      "------------------------------------------------------------------\n"
     ]
    },
    {
     "data": {
      "text/plain": [
       "(Qkernel(),\n",
       " [Parameter containing:\n",
       "  tensor([[1.2996, 0.8045, 0.7182, 1.3321],\n",
       "          [1.2320, 0.9792, 0.8738, 0.9024],\n",
       "          [1.1460, 2.0529, 0.5664, 1.1596]], requires_grad=True),\n",
       "  Parameter containing:\n",
       "  tensor([[ 1.8641,  2.4850, -1.4819,  2.0193],\n",
       "          [-0.2380,  0.0907, -1.3022,  1.9428],\n",
       "          [ 2.6082, -2.1705,  2.5716,  0.5537]], requires_grad=True),\n",
       "  Parameter containing:\n",
       "  tensor([[ 1.0367,  0.5376,  1.4998,  0.2749],\n",
       "          [ 2.9003,  0.0324, -1.2780,  0.2352],\n",
       "          [-1.3631, -0.3470, -1.2017,  1.9627]], requires_grad=True)],\n",
       " ParameterList(\n",
       "     (0): Parameter containing: [torch.float32 of size 13]\n",
       "     (1): Parameter containing: [torch.float32 of size 13]\n",
       "     (2): Parameter containing: [torch.float32 of size 13]\n",
       " ),\n",
       " ParameterList(\n",
       "     (0): Parameter containing: [torch.float32 of size 13]\n",
       "     (1): Parameter containing: [torch.float32 of size 13]\n",
       "     (2): Parameter containing: [torch.float32 of size 13]\n",
       "     (3): Parameter containing: [torch.float32 of size 13]\n",
       "     (4): Parameter containing: [torch.float32 of size 13]\n",
       "     (5): Parameter containing: [torch.float32 of size 13]\n",
       "     (6): Parameter containing: [torch.float32 of size 13]\n",
       "     (7): Parameter containing: [torch.float32 of size 13]\n",
       "     (8): Parameter containing: [torch.float32 of size 13]\n",
       "     (9): Parameter containing: [torch.float32 of size 13]\n",
       "     (10): Parameter containing: [torch.float32 of size 13]\n",
       "     (11): Parameter containing: [torch.float32 of size 13]\n",
       "     (12): Parameter containing: [torch.float32 of size 13]\n",
       "     (13): Parameter containing: [torch.float32 of size 13]\n",
       "     (14): Parameter containing: [torch.float32 of size 13]\n",
       "     (15): Parameter containing: [torch.float32 of size 13]\n",
       "     (16): Parameter containing: [torch.float32 of size 13]\n",
       "     (17): Parameter containing: [torch.float32 of size 13]\n",
       "     (18): Parameter containing: [torch.float32 of size 13]\n",
       "     (19): Parameter containing: [torch.float32 of size 13]\n",
       "     (20): Parameter containing: [torch.float32 of size 13]\n",
       "     (21): Parameter containing: [torch.float32 of size 13]\n",
       "     (22): Parameter containing: [torch.float32 of size 13]\n",
       "     (23): Parameter containing: [torch.float32 of size 13]\n",
       "     (24): Parameter containing: [torch.float32 of size 13]\n",
       "     (25): Parameter containing: [torch.float32 of size 13]\n",
       "     (26): Parameter containing: [torch.float32 of size 13]\n",
       "     (27): Parameter containing: [torch.float32 of size 13]\n",
       "     (28): Parameter containing: [torch.float32 of size 13]\n",
       "     (29): Parameter containing: [torch.float32 of size 13]\n",
       " ))"
      ]
     },
     "execution_count": 28,
     "metadata": {},
     "output_type": "execute_result"
    }
   ],
   "execution_count": 28
  },
  {
   "metadata": {
    "ExecuteTime": {
     "end_time": "2025-07-21T11:04:15.752017Z",
     "start_time": "2025-07-21T11:01:19.687170Z"
    }
   },
   "cell_type": "code",
   "source": [
    "after_metrics = agent.evaluate(testing_data, testing_labels, 'after')\n",
    "after_metrics"
   ],
   "id": "dd0c5b40fdf3028f",
   "outputs": [
    {
     "data": {
      "text/plain": [
       "{'alignment': tensor(2.3824, grad_fn=<SqueezeBackward0>),\n",
       " 'executions': 9000,\n",
       " 'training_accuracy': 0.7887323943661971,\n",
       " 'testing_accuracy': 0.6666666666666666,\n",
       " 'f1_score': 0.674727668845316,\n",
       " 'alignment_arr': [[], []],\n",
       " 'loss_arr': [],\n",
       " 'validation_accuracy_arr': []}"
      ]
     },
     "execution_count": 30,
     "metadata": {},
     "output_type": "execute_result"
    }
   ],
   "execution_count": 30
  }
 ],
 "metadata": {
  "kernelspec": {
   "display_name": "Python 3",
   "language": "python",
   "name": "python3"
  },
  "language_info": {
   "codemirror_mode": {
    "name": "ipython",
    "version": 2
   },
   "file_extension": ".py",
   "mimetype": "text/x-python",
   "name": "python",
   "nbconvert_exporter": "python",
   "pygments_lexer": "ipython2",
   "version": "2.7.6"
  }
 },
 "nbformat": 4,
 "nbformat_minor": 5
}
