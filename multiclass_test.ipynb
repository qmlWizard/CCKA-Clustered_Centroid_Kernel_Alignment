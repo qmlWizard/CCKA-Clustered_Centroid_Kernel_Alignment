{
 "cells": [
  {
   "metadata": {
    "ExecuteTime": {
     "end_time": "2025-07-24T08:25:04.341058Z",
     "start_time": "2025-07-24T08:25:01.713164Z"
    }
   },
   "cell_type": "code",
   "source": [
    "import torch\n",
    "import ray\n",
    "from ray import tune\n",
    "from ray.air import session\n",
    "from sklearn.model_selection import train_test_split\n",
    "import yaml\n",
    "import argparse\n",
    "import shutil\n",
    "from collections import namedtuple\n",
    "import os\n",
    "import datetime\n",
    "\n",
    "\n",
    "# Custom Libraries\n",
    "from utils.data_generator import DataGenerator\n",
    "from utils.agent import TrainModel\n",
    "from utils.helper import to_python_native, gen_experiment_name, set_seed, save_model_state\n",
    "from utils.plotter import alignment_progress_over_iterations, plot_initial_final_accuracies\n",
    "from utils.pennylane.model import Qkernel"
   ],
   "id": "73fc4ed22cb68042",
   "outputs": [
    {
     "name": "stderr",
     "output_type": "stream",
     "text": [
      "2025-07-24 10:25:03,321\tINFO util.py:154 -- Missing packages: ['ipywidgets']. Run `pip install -U ipywidgets`, then restart the notebook server for rich notebook output.\n",
      "2025-07-24 10:25:03,641\tINFO util.py:154 -- Missing packages: ['ipywidgets']. Run `pip install -U ipywidgets`, then restart the notebook server for rich notebook output.\n"
     ]
    }
   ],
   "execution_count": 1
  },
  {
   "metadata": {
    "ExecuteTime": {
     "end_time": "2025-07-24T08:25:06.158066Z",
     "start_time": "2025-07-24T08:25:06.154182Z"
    }
   },
   "cell_type": "code",
   "source": [
    "# === Backend Configuration ===\n",
    "if torch.backends.mps.is_available():\n",
    "    device = torch.device(\"mps\")\n",
    "elif torch.cuda.is_available():\n",
    "    device = torch.device(\"cuda\")\n",
    "elif torch.xpu.is_available():\n",
    "    device = torch.device(\"xpu\")\n",
    "else:\n",
    "    device = torch.device(\"cpu\")\n",
    "\n",
    "set_seed(42)"
   ],
   "id": "6e00a9009403967a",
   "outputs": [],
   "execution_count": 2
  },
  {
   "metadata": {
    "ExecuteTime": {
     "end_time": "2025-07-23T12:22:16.788654479Z",
     "start_time": "2025-07-23T12:15:58.190689Z"
    }
   },
   "cell_type": "code",
   "source": [
    "data_generator = DataGenerator(\n",
    "        dataset_name= 'wine',\n",
    "        file_path=None,\n",
    "    )\n",
    "\n",
    "training_data, training_labels, testing_data, testing_labels = data_generator.generate_dataset()\n",
    "training_data = torch.tensor(training_data.to_numpy(), dtype=torch.float32, requires_grad=True)\n",
    "testing_data = torch.tensor(testing_data.to_numpy(), dtype=torch.float32, requires_grad=True)\n",
    "training_labels = torch.tensor(training_labels.to_numpy(), dtype=torch.int)\n",
    "testing_labels = torch.tensor(testing_labels.to_numpy(), dtype=torch.int)"
   ],
   "id": "8eff54c8221ee3f8",
   "outputs": [],
   "execution_count": 41
  },
  {
   "metadata": {
    "ExecuteTime": {
     "end_time": "2025-07-23T12:22:16.789108652Z",
     "start_time": "2025-07-23T12:15:58.239075Z"
    }
   },
   "cell_type": "code",
   "source": [
    "print(training_data.size())\n",
    "print(testing_data.size())"
   ],
   "id": "b0795ba50830e58e",
   "outputs": [
    {
     "name": "stdout",
     "output_type": "stream",
     "text": [
      "torch.Size([142, 13])\n",
      "torch.Size([36, 13])\n"
     ]
    }
   ],
   "execution_count": 42
  },
  {
   "metadata": {
    "ExecuteTime": {
     "end_time": "2025-07-23T12:22:16.789577714Z",
     "start_time": "2025-07-23T12:15:58.291089Z"
    }
   },
   "cell_type": "code",
   "source": [
    "kernel = Qkernel(\n",
    "        device='lightning.qubit',\n",
    "        n_qubits=4,\n",
    "        trainable=True,\n",
    "        input_scaling=True,\n",
    "        data_reuploading=True,\n",
    "        ansatz='embedding_paper',\n",
    "        ansatz_layers=5\n",
    "    )"
   ],
   "id": "44d5dde088255c59",
   "outputs": [],
   "execution_count": 43
  },
  {
   "metadata": {
    "ExecuteTime": {
     "end_time": "2025-07-23T12:22:16.789931399Z",
     "start_time": "2025-07-23T12:15:58.339465Z"
    }
   },
   "cell_type": "code",
   "source": [
    "agent = TrainModel(\n",
    "        kernel=kernel,\n",
    "        training_data=training_data,\n",
    "        training_labels=training_labels,\n",
    "        testing_data=testing_data,\n",
    "        testing_labels=testing_labels,\n",
    "        optimizer='gd',\n",
    "        lr= 0.1,\n",
    "        mclr=0.01,\n",
    "        cclr=0.01,\n",
    "        epochs=400,\n",
    "        train_method='ccka',\n",
    "        target_accuracy=0.95,\n",
    "        get_alignment_every=100,\n",
    "        validate_every_epoch=1,\n",
    "        base_path='./',\n",
    "        lambda_kao=0.001,\n",
    "        lambda_co=0.001,\n",
    "        clusters=8\n",
    "    )"
   ],
   "id": "de729e20ecf68f01",
   "outputs": [
    {
     "name": "stdout",
     "output_type": "stream",
     "text": [
      "Epochs:  40\n"
     ]
    }
   ],
   "execution_count": 44
  },
  {
   "metadata": {
    "ExecuteTime": {
     "end_time": "2025-07-23T12:22:16.790386418Z",
     "start_time": "2025-07-23T12:15:58.386612Z"
    }
   },
   "cell_type": "code",
   "source": [
    "before_metrics = agent.evaluate(testing_data, testing_labels, 'before')\n",
    "before_metrics"
   ],
   "id": "e8f8566defb4bf8b",
   "outputs": [
    {
     "data": {
      "text/plain": [
       "{'alignment': tensor(1.5675, grad_fn=<SqueezeBackward0>),\n",
       " 'executions': None,\n",
       " 'training_accuracy': 0.9577464788732394,\n",
       " 'testing_accuracy': 0.8055555555555556,\n",
       " 'f1_score': 0.8130839550984743,\n",
       " 'alignment_arr': [[], []],\n",
       " 'loss_arr': [],\n",
       " 'validation_accuracy_arr': []}"
      ]
     },
     "execution_count": 45,
     "metadata": {},
     "output_type": "execute_result"
    }
   ],
   "execution_count": 45
  },
  {
   "metadata": {
    "ExecuteTime": {
     "end_time": "2025-07-23T12:22:16.782495Z",
     "start_time": "2025-07-23T12:18:33.417057Z"
    }
   },
   "cell_type": "code",
   "source": "agent.fit_multiclass(training_data, training_labels)",
   "id": "ead487234afd392a",
   "outputs": [
    {
     "name": "stdout",
     "output_type": "stream",
     "text": [
      "Started Training\n",
      "------------------------------------------------------------------\n",
      "Epoch: 9 — Alignment per main centroid\n",
      "Centroid 0 (label=0): Alignment = -0.43751469254493713\n",
      "Centroid 1 (label=1): Alignment = -0.46624064445495605\n",
      "Centroid 2 (label=2): Alignment = 0.17968833446502686\n",
      "------------------------------------------------------------------\n",
      "------------------------------------------------------------------\n",
      "Epoch: 19 — Alignment per main centroid\n",
      "Centroid 0 (label=0): Alignment = -0.4552779495716095\n",
      "Centroid 1 (label=1): Alignment = -0.5152655839920044\n",
      "Centroid 2 (label=2): Alignment = 0.3714822232723236\n",
      "------------------------------------------------------------------\n"
     ]
    },
    {
     "ename": "KeyboardInterrupt",
     "evalue": "",
     "output_type": "error",
     "traceback": [
      "\u001B[0;31m---------------------------------------------------------------------------\u001B[0m",
      "\u001B[0;31mKeyboardInterrupt\u001B[0m                         Traceback (most recent call last)",
      "Cell \u001B[0;32mIn[46], line 1\u001B[0m\n\u001B[0;32m----> 1\u001B[0m \u001B[43magent\u001B[49m\u001B[38;5;241;43m.\u001B[39;49m\u001B[43mfit_multiclass\u001B[49m\u001B[43m(\u001B[49m\u001B[43mtraining_data\u001B[49m\u001B[43m,\u001B[49m\u001B[43m \u001B[49m\u001B[43mtraining_labels\u001B[49m\u001B[43m)\u001B[49m\n",
      "File \u001B[0;32m~/dev/CCKA-Clustered_Centroid_Kernel_Alignment/utils/agent.py:369\u001B[0m, in \u001B[0;36mTrainModel.fit_multiclass\u001B[0;34m(self, training_data, training_labels)\u001B[0m\n\u001B[1;32m    367\u001B[0m x_0 \u001B[38;5;241m=\u001B[39m main_centroid\u001B[38;5;241m.\u001B[39mrepeat(class_centroids\u001B[38;5;241m.\u001B[39mshape[\u001B[38;5;241m0\u001B[39m], \u001B[38;5;241m1\u001B[39m)\n\u001B[1;32m    368\u001B[0m x_1 \u001B[38;5;241m=\u001B[39m class_centroids\n\u001B[0;32m--> 369\u001B[0m K \u001B[38;5;241m=\u001B[39m \u001B[38;5;28;43mself\u001B[39;49m\u001B[38;5;241;43m.\u001B[39;49m\u001B[43m_kernel\u001B[49m\u001B[43m(\u001B[49m\u001B[43mx_0\u001B[49m\u001B[43m,\u001B[49m\u001B[43m \u001B[49m\u001B[43mx_1\u001B[49m\u001B[43m)\u001B[49m\u001B[38;5;241m.\u001B[39mto(torch\u001B[38;5;241m.\u001B[39mfloat32)\n\u001B[1;32m    370\u001B[0m \u001B[38;5;28mself\u001B[39m\u001B[38;5;241m.\u001B[39m_optimizers[_class]\u001B[38;5;241m.\u001B[39mzero_grad()\n\u001B[1;32m    371\u001B[0m current_label \u001B[38;5;241m=\u001B[39m \u001B[38;5;28mself\u001B[39m\u001B[38;5;241m.\u001B[39m_n_classes[_class]\u001B[38;5;241m.\u001B[39mitem()\n",
      "File \u001B[0;32m~/dev/CCKA-Clustered_Centroid_Kernel_Alignment/.venv/lib/python3.9/site-packages/torch/nn/modules/module.py:1751\u001B[0m, in \u001B[0;36mModule._wrapped_call_impl\u001B[0;34m(self, *args, **kwargs)\u001B[0m\n\u001B[1;32m   1749\u001B[0m     \u001B[38;5;28;01mreturn\u001B[39;00m \u001B[38;5;28mself\u001B[39m\u001B[38;5;241m.\u001B[39m_compiled_call_impl(\u001B[38;5;241m*\u001B[39margs, \u001B[38;5;241m*\u001B[39m\u001B[38;5;241m*\u001B[39mkwargs)  \u001B[38;5;66;03m# type: ignore[misc]\u001B[39;00m\n\u001B[1;32m   1750\u001B[0m \u001B[38;5;28;01melse\u001B[39;00m:\n\u001B[0;32m-> 1751\u001B[0m     \u001B[38;5;28;01mreturn\u001B[39;00m \u001B[38;5;28;43mself\u001B[39;49m\u001B[38;5;241;43m.\u001B[39;49m\u001B[43m_call_impl\u001B[49m\u001B[43m(\u001B[49m\u001B[38;5;241;43m*\u001B[39;49m\u001B[43margs\u001B[49m\u001B[43m,\u001B[49m\u001B[43m \u001B[49m\u001B[38;5;241;43m*\u001B[39;49m\u001B[38;5;241;43m*\u001B[39;49m\u001B[43mkwargs\u001B[49m\u001B[43m)\u001B[49m\n",
      "File \u001B[0;32m~/dev/CCKA-Clustered_Centroid_Kernel_Alignment/.venv/lib/python3.9/site-packages/torch/nn/modules/module.py:1762\u001B[0m, in \u001B[0;36mModule._call_impl\u001B[0;34m(self, *args, **kwargs)\u001B[0m\n\u001B[1;32m   1757\u001B[0m \u001B[38;5;66;03m# If we don't have any hooks, we want to skip the rest of the logic in\u001B[39;00m\n\u001B[1;32m   1758\u001B[0m \u001B[38;5;66;03m# this function, and just call forward.\u001B[39;00m\n\u001B[1;32m   1759\u001B[0m \u001B[38;5;28;01mif\u001B[39;00m \u001B[38;5;129;01mnot\u001B[39;00m (\u001B[38;5;28mself\u001B[39m\u001B[38;5;241m.\u001B[39m_backward_hooks \u001B[38;5;129;01mor\u001B[39;00m \u001B[38;5;28mself\u001B[39m\u001B[38;5;241m.\u001B[39m_backward_pre_hooks \u001B[38;5;129;01mor\u001B[39;00m \u001B[38;5;28mself\u001B[39m\u001B[38;5;241m.\u001B[39m_forward_hooks \u001B[38;5;129;01mor\u001B[39;00m \u001B[38;5;28mself\u001B[39m\u001B[38;5;241m.\u001B[39m_forward_pre_hooks\n\u001B[1;32m   1760\u001B[0m         \u001B[38;5;129;01mor\u001B[39;00m _global_backward_pre_hooks \u001B[38;5;129;01mor\u001B[39;00m _global_backward_hooks\n\u001B[1;32m   1761\u001B[0m         \u001B[38;5;129;01mor\u001B[39;00m _global_forward_hooks \u001B[38;5;129;01mor\u001B[39;00m _global_forward_pre_hooks):\n\u001B[0;32m-> 1762\u001B[0m     \u001B[38;5;28;01mreturn\u001B[39;00m \u001B[43mforward_call\u001B[49m\u001B[43m(\u001B[49m\u001B[38;5;241;43m*\u001B[39;49m\u001B[43margs\u001B[49m\u001B[43m,\u001B[49m\u001B[43m \u001B[49m\u001B[38;5;241;43m*\u001B[39;49m\u001B[38;5;241;43m*\u001B[39;49m\u001B[43mkwargs\u001B[49m\u001B[43m)\u001B[49m\n\u001B[1;32m   1764\u001B[0m result \u001B[38;5;241m=\u001B[39m \u001B[38;5;28;01mNone\u001B[39;00m\n\u001B[1;32m   1765\u001B[0m called_always_called_hooks \u001B[38;5;241m=\u001B[39m \u001B[38;5;28mset\u001B[39m()\n",
      "File \u001B[0;32m~/dev/CCKA-Clustered_Centroid_Kernel_Alignment/utils/pennylane/model.py:57\u001B[0m, in \u001B[0;36mQkernel.forward\u001B[0;34m(self, x1, x2)\u001B[0m\n\u001B[1;32m     56\u001B[0m \u001B[38;5;28;01mdef\u001B[39;00m\u001B[38;5;250m \u001B[39m\u001B[38;5;21mforward\u001B[39m(\u001B[38;5;28mself\u001B[39m, x1, x2):\n\u001B[0;32m---> 57\u001B[0m     all_zero_state \u001B[38;5;241m=\u001B[39m \u001B[38;5;28;43mself\u001B[39;49m\u001B[38;5;241;43m.\u001B[39;49m\u001B[43m_kernel\u001B[49m\u001B[43m(\u001B[49m\u001B[43mx1\u001B[49m\u001B[43m,\u001B[49m\u001B[43m \u001B[49m\u001B[43mx2\u001B[49m\u001B[43m,\u001B[49m\u001B[43m \u001B[49m\u001B[38;5;28;43mself\u001B[39;49m\u001B[38;5;241;43m.\u001B[39;49m\u001B[43m_parameters\u001B[49m\u001B[43m,\u001B[49m\u001B[43m \u001B[49m\u001B[38;5;28;43mself\u001B[39;49m\u001B[38;5;241;43m.\u001B[39;49m\u001B[43m_wires\u001B[49m\u001B[43m,\u001B[49m\u001B[43m \u001B[49m\u001B[38;5;28;43mself\u001B[39;49m\u001B[38;5;241;43m.\u001B[39;49m\u001B[43m_layers\u001B[49m\u001B[43m,\u001B[49m\u001B[43m \u001B[49m\u001B[38;5;28;43mself\u001B[39;49m\u001B[38;5;241;43m.\u001B[39;49m\u001B[43m_projector\u001B[49m\u001B[43m,\u001B[49m\u001B[43m \u001B[49m\u001B[38;5;28;43mself\u001B[39;49m\u001B[38;5;241;43m.\u001B[39;49m\u001B[43m_data_reuploading\u001B[49m\u001B[43m)\u001B[49m\n\u001B[1;32m     58\u001B[0m     \u001B[38;5;28mself\u001B[39m\u001B[38;5;241m.\u001B[39m_circuit_executions \u001B[38;5;241m+\u001B[39m\u001B[38;5;241m=\u001B[39m \u001B[38;5;241m1\u001B[39m\n\u001B[1;32m     59\u001B[0m     \u001B[38;5;28;01mreturn\u001B[39;00m torch\u001B[38;5;241m.\u001B[39mabs(all_zero_state) \u001B[38;5;241m*\u001B[39m\u001B[38;5;241m*\u001B[39m \u001B[38;5;241m2\u001B[39m\n",
      "File \u001B[0;32m~/dev/CCKA-Clustered_Centroid_Kernel_Alignment/.venv/lib/python3.9/site-packages/pennylane/workflow/qnode.py:1020\u001B[0m, in \u001B[0;36mQNode.__call__\u001B[0;34m(self, *args, **kwargs)\u001B[0m\n\u001B[1;32m   1018\u001B[0m \u001B[38;5;28;01mif\u001B[39;00m qml\u001B[38;5;241m.\u001B[39mcapture\u001B[38;5;241m.\u001B[39menabled():\n\u001B[1;32m   1019\u001B[0m     \u001B[38;5;28;01mreturn\u001B[39;00m qml\u001B[38;5;241m.\u001B[39mcapture\u001B[38;5;241m.\u001B[39mqnode_call(\u001B[38;5;28mself\u001B[39m, \u001B[38;5;241m*\u001B[39margs, \u001B[38;5;241m*\u001B[39m\u001B[38;5;241m*\u001B[39mkwargs)\n\u001B[0;32m-> 1020\u001B[0m \u001B[38;5;28;01mreturn\u001B[39;00m \u001B[38;5;28;43mself\u001B[39;49m\u001B[38;5;241;43m.\u001B[39;49m\u001B[43m_impl_call\u001B[49m\u001B[43m(\u001B[49m\u001B[38;5;241;43m*\u001B[39;49m\u001B[43margs\u001B[49m\u001B[43m,\u001B[49m\u001B[43m \u001B[49m\u001B[38;5;241;43m*\u001B[39;49m\u001B[38;5;241;43m*\u001B[39;49m\u001B[43mkwargs\u001B[49m\u001B[43m)\u001B[49m\n",
      "File \u001B[0;32m~/dev/CCKA-Clustered_Centroid_Kernel_Alignment/.venv/lib/python3.9/site-packages/pennylane/workflow/qnode.py:1008\u001B[0m, in \u001B[0;36mQNode._impl_call\u001B[0;34m(self, *args, **kwargs)\u001B[0m\n\u001B[1;32m   1005\u001B[0m \u001B[38;5;28mself\u001B[39m\u001B[38;5;241m.\u001B[39m_update_gradient_fn(shots\u001B[38;5;241m=\u001B[39moverride_shots, tape\u001B[38;5;241m=\u001B[39m\u001B[38;5;28mself\u001B[39m\u001B[38;5;241m.\u001B[39m_tape)\n\u001B[1;32m   1007\u001B[0m \u001B[38;5;28;01mtry\u001B[39;00m:\n\u001B[0;32m-> 1008\u001B[0m     res \u001B[38;5;241m=\u001B[39m \u001B[38;5;28;43mself\u001B[39;49m\u001B[38;5;241;43m.\u001B[39;49m\u001B[43m_execution_component\u001B[49m\u001B[43m(\u001B[49m\u001B[43margs\u001B[49m\u001B[43m,\u001B[49m\u001B[43m \u001B[49m\u001B[43mkwargs\u001B[49m\u001B[43m,\u001B[49m\u001B[43m \u001B[49m\u001B[43moverride_shots\u001B[49m\u001B[38;5;241;43m=\u001B[39;49m\u001B[43moverride_shots\u001B[49m\u001B[43m)\u001B[49m\n\u001B[1;32m   1009\u001B[0m \u001B[38;5;28;01mfinally\u001B[39;00m:\n\u001B[1;32m   1010\u001B[0m     \u001B[38;5;28;01mif\u001B[39;00m old_interface \u001B[38;5;241m==\u001B[39m \u001B[38;5;124m\"\u001B[39m\u001B[38;5;124mauto\u001B[39m\u001B[38;5;124m\"\u001B[39m:\n",
      "File \u001B[0;32m~/dev/CCKA-Clustered_Centroid_Kernel_Alignment/.venv/lib/python3.9/site-packages/pennylane/workflow/qnode.py:957\u001B[0m, in \u001B[0;36mQNode._execution_component\u001B[0;34m(self, args, kwargs, override_shots)\u001B[0m\n\u001B[1;32m    951\u001B[0m     warnings\u001B[38;5;241m.\u001B[39mfilterwarnings(\n\u001B[1;32m    952\u001B[0m         action\u001B[38;5;241m=\u001B[39m\u001B[38;5;124m\"\u001B[39m\u001B[38;5;124mignore\u001B[39m\u001B[38;5;124m\"\u001B[39m,\n\u001B[1;32m    953\u001B[0m         message\u001B[38;5;241m=\u001B[39m\u001B[38;5;124mr\u001B[39m\u001B[38;5;124m\"\u001B[39m\u001B[38;5;124m.*argument is deprecated and will be removed in version 0.39.*\u001B[39m\u001B[38;5;124m\"\u001B[39m,\n\u001B[1;32m    954\u001B[0m         category\u001B[38;5;241m=\u001B[39mqml\u001B[38;5;241m.\u001B[39mPennyLaneDeprecationWarning,\n\u001B[1;32m    955\u001B[0m     )\n\u001B[1;32m    956\u001B[0m     \u001B[38;5;66;03m# pylint: disable=unexpected-keyword-arg\u001B[39;00m\n\u001B[0;32m--> 957\u001B[0m     res \u001B[38;5;241m=\u001B[39m \u001B[43mqml\u001B[49m\u001B[38;5;241;43m.\u001B[39;49m\u001B[43mexecute\u001B[49m\u001B[43m(\u001B[49m\n\u001B[1;32m    958\u001B[0m \u001B[43m        \u001B[49m\u001B[43m(\u001B[49m\u001B[38;5;28;43mself\u001B[39;49m\u001B[38;5;241;43m.\u001B[39;49m\u001B[43m_tape\u001B[49m\u001B[43m,\u001B[49m\u001B[43m)\u001B[49m\u001B[43m,\u001B[49m\n\u001B[1;32m    959\u001B[0m \u001B[43m        \u001B[49m\u001B[43mdevice\u001B[49m\u001B[38;5;241;43m=\u001B[39;49m\u001B[38;5;28;43mself\u001B[39;49m\u001B[38;5;241;43m.\u001B[39;49m\u001B[43mdevice\u001B[49m\u001B[43m,\u001B[49m\n\u001B[1;32m    960\u001B[0m \u001B[43m        \u001B[49m\u001B[43mgradient_fn\u001B[49m\u001B[38;5;241;43m=\u001B[39;49m\u001B[38;5;28;43mself\u001B[39;49m\u001B[38;5;241;43m.\u001B[39;49m\u001B[43mgradient_fn\u001B[49m\u001B[43m,\u001B[49m\n\u001B[1;32m    961\u001B[0m \u001B[43m        \u001B[49m\u001B[43minterface\u001B[49m\u001B[38;5;241;43m=\u001B[39;49m\u001B[38;5;28;43mself\u001B[39;49m\u001B[38;5;241;43m.\u001B[39;49m\u001B[43minterface\u001B[49m\u001B[43m,\u001B[49m\n\u001B[1;32m    962\u001B[0m \u001B[43m        \u001B[49m\u001B[43mtransform_program\u001B[49m\u001B[38;5;241;43m=\u001B[39;49m\u001B[43mfull_transform_program\u001B[49m\u001B[43m,\u001B[49m\n\u001B[1;32m    963\u001B[0m \u001B[43m        \u001B[49m\u001B[43minner_transform\u001B[49m\u001B[38;5;241;43m=\u001B[39;49m\u001B[43minner_transform_program\u001B[49m\u001B[43m,\u001B[49m\n\u001B[1;32m    964\u001B[0m \u001B[43m        \u001B[49m\u001B[43mconfig\u001B[49m\u001B[38;5;241;43m=\u001B[39;49m\u001B[43mconfig\u001B[49m\u001B[43m,\u001B[49m\n\u001B[1;32m    965\u001B[0m \u001B[43m        \u001B[49m\u001B[43mgradient_kwargs\u001B[49m\u001B[38;5;241;43m=\u001B[39;49m\u001B[38;5;28;43mself\u001B[39;49m\u001B[38;5;241;43m.\u001B[39;49m\u001B[43mgradient_kwargs\u001B[49m\u001B[43m,\u001B[49m\n\u001B[1;32m    966\u001B[0m \u001B[43m        \u001B[49m\u001B[43moverride_shots\u001B[49m\u001B[38;5;241;43m=\u001B[39;49m\u001B[43moverride_shots\u001B[49m\u001B[43m,\u001B[49m\n\u001B[1;32m    967\u001B[0m \u001B[43m        \u001B[49m\u001B[38;5;241;43m*\u001B[39;49m\u001B[38;5;241;43m*\u001B[39;49m\u001B[43mexecute_kwargs\u001B[49m\u001B[43m,\u001B[49m\n\u001B[1;32m    968\u001B[0m \u001B[43m    \u001B[49m\u001B[43m)\u001B[49m\n\u001B[1;32m    969\u001B[0m res \u001B[38;5;241m=\u001B[39m res[\u001B[38;5;241m0\u001B[39m]\n\u001B[1;32m    971\u001B[0m \u001B[38;5;66;03m# convert result to the interface in case the qfunc has no parameters\u001B[39;00m\n",
      "File \u001B[0;32m~/dev/CCKA-Clustered_Centroid_Kernel_Alignment/.venv/lib/python3.9/site-packages/pennylane/workflow/execution.py:771\u001B[0m, in \u001B[0;36mexecute\u001B[0;34m(tapes, device, gradient_fn, interface, transform_program, inner_transform, config, grad_on_execution, gradient_kwargs, cache, cachesize, max_diff, override_shots, expand_fn, max_expansion, device_batch_transform, device_vjp, mcm_config)\u001B[0m\n\u001B[1;32m    763\u001B[0m ml_boundary_execute \u001B[38;5;241m=\u001B[39m _get_ml_boundary_execute(\n\u001B[1;32m    764\u001B[0m     interface,\n\u001B[1;32m    765\u001B[0m     config\u001B[38;5;241m.\u001B[39mgrad_on_execution,\n\u001B[1;32m    766\u001B[0m     config\u001B[38;5;241m.\u001B[39muse_device_jacobian_product,\n\u001B[1;32m    767\u001B[0m     differentiable\u001B[38;5;241m=\u001B[39mmax_diff \u001B[38;5;241m>\u001B[39m \u001B[38;5;241m1\u001B[39m,\n\u001B[1;32m    768\u001B[0m )\n\u001B[1;32m    770\u001B[0m \u001B[38;5;28;01mif\u001B[39;00m interface \u001B[38;5;129;01min\u001B[39;00m jpc_interfaces:\n\u001B[0;32m--> 771\u001B[0m     results \u001B[38;5;241m=\u001B[39m \u001B[43mml_boundary_execute\u001B[49m\u001B[43m(\u001B[49m\u001B[43mtapes\u001B[49m\u001B[43m,\u001B[49m\u001B[43m \u001B[49m\u001B[43mexecute_fn\u001B[49m\u001B[43m,\u001B[49m\u001B[43m \u001B[49m\u001B[43mjpc\u001B[49m\u001B[43m,\u001B[49m\u001B[43m \u001B[49m\u001B[43mdevice\u001B[49m\u001B[38;5;241;43m=\u001B[39;49m\u001B[43mdevice\u001B[49m\u001B[43m)\u001B[49m\n\u001B[1;32m    772\u001B[0m \u001B[38;5;28;01melse\u001B[39;00m:\n\u001B[1;32m    773\u001B[0m     results \u001B[38;5;241m=\u001B[39m ml_boundary_execute(\n\u001B[1;32m    774\u001B[0m         tapes, device, execute_fn, gradient_fn, gradient_kwargs, _n\u001B[38;5;241m=\u001B[39m\u001B[38;5;241m1\u001B[39m, max_diff\u001B[38;5;241m=\u001B[39mmax_diff\n\u001B[1;32m    775\u001B[0m     )\n",
      "File \u001B[0;32m~/dev/CCKA-Clustered_Centroid_Kernel_Alignment/.venv/lib/python3.9/site-packages/pennylane/workflow/interfaces/torch.py:236\u001B[0m, in \u001B[0;36mexecute\u001B[0;34m(tapes, execute_fn, jpc, device)\u001B[0m\n\u001B[1;32m    228\u001B[0m     parameters\u001B[38;5;241m.\u001B[39mextend(tape\u001B[38;5;241m.\u001B[39mget_parameters())\n\u001B[1;32m    230\u001B[0m kwargs \u001B[38;5;241m=\u001B[39m {\n\u001B[1;32m    231\u001B[0m     \u001B[38;5;124m\"\u001B[39m\u001B[38;5;124mtapes\u001B[39m\u001B[38;5;124m\"\u001B[39m: \u001B[38;5;28mtuple\u001B[39m(tapes),\n\u001B[1;32m    232\u001B[0m     \u001B[38;5;124m\"\u001B[39m\u001B[38;5;124mexecute_fn\u001B[39m\u001B[38;5;124m\"\u001B[39m: execute_fn,\n\u001B[1;32m    233\u001B[0m     \u001B[38;5;124m\"\u001B[39m\u001B[38;5;124mjpc\u001B[39m\u001B[38;5;124m\"\u001B[39m: jpc,\n\u001B[1;32m    234\u001B[0m }\n\u001B[0;32m--> 236\u001B[0m \u001B[38;5;28;01mreturn\u001B[39;00m \u001B[43mExecuteTapes\u001B[49m\u001B[38;5;241;43m.\u001B[39;49m\u001B[43mapply\u001B[49m\u001B[43m(\u001B[49m\u001B[43mkwargs\u001B[49m\u001B[43m,\u001B[49m\u001B[43m \u001B[49m\u001B[38;5;241;43m*\u001B[39;49m\u001B[43mparameters\u001B[49m\u001B[43m)\u001B[49m\n",
      "File \u001B[0;32m~/dev/CCKA-Clustered_Centroid_Kernel_Alignment/.venv/lib/python3.9/site-packages/pennylane/workflow/interfaces/torch.py:89\u001B[0m, in \u001B[0;36mpytreeify.<locals>.new_apply\u001B[0;34m(*inp)\u001B[0m\n\u001B[1;32m     86\u001B[0m \u001B[38;5;28;01mdef\u001B[39;00m\u001B[38;5;250m \u001B[39m\u001B[38;5;21mnew_apply\u001B[39m(\u001B[38;5;241m*\u001B[39minp):\n\u001B[1;32m     87\u001B[0m     \u001B[38;5;66;03m# Inputs already flat\u001B[39;00m\n\u001B[1;32m     88\u001B[0m     out_struct_holder \u001B[38;5;241m=\u001B[39m []\n\u001B[0;32m---> 89\u001B[0m     flat_out \u001B[38;5;241m=\u001B[39m \u001B[43morig_apply\u001B[49m\u001B[43m(\u001B[49m\u001B[43mout_struct_holder\u001B[49m\u001B[43m,\u001B[49m\u001B[43m \u001B[49m\u001B[38;5;241;43m*\u001B[39;49m\u001B[43minp\u001B[49m\u001B[43m)\u001B[49m\n\u001B[1;32m     90\u001B[0m     \u001B[38;5;28;01mreturn\u001B[39;00m pytree\u001B[38;5;241m.\u001B[39mtree_unflatten(flat_out, out_struct_holder[\u001B[38;5;241m0\u001B[39m])\n",
      "File \u001B[0;32m~/dev/CCKA-Clustered_Centroid_Kernel_Alignment/.venv/lib/python3.9/site-packages/torch/autograd/function.py:575\u001B[0m, in \u001B[0;36mFunction.apply\u001B[0;34m(cls, *args, **kwargs)\u001B[0m\n\u001B[1;32m    572\u001B[0m \u001B[38;5;28;01mif\u001B[39;00m \u001B[38;5;129;01mnot\u001B[39;00m torch\u001B[38;5;241m.\u001B[39m_C\u001B[38;5;241m.\u001B[39m_are_functorch_transforms_active():\n\u001B[1;32m    573\u001B[0m     \u001B[38;5;66;03m# See NOTE: [functorch vjp and autograd interaction]\u001B[39;00m\n\u001B[1;32m    574\u001B[0m     args \u001B[38;5;241m=\u001B[39m _functorch\u001B[38;5;241m.\u001B[39mutils\u001B[38;5;241m.\u001B[39munwrap_dead_wrappers(args)\n\u001B[0;32m--> 575\u001B[0m     \u001B[38;5;28;01mreturn\u001B[39;00m \u001B[38;5;28;43msuper\u001B[39;49m\u001B[43m(\u001B[49m\u001B[43m)\u001B[49m\u001B[38;5;241;43m.\u001B[39;49m\u001B[43mapply\u001B[49m\u001B[43m(\u001B[49m\u001B[38;5;241;43m*\u001B[39;49m\u001B[43margs\u001B[49m\u001B[43m,\u001B[49m\u001B[43m \u001B[49m\u001B[38;5;241;43m*\u001B[39;49m\u001B[38;5;241;43m*\u001B[39;49m\u001B[43mkwargs\u001B[49m\u001B[43m)\u001B[49m  \u001B[38;5;66;03m# type: ignore[misc]\u001B[39;00m\n\u001B[1;32m    577\u001B[0m \u001B[38;5;28;01mif\u001B[39;00m \u001B[38;5;129;01mnot\u001B[39;00m is_setup_ctx_defined:\n\u001B[1;32m    578\u001B[0m     \u001B[38;5;28;01mraise\u001B[39;00m \u001B[38;5;167;01mRuntimeError\u001B[39;00m(\n\u001B[1;32m    579\u001B[0m         \u001B[38;5;124m\"\u001B[39m\u001B[38;5;124mIn order to use an autograd.Function with functorch transforms \u001B[39m\u001B[38;5;124m\"\u001B[39m\n\u001B[1;32m    580\u001B[0m         \u001B[38;5;124m\"\u001B[39m\u001B[38;5;124m(vmap, grad, jvp, jacrev, ...), it must override the setup_context \u001B[39m\u001B[38;5;124m\"\u001B[39m\n\u001B[1;32m    581\u001B[0m         \u001B[38;5;124m\"\u001B[39m\u001B[38;5;124mstaticmethod. For more details, please see \u001B[39m\u001B[38;5;124m\"\u001B[39m\n\u001B[1;32m    582\u001B[0m         \u001B[38;5;124m\"\u001B[39m\u001B[38;5;124mhttps://pytorch.org/docs/main/notes/extending.func.html\u001B[39m\u001B[38;5;124m\"\u001B[39m\n\u001B[1;32m    583\u001B[0m     )\n",
      "File \u001B[0;32m~/dev/CCKA-Clustered_Centroid_Kernel_Alignment/.venv/lib/python3.9/site-packages/pennylane/workflow/interfaces/torch.py:93\u001B[0m, in \u001B[0;36mpytreeify.<locals>.new_forward\u001B[0;34m(ctx, out_struct_holder, *inp)\u001B[0m\n\u001B[1;32m     92\u001B[0m \u001B[38;5;28;01mdef\u001B[39;00m\u001B[38;5;250m \u001B[39m\u001B[38;5;21mnew_forward\u001B[39m(ctx, out_struct_holder, \u001B[38;5;241m*\u001B[39minp):\n\u001B[0;32m---> 93\u001B[0m     out \u001B[38;5;241m=\u001B[39m \u001B[43morig_fw\u001B[49m\u001B[43m(\u001B[49m\u001B[43mctx\u001B[49m\u001B[43m,\u001B[49m\u001B[43m \u001B[49m\u001B[38;5;241;43m*\u001B[39;49m\u001B[43minp\u001B[49m\u001B[43m)\u001B[49m\n\u001B[1;32m     94\u001B[0m     flat_out, out_struct \u001B[38;5;241m=\u001B[39m pytree\u001B[38;5;241m.\u001B[39mtree_flatten(out)\n\u001B[1;32m     95\u001B[0m     ctx\u001B[38;5;241m.\u001B[39m_out_struct \u001B[38;5;241m=\u001B[39m out_struct\n",
      "File \u001B[0;32m~/dev/CCKA-Clustered_Centroid_Kernel_Alignment/.venv/lib/python3.9/site-packages/pennylane/workflow/interfaces/torch.py:158\u001B[0m, in \u001B[0;36mExecuteTapes.forward\u001B[0;34m(ctx, kwargs, *parameters)\u001B[0m\n\u001B[1;32m    155\u001B[0m ctx\u001B[38;5;241m.\u001B[39mtapes \u001B[38;5;241m=\u001B[39m kwargs[\u001B[38;5;124m\"\u001B[39m\u001B[38;5;124mtapes\u001B[39m\u001B[38;5;124m\"\u001B[39m]\n\u001B[1;32m    156\u001B[0m ctx\u001B[38;5;241m.\u001B[39mjpc \u001B[38;5;241m=\u001B[39m kwargs[\u001B[38;5;124m\"\u001B[39m\u001B[38;5;124mjpc\u001B[39m\u001B[38;5;124m\"\u001B[39m]\n\u001B[0;32m--> 158\u001B[0m res \u001B[38;5;241m=\u001B[39m \u001B[38;5;28mtuple\u001B[39m(\u001B[43mkwargs\u001B[49m\u001B[43m[\u001B[49m\u001B[38;5;124;43m\"\u001B[39;49m\u001B[38;5;124;43mexecute_fn\u001B[39;49m\u001B[38;5;124;43m\"\u001B[39;49m\u001B[43m]\u001B[49m\u001B[43m(\u001B[49m\u001B[43mctx\u001B[49m\u001B[38;5;241;43m.\u001B[39;49m\u001B[43mtapes\u001B[49m\u001B[43m)\u001B[49m)\n\u001B[1;32m    160\u001B[0m \u001B[38;5;66;03m# if any input tensor uses the GPU, the output should as well\u001B[39;00m\n\u001B[1;32m    161\u001B[0m ctx\u001B[38;5;241m.\u001B[39mtorch_device \u001B[38;5;241m=\u001B[39m \u001B[38;5;28;01mNone\u001B[39;00m\n",
      "File \u001B[0;32m~/dev/CCKA-Clustered_Centroid_Kernel_Alignment/.venv/lib/python3.9/site-packages/pennylane/workflow/jacobian_products.py:462\u001B[0m, in \u001B[0;36mDeviceDerivatives.execute_and_cache_jacobian\u001B[0;34m(self, tapes)\u001B[0m\n\u001B[1;32m    460\u001B[0m \u001B[38;5;28;01mif\u001B[39;00m logger\u001B[38;5;241m.\u001B[39misEnabledFor(logging\u001B[38;5;241m.\u001B[39mDEBUG):  \u001B[38;5;66;03m# pragma: no cover\u001B[39;00m\n\u001B[1;32m    461\u001B[0m     logger\u001B[38;5;241m.\u001B[39mdebug(\u001B[38;5;124m\"\u001B[39m\u001B[38;5;124mForward pass called with \u001B[39m\u001B[38;5;132;01m%s\u001B[39;00m\u001B[38;5;124m\"\u001B[39m, tapes)\n\u001B[0;32m--> 462\u001B[0m results, jac \u001B[38;5;241m=\u001B[39m \u001B[38;5;28;43mself\u001B[39;49m\u001B[38;5;241;43m.\u001B[39;49m\u001B[43m_dev_execute_and_compute_derivatives\u001B[49m\u001B[43m(\u001B[49m\u001B[43mtapes\u001B[49m\u001B[43m)\u001B[49m\n\u001B[1;32m    463\u001B[0m \u001B[38;5;28mself\u001B[39m\u001B[38;5;241m.\u001B[39m_results_cache[tapes] \u001B[38;5;241m=\u001B[39m results\n\u001B[1;32m    464\u001B[0m \u001B[38;5;28mself\u001B[39m\u001B[38;5;241m.\u001B[39m_jacs_cache[tapes] \u001B[38;5;241m=\u001B[39m jac\n",
      "File \u001B[0;32m~/dev/CCKA-Clustered_Centroid_Kernel_Alignment/.venv/lib/python3.9/site-packages/pennylane/workflow/jacobian_products.py:426\u001B[0m, in \u001B[0;36mDeviceDerivatives._dev_execute_and_compute_derivatives\u001B[0;34m(self, tapes)\u001B[0m\n\u001B[1;32m    420\u001B[0m \u001B[38;5;28;01mdef\u001B[39;00m\u001B[38;5;250m \u001B[39m\u001B[38;5;21m_dev_execute_and_compute_derivatives\u001B[39m(\u001B[38;5;28mself\u001B[39m, tapes: QuantumScriptBatch):\n\u001B[1;32m    421\u001B[0m \u001B[38;5;250m    \u001B[39m\u001B[38;5;124;03m\"\"\"\u001B[39;00m\n\u001B[1;32m    422\u001B[0m \u001B[38;5;124;03m    Converts tapes to numpy before computing the the results and derivatives on the device.\u001B[39;00m\n\u001B[1;32m    423\u001B[0m \n\u001B[1;32m    424\u001B[0m \u001B[38;5;124;03m    Dispatches between the two different device interfaces.\u001B[39;00m\n\u001B[1;32m    425\u001B[0m \u001B[38;5;124;03m    \"\"\"\u001B[39;00m\n\u001B[0;32m--> 426\u001B[0m     numpy_tapes, _ \u001B[38;5;241m=\u001B[39m \u001B[43mqml\u001B[49m\u001B[38;5;241;43m.\u001B[39;49m\u001B[43mtransforms\u001B[49m\u001B[38;5;241;43m.\u001B[39;49m\u001B[43mconvert_to_numpy_parameters\u001B[49m\u001B[43m(\u001B[49m\u001B[43mtapes\u001B[49m\u001B[43m)\u001B[49m\n\u001B[1;32m    427\u001B[0m     \u001B[38;5;28;01mreturn\u001B[39;00m \u001B[38;5;28mself\u001B[39m\u001B[38;5;241m.\u001B[39m_device\u001B[38;5;241m.\u001B[39mexecute_and_compute_derivatives(numpy_tapes, \u001B[38;5;28mself\u001B[39m\u001B[38;5;241m.\u001B[39m_execution_config)\n",
      "File \u001B[0;32m~/dev/CCKA-Clustered_Centroid_Kernel_Alignment/.venv/lib/python3.9/site-packages/pennylane/transforms/core/transform_dispatcher.py:132\u001B[0m, in \u001B[0;36mTransformDispatcher.__call__\u001B[0;34m(self, *targs, **tkwargs)\u001B[0m\n\u001B[1;32m    130\u001B[0m     \u001B[38;5;28;01mreturn\u001B[39;00m \u001B[38;5;28mself\u001B[39m\u001B[38;5;241m.\u001B[39m_qfunc_transform(obj, targs, tkwargs)\n\u001B[1;32m    131\u001B[0m \u001B[38;5;28;01mif\u001B[39;00m \u001B[38;5;28misinstance\u001B[39m(obj, Sequence) \u001B[38;5;129;01mand\u001B[39;00m \u001B[38;5;28mall\u001B[39m(\u001B[38;5;28misinstance\u001B[39m(q, qml\u001B[38;5;241m.\u001B[39mtape\u001B[38;5;241m.\u001B[39mQuantumScript) \u001B[38;5;28;01mfor\u001B[39;00m q \u001B[38;5;129;01min\u001B[39;00m obj):\n\u001B[0;32m--> 132\u001B[0m     \u001B[38;5;28;01mreturn\u001B[39;00m \u001B[38;5;28;43mself\u001B[39;49m\u001B[38;5;241;43m.\u001B[39;49m\u001B[43m_batch_transform\u001B[49m\u001B[43m(\u001B[49m\u001B[43mobj\u001B[49m\u001B[43m,\u001B[49m\u001B[43m \u001B[49m\u001B[43mtargs\u001B[49m\u001B[43m,\u001B[49m\u001B[43m \u001B[49m\u001B[43mtkwargs\u001B[49m\u001B[43m)\u001B[49m\n\u001B[1;32m    134\u001B[0m \u001B[38;5;66;03m# Input is not a QNode nor a quantum tape nor a device.\u001B[39;00m\n\u001B[1;32m    135\u001B[0m \u001B[38;5;66;03m# Assume Python decorator syntax:\u001B[39;00m\n\u001B[1;32m    136\u001B[0m \u001B[38;5;66;03m#\u001B[39;00m\n\u001B[1;32m    137\u001B[0m \u001B[38;5;66;03m# result = some_transform(*transform_args)(qnode)(*qnode_args)\u001B[39;00m\n\u001B[1;32m    139\u001B[0m \u001B[38;5;28;01mraise\u001B[39;00m TransformError(\n\u001B[1;32m    140\u001B[0m     \u001B[38;5;124m\"\u001B[39m\u001B[38;5;124mDecorating a QNode with @transform_fn(**transform_kwargs) has been \u001B[39m\u001B[38;5;124m\"\u001B[39m\n\u001B[1;32m    141\u001B[0m     \u001B[38;5;124m\"\u001B[39m\u001B[38;5;124mremoved. Please decorate with @functools.partial(transform_fn, **transform_kwargs) \u001B[39m\u001B[38;5;124m\"\u001B[39m\n\u001B[0;32m   (...)\u001B[0m\n\u001B[1;32m    144\u001B[0m     \u001B[38;5;124m\"\u001B[39m\u001B[38;5;124mhttps://docs.pennylane.ai/en/stable/development/deprecations.html#completed-deprecation-cycles\u001B[39m\u001B[38;5;124m\"\u001B[39m,\n\u001B[1;32m    145\u001B[0m )\n",
      "File \u001B[0;32m~/dev/CCKA-Clustered_Centroid_Kernel_Alignment/.venv/lib/python3.9/site-packages/pennylane/transforms/core/transform_dispatcher.py:321\u001B[0m, in \u001B[0;36mTransformDispatcher._batch_transform\u001B[0;34m(self, original_batch, targs, tkwargs)\u001B[0m\n\u001B[1;32m    315\u001B[0m tape_counts \u001B[38;5;241m=\u001B[39m []\n\u001B[1;32m    317\u001B[0m \u001B[38;5;28;01mfor\u001B[39;00m t \u001B[38;5;129;01min\u001B[39;00m original_batch:\n\u001B[1;32m    318\u001B[0m     \u001B[38;5;66;03m# Preprocess the tapes by applying transforms\u001B[39;00m\n\u001B[1;32m    319\u001B[0m     \u001B[38;5;66;03m# to each tape, and storing corresponding tapes\u001B[39;00m\n\u001B[1;32m    320\u001B[0m     \u001B[38;5;66;03m# for execution, processing functions, and list of tape lengths.\u001B[39;00m\n\u001B[0;32m--> 321\u001B[0m     new_tapes, fn \u001B[38;5;241m=\u001B[39m \u001B[38;5;28;43mself\u001B[39;49m\u001B[43m(\u001B[49m\u001B[43mt\u001B[49m\u001B[43m,\u001B[49m\u001B[43m \u001B[49m\u001B[38;5;241;43m*\u001B[39;49m\u001B[43mtargs\u001B[49m\u001B[43m,\u001B[49m\u001B[43m \u001B[49m\u001B[38;5;241;43m*\u001B[39;49m\u001B[38;5;241;43m*\u001B[39;49m\u001B[43mtkwargs\u001B[49m\u001B[43m)\u001B[49m\n\u001B[1;32m    322\u001B[0m     execution_tapes\u001B[38;5;241m.\u001B[39mextend(new_tapes)\n\u001B[1;32m    323\u001B[0m     batch_fns\u001B[38;5;241m.\u001B[39mappend(fn)\n",
      "File \u001B[0;32m~/dev/CCKA-Clustered_Centroid_Kernel_Alignment/.venv/lib/python3.9/site-packages/pennylane/transforms/core/transform_dispatcher.py:113\u001B[0m, in \u001B[0;36mTransformDispatcher.__call__\u001B[0;34m(self, *targs, **tkwargs)\u001B[0m\n\u001B[1;32m    110\u001B[0m         \u001B[38;5;28;01mreturn\u001B[39;00m expand_processing(processed_results)\n\u001B[1;32m    112\u001B[0m \u001B[38;5;28;01melse\u001B[39;00m:\n\u001B[0;32m--> 113\u001B[0m     transformed_tapes, processing_fn \u001B[38;5;241m=\u001B[39m \u001B[38;5;28;43mself\u001B[39;49m\u001B[38;5;241;43m.\u001B[39;49m\u001B[43m_transform\u001B[49m\u001B[43m(\u001B[49m\u001B[43mobj\u001B[49m\u001B[43m,\u001B[49m\u001B[43m \u001B[49m\u001B[38;5;241;43m*\u001B[39;49m\u001B[43mtargs\u001B[49m\u001B[43m,\u001B[49m\u001B[43m \u001B[49m\u001B[38;5;241;43m*\u001B[39;49m\u001B[38;5;241;43m*\u001B[39;49m\u001B[43mtkwargs\u001B[49m\u001B[43m)\u001B[49m\n\u001B[1;32m    115\u001B[0m \u001B[38;5;28;01mif\u001B[39;00m \u001B[38;5;28mself\u001B[39m\u001B[38;5;241m.\u001B[39mis_informative:\n\u001B[1;32m    116\u001B[0m     \u001B[38;5;28;01mreturn\u001B[39;00m processing_fn(transformed_tapes)\n",
      "File \u001B[0;32m~/dev/CCKA-Clustered_Centroid_Kernel_Alignment/.venv/lib/python3.9/site-packages/pennylane/transforms/convert_to_numpy_parameters.py:87\u001B[0m, in \u001B[0;36mconvert_to_numpy_parameters\u001B[0;34m(tape)\u001B[0m\n\u001B[1;32m     85\u001B[0m new_ops \u001B[38;5;241m=\u001B[39m (_convert_op_to_numpy_data(op) \u001B[38;5;28;01mfor\u001B[39;00m op \u001B[38;5;129;01min\u001B[39;00m tape\u001B[38;5;241m.\u001B[39moperations)\n\u001B[1;32m     86\u001B[0m new_measurements \u001B[38;5;241m=\u001B[39m (_convert_measurement_to_numpy_data(m) \u001B[38;5;28;01mfor\u001B[39;00m m \u001B[38;5;129;01min\u001B[39;00m tape\u001B[38;5;241m.\u001B[39mmeasurements)\n\u001B[0;32m---> 87\u001B[0m new_circuit \u001B[38;5;241m=\u001B[39m \u001B[43mtape\u001B[49m\u001B[38;5;241;43m.\u001B[39;49m\u001B[38;5;18;43m__class__\u001B[39;49m\u001B[43m(\u001B[49m\n\u001B[1;32m     88\u001B[0m \u001B[43m    \u001B[49m\u001B[43mnew_ops\u001B[49m\u001B[43m,\u001B[49m\u001B[43m \u001B[49m\u001B[43mnew_measurements\u001B[49m\u001B[43m,\u001B[49m\u001B[43m \u001B[49m\u001B[43mshots\u001B[49m\u001B[38;5;241;43m=\u001B[39;49m\u001B[43mtape\u001B[49m\u001B[38;5;241;43m.\u001B[39;49m\u001B[43mshots\u001B[49m\u001B[43m,\u001B[49m\u001B[43m \u001B[49m\u001B[43mtrainable_params\u001B[49m\u001B[38;5;241;43m=\u001B[39;49m\u001B[43mtape\u001B[49m\u001B[38;5;241;43m.\u001B[39;49m\u001B[43mtrainable_params\u001B[49m\n\u001B[1;32m     89\u001B[0m \u001B[43m\u001B[49m\u001B[43m)\u001B[49m\n\u001B[1;32m     91\u001B[0m \u001B[38;5;28;01mdef\u001B[39;00m\u001B[38;5;250m \u001B[39m\u001B[38;5;21mnull_postprocessing\u001B[39m(results):\n\u001B[1;32m     92\u001B[0m \u001B[38;5;250m    \u001B[39m\u001B[38;5;124;03m\"\"\"A postprocesing function returned by a transform that only converts the batch of results\u001B[39;00m\n\u001B[1;32m     93\u001B[0m \u001B[38;5;124;03m    into a result for a single ``QuantumTape``.\u001B[39;00m\n\u001B[1;32m     94\u001B[0m \u001B[38;5;124;03m    \"\"\"\u001B[39;00m\n",
      "File \u001B[0;32m~/dev/CCKA-Clustered_Centroid_Kernel_Alignment/.venv/lib/python3.9/site-packages/pennylane/tape/qscript.py:180\u001B[0m, in \u001B[0;36mQuantumScript.__init__\u001B[0;34m(self, ops, measurements, shots, trainable_params)\u001B[0m\n\u001B[1;32m    172\u001B[0m \u001B[38;5;28;01mdef\u001B[39;00m\u001B[38;5;250m \u001B[39m\u001B[38;5;21m__init__\u001B[39m(\n\u001B[1;32m    173\u001B[0m     \u001B[38;5;28mself\u001B[39m,\n\u001B[1;32m    174\u001B[0m     ops: Optional[Iterable[Operator]] \u001B[38;5;241m=\u001B[39m \u001B[38;5;28;01mNone\u001B[39;00m,\n\u001B[0;32m   (...)\u001B[0m\n\u001B[1;32m    177\u001B[0m     trainable_params: Optional[Sequence[\u001B[38;5;28mint\u001B[39m]] \u001B[38;5;241m=\u001B[39m \u001B[38;5;28;01mNone\u001B[39;00m,\n\u001B[1;32m    178\u001B[0m ):\n\u001B[1;32m    179\u001B[0m     \u001B[38;5;28mself\u001B[39m\u001B[38;5;241m.\u001B[39m_ops \u001B[38;5;241m=\u001B[39m [] \u001B[38;5;28;01mif\u001B[39;00m ops \u001B[38;5;129;01mis\u001B[39;00m \u001B[38;5;28;01mNone\u001B[39;00m \u001B[38;5;28;01melse\u001B[39;00m \u001B[38;5;28mlist\u001B[39m(ops)\n\u001B[0;32m--> 180\u001B[0m     \u001B[38;5;28mself\u001B[39m\u001B[38;5;241m.\u001B[39m_measurements \u001B[38;5;241m=\u001B[39m [] \u001B[38;5;28;01mif\u001B[39;00m measurements \u001B[38;5;129;01mis\u001B[39;00m \u001B[38;5;28;01mNone\u001B[39;00m \u001B[38;5;28;01melse\u001B[39;00m \u001B[38;5;28;43mlist\u001B[39;49m\u001B[43m(\u001B[49m\u001B[43mmeasurements\u001B[49m\u001B[43m)\u001B[49m\n\u001B[1;32m    181\u001B[0m     \u001B[38;5;28mself\u001B[39m\u001B[38;5;241m.\u001B[39m_shots \u001B[38;5;241m=\u001B[39m Shots(shots)\n\u001B[1;32m    183\u001B[0m     \u001B[38;5;28mself\u001B[39m\u001B[38;5;241m.\u001B[39m_trainable_params \u001B[38;5;241m=\u001B[39m trainable_params\n",
      "File \u001B[0;32m~/dev/CCKA-Clustered_Centroid_Kernel_Alignment/.venv/lib/python3.9/site-packages/pennylane/transforms/convert_to_numpy_parameters.py:86\u001B[0m, in \u001B[0;36m<genexpr>\u001B[0;34m(.0)\u001B[0m\n\u001B[1;32m     52\u001B[0m \u001B[38;5;250m\u001B[39m\u001B[38;5;124;03m\"\"\"Transforms a circuit to one with purely numpy parameters.\u001B[39;00m\n\u001B[1;32m     53\u001B[0m \n\u001B[1;32m     54\u001B[0m \u001B[38;5;124;03mArgs:\u001B[39;00m\n\u001B[0;32m   (...)\u001B[0m\n\u001B[1;32m     83\u001B[0m \n\u001B[1;32m     84\u001B[0m \u001B[38;5;124;03m\"\"\"\u001B[39;00m\n\u001B[1;32m     85\u001B[0m new_ops \u001B[38;5;241m=\u001B[39m (_convert_op_to_numpy_data(op) \u001B[38;5;28;01mfor\u001B[39;00m op \u001B[38;5;129;01min\u001B[39;00m tape\u001B[38;5;241m.\u001B[39moperations)\n\u001B[0;32m---> 86\u001B[0m new_measurements \u001B[38;5;241m=\u001B[39m (\u001B[43m_convert_measurement_to_numpy_data\u001B[49m\u001B[43m(\u001B[49m\u001B[43mm\u001B[49m\u001B[43m)\u001B[49m \u001B[38;5;28;01mfor\u001B[39;00m m \u001B[38;5;129;01min\u001B[39;00m tape\u001B[38;5;241m.\u001B[39mmeasurements)\n\u001B[1;32m     87\u001B[0m new_circuit \u001B[38;5;241m=\u001B[39m tape\u001B[38;5;241m.\u001B[39m\u001B[38;5;18m__class__\u001B[39m(\n\u001B[1;32m     88\u001B[0m     new_ops, new_measurements, shots\u001B[38;5;241m=\u001B[39mtape\u001B[38;5;241m.\u001B[39mshots, trainable_params\u001B[38;5;241m=\u001B[39mtape\u001B[38;5;241m.\u001B[39mtrainable_params\n\u001B[1;32m     89\u001B[0m )\n\u001B[1;32m     91\u001B[0m \u001B[38;5;28;01mdef\u001B[39;00m\u001B[38;5;250m \u001B[39m\u001B[38;5;21mnull_postprocessing\u001B[39m(results):\n",
      "File \u001B[0;32m~/dev/CCKA-Clustered_Centroid_Kernel_Alignment/.venv/lib/python3.9/site-packages/pennylane/transforms/convert_to_numpy_parameters.py:45\u001B[0m, in \u001B[0;36m_convert_measurement_to_numpy_data\u001B[0;34m(m)\u001B[0m\n\u001B[1;32m     43\u001B[0m \u001B[38;5;28;01mif\u001B[39;00m math\u001B[38;5;241m.\u001B[39mget_interface(\u001B[38;5;241m*\u001B[39mm\u001B[38;5;241m.\u001B[39mobs\u001B[38;5;241m.\u001B[39mdata) \u001B[38;5;241m==\u001B[39m \u001B[38;5;124m\"\u001B[39m\u001B[38;5;124mnumpy\u001B[39m\u001B[38;5;124m\"\u001B[39m:\n\u001B[1;32m     44\u001B[0m     \u001B[38;5;28;01mreturn\u001B[39;00m m\n\u001B[0;32m---> 45\u001B[0m new_obs \u001B[38;5;241m=\u001B[39m \u001B[43mqml\u001B[49m\u001B[38;5;241;43m.\u001B[39;49m\u001B[43mops\u001B[49m\u001B[38;5;241;43m.\u001B[39;49m\u001B[43mfunctions\u001B[49m\u001B[38;5;241;43m.\u001B[39;49m\u001B[43mbind_new_parameters\u001B[49m\u001B[43m(\u001B[49m\u001B[43mm\u001B[49m\u001B[38;5;241;43m.\u001B[39;49m\u001B[43mobs\u001B[49m\u001B[43m,\u001B[49m\u001B[43m \u001B[49m\u001B[43mmath\u001B[49m\u001B[38;5;241;43m.\u001B[39;49m\u001B[43munwrap\u001B[49m\u001B[43m(\u001B[49m\u001B[43mm\u001B[49m\u001B[38;5;241;43m.\u001B[39;49m\u001B[43mobs\u001B[49m\u001B[38;5;241;43m.\u001B[39;49m\u001B[43mdata\u001B[49m\u001B[43m)\u001B[49m\u001B[43m)\u001B[49m\n\u001B[1;32m     46\u001B[0m \u001B[38;5;28;01mreturn\u001B[39;00m \u001B[38;5;28mtype\u001B[39m(m)(obs\u001B[38;5;241m=\u001B[39mnew_obs)\n",
      "File \u001B[0;32m~/.pyenv/versions/3.9.13/lib/python3.9/functools.py:888\u001B[0m, in \u001B[0;36msingledispatch.<locals>.wrapper\u001B[0;34m(*args, **kw)\u001B[0m\n\u001B[1;32m    884\u001B[0m \u001B[38;5;28;01mif\u001B[39;00m \u001B[38;5;129;01mnot\u001B[39;00m args:\n\u001B[1;32m    885\u001B[0m     \u001B[38;5;28;01mraise\u001B[39;00m \u001B[38;5;167;01mTypeError\u001B[39;00m(\u001B[38;5;124mf\u001B[39m\u001B[38;5;124m'\u001B[39m\u001B[38;5;132;01m{\u001B[39;00mfuncname\u001B[38;5;132;01m}\u001B[39;00m\u001B[38;5;124m requires at least \u001B[39m\u001B[38;5;124m'\u001B[39m\n\u001B[1;32m    886\u001B[0m                     \u001B[38;5;124m'\u001B[39m\u001B[38;5;124m1 positional argument\u001B[39m\u001B[38;5;124m'\u001B[39m)\n\u001B[0;32m--> 888\u001B[0m \u001B[38;5;28;01mreturn\u001B[39;00m \u001B[43mdispatch\u001B[49m\u001B[43m(\u001B[49m\u001B[43margs\u001B[49m\u001B[43m[\u001B[49m\u001B[38;5;241;43m0\u001B[39;49m\u001B[43m]\u001B[49m\u001B[38;5;241;43m.\u001B[39;49m\u001B[38;5;18;43m__class__\u001B[39;49m\u001B[43m)\u001B[49m\u001B[43m(\u001B[49m\u001B[38;5;241;43m*\u001B[39;49m\u001B[43margs\u001B[49m\u001B[43m,\u001B[49m\u001B[43m \u001B[49m\u001B[38;5;241;43m*\u001B[39;49m\u001B[38;5;241;43m*\u001B[39;49m\u001B[43mkw\u001B[49m\u001B[43m)\u001B[49m\n",
      "File \u001B[0;32m~/dev/CCKA-Clustered_Centroid_Kernel_Alignment/.venv/lib/python3.9/site-packages/pennylane/ops/functions/bind_new_parameters.py:50\u001B[0m, in \u001B[0;36mbind_new_parameters\u001B[0;34m(op, params)\u001B[0m\n\u001B[1;32m     35\u001B[0m \u001B[38;5;250m\u001B[39m\u001B[38;5;124;03m\"\"\"Create a new operator with updated parameters\u001B[39;00m\n\u001B[1;32m     36\u001B[0m \n\u001B[1;32m     37\u001B[0m \u001B[38;5;124;03mThis function takes an :class:`~.Operator` and new parameters as input and\u001B[39;00m\n\u001B[0;32m   (...)\u001B[0m\n\u001B[1;32m     47\u001B[0m \u001B[38;5;124;03m    .Operator: New operator with updated parameters\u001B[39;00m\n\u001B[1;32m     48\u001B[0m \u001B[38;5;124;03m\"\"\"\u001B[39;00m\n\u001B[1;32m     49\u001B[0m \u001B[38;5;28;01mtry\u001B[39;00m:\n\u001B[0;32m---> 50\u001B[0m     \u001B[38;5;28;01mreturn\u001B[39;00m \u001B[43mop\u001B[49m\u001B[38;5;241;43m.\u001B[39;49m\u001B[38;5;18;43m__class__\u001B[39;49m\u001B[43m(\u001B[49m\u001B[38;5;241;43m*\u001B[39;49m\u001B[43mparams\u001B[49m\u001B[43m,\u001B[49m\u001B[43m \u001B[49m\u001B[43mwires\u001B[49m\u001B[38;5;241;43m=\u001B[39;49m\u001B[43mop\u001B[49m\u001B[38;5;241;43m.\u001B[39;49m\u001B[43mwires\u001B[49m\u001B[43m,\u001B[49m\u001B[43m \u001B[49m\u001B[38;5;241;43m*\u001B[39;49m\u001B[38;5;241;43m*\u001B[39;49m\u001B[43mcopy\u001B[49m\u001B[38;5;241;43m.\u001B[39;49m\u001B[43mdeepcopy\u001B[49m\u001B[43m(\u001B[49m\u001B[43mop\u001B[49m\u001B[38;5;241;43m.\u001B[39;49m\u001B[43mhyperparameters\u001B[49m\u001B[43m)\u001B[49m\u001B[43m)\u001B[49m\n\u001B[1;32m     51\u001B[0m \u001B[38;5;28;01mexcept\u001B[39;00m (\u001B[38;5;167;01mTypeError\u001B[39;00m, \u001B[38;5;167;01mValueError\u001B[39;00m):\n\u001B[1;32m     52\u001B[0m     \u001B[38;5;66;03m# operation is doing something different with its call signature.\u001B[39;00m\n\u001B[1;32m     53\u001B[0m     new_op \u001B[38;5;241m=\u001B[39m copy\u001B[38;5;241m.\u001B[39mdeepcopy(op)\n",
      "File \u001B[0;32m~/dev/CCKA-Clustered_Centroid_Kernel_Alignment/.venv/lib/python3.9/site-packages/pennylane/capture/capture_meta.py:89\u001B[0m, in \u001B[0;36mCaptureMeta.__call__\u001B[0;34m(cls, *args, **kwargs)\u001B[0m\n\u001B[1;32m     85\u001B[0m \u001B[38;5;28;01mif\u001B[39;00m enabled():\n\u001B[1;32m     86\u001B[0m     \u001B[38;5;66;03m# when tracing is enabled, we want to\u001B[39;00m\n\u001B[1;32m     87\u001B[0m     \u001B[38;5;66;03m# use bind to construct the class if we want class construction to add it to the jaxpr\u001B[39;00m\n\u001B[1;32m     88\u001B[0m     \u001B[38;5;28;01mreturn\u001B[39;00m \u001B[38;5;28mcls\u001B[39m\u001B[38;5;241m.\u001B[39m_primitive_bind_call(\u001B[38;5;241m*\u001B[39margs, \u001B[38;5;241m*\u001B[39m\u001B[38;5;241m*\u001B[39mkwargs)\n\u001B[0;32m---> 89\u001B[0m \u001B[38;5;28;01mreturn\u001B[39;00m \u001B[38;5;28;43mtype\u001B[39;49m\u001B[38;5;241;43m.\u001B[39;49m\u001B[38;5;21;43m__call__\u001B[39;49m\u001B[43m(\u001B[49m\u001B[38;5;28;43mcls\u001B[39;49m\u001B[43m,\u001B[49m\u001B[43m \u001B[49m\u001B[38;5;241;43m*\u001B[39;49m\u001B[43margs\u001B[49m\u001B[43m,\u001B[49m\u001B[43m \u001B[49m\u001B[38;5;241;43m*\u001B[39;49m\u001B[38;5;241;43m*\u001B[39;49m\u001B[43mkwargs\u001B[49m\u001B[43m)\u001B[49m\n",
      "File \u001B[0;32m~/dev/CCKA-Clustered_Centroid_Kernel_Alignment/.venv/lib/python3.9/site-packages/pennylane/ops/qubit/observables.py:87\u001B[0m, in \u001B[0;36mHermitian.__init__\u001B[0;34m(self, A, wires, id)\u001B[0m\n\u001B[1;32m     83\u001B[0m     \u001B[38;5;28;01melse\u001B[39;00m:\n\u001B[1;32m     84\u001B[0m         \u001B[38;5;66;03m# Assumably wires is an int; further validation checks are performed by calling super().__init__\u001B[39;00m\n\u001B[1;32m     85\u001B[0m         expected_mx_shape \u001B[38;5;241m=\u001B[39m \u001B[38;5;28mself\u001B[39m\u001B[38;5;241m.\u001B[39m_num_basis_states\n\u001B[0;32m---> 87\u001B[0m     \u001B[43mHermitian\u001B[49m\u001B[38;5;241;43m.\u001B[39;49m\u001B[43m_validate_input\u001B[49m\u001B[43m(\u001B[49m\u001B[43mA\u001B[49m\u001B[43m,\u001B[49m\u001B[43m \u001B[49m\u001B[43mexpected_mx_shape\u001B[49m\u001B[43m)\u001B[49m\n\u001B[1;32m     89\u001B[0m \u001B[38;5;28msuper\u001B[39m()\u001B[38;5;241m.\u001B[39m\u001B[38;5;21m__init__\u001B[39m(A, wires\u001B[38;5;241m=\u001B[39mwires, \u001B[38;5;28mid\u001B[39m\u001B[38;5;241m=\u001B[39m\u001B[38;5;28mid\u001B[39m)\n",
      "File \u001B[0;32m~/dev/CCKA-Clustered_Centroid_Kernel_Alignment/.venv/lib/python3.9/site-packages/pennylane/ops/qubit/observables.py:103\u001B[0m, in \u001B[0;36mHermitian._validate_input\u001B[0;34m(A, expected_mx_shape)\u001B[0m\n\u001B[1;32m     97\u001B[0m \u001B[38;5;28;01mif\u001B[39;00m expected_mx_shape \u001B[38;5;129;01mis\u001B[39;00m \u001B[38;5;129;01mnot\u001B[39;00m \u001B[38;5;28;01mNone\u001B[39;00m \u001B[38;5;129;01mand\u001B[39;00m A\u001B[38;5;241m.\u001B[39mshape[\u001B[38;5;241m0\u001B[39m] \u001B[38;5;241m!=\u001B[39m expected_mx_shape:\n\u001B[1;32m     98\u001B[0m     \u001B[38;5;28;01mraise\u001B[39;00m \u001B[38;5;167;01mValueError\u001B[39;00m(\n\u001B[1;32m     99\u001B[0m         \u001B[38;5;124mf\u001B[39m\u001B[38;5;124m\"\u001B[39m\u001B[38;5;124mExpected input matrix to have shape \u001B[39m\u001B[38;5;132;01m{\u001B[39;00mexpected_mx_shape\u001B[38;5;132;01m}\u001B[39;00m\u001B[38;5;124mx\u001B[39m\u001B[38;5;132;01m{\u001B[39;00mexpected_mx_shape\u001B[38;5;132;01m}\u001B[39;00m\u001B[38;5;124m, but \u001B[39m\u001B[38;5;124m\"\u001B[39m\n\u001B[1;32m    100\u001B[0m         \u001B[38;5;124mf\u001B[39m\u001B[38;5;124m\"\u001B[39m\u001B[38;5;124ma matrix with shape \u001B[39m\u001B[38;5;132;01m{\u001B[39;00mA\u001B[38;5;241m.\u001B[39mshape[\u001B[38;5;241m0\u001B[39m]\u001B[38;5;132;01m}\u001B[39;00m\u001B[38;5;124mx\u001B[39m\u001B[38;5;132;01m{\u001B[39;00mA\u001B[38;5;241m.\u001B[39mshape[\u001B[38;5;241m0\u001B[39m]\u001B[38;5;132;01m}\u001B[39;00m\u001B[38;5;124m was passed.\u001B[39m\u001B[38;5;124m\"\u001B[39m\n\u001B[1;32m    101\u001B[0m     )\n\u001B[0;32m--> 103\u001B[0m \u001B[38;5;28;01mif\u001B[39;00m \u001B[38;5;129;01mnot\u001B[39;00m \u001B[43mqml\u001B[49m\u001B[38;5;241;43m.\u001B[39;49m\u001B[43mmath\u001B[49m\u001B[38;5;241;43m.\u001B[39;49m\u001B[43mallclose\u001B[49m\u001B[43m(\u001B[49m\u001B[43mA\u001B[49m\u001B[43m,\u001B[49m\u001B[43m \u001B[49m\u001B[43mqml\u001B[49m\u001B[38;5;241;43m.\u001B[39;49m\u001B[43mmath\u001B[49m\u001B[38;5;241;43m.\u001B[39;49m\u001B[43mT\u001B[49m\u001B[43m(\u001B[49m\u001B[43mqml\u001B[49m\u001B[38;5;241;43m.\u001B[39;49m\u001B[43mmath\u001B[49m\u001B[38;5;241;43m.\u001B[39;49m\u001B[43mconj\u001B[49m\u001B[43m(\u001B[49m\u001B[43mA\u001B[49m\u001B[43m)\u001B[49m\u001B[43m)\u001B[49m\u001B[43m)\u001B[49m:\n\u001B[1;32m    104\u001B[0m     \u001B[38;5;28;01mraise\u001B[39;00m \u001B[38;5;167;01mValueError\u001B[39;00m(\u001B[38;5;124m\"\u001B[39m\u001B[38;5;124mObservable must be Hermitian.\u001B[39m\u001B[38;5;124m\"\u001B[39m)\n",
      "File \u001B[0;32m~/dev/CCKA-Clustered_Centroid_Kernel_Alignment/.venv/lib/python3.9/site-packages/pennylane/math/utils.py:65\u001B[0m, in \u001B[0;36mallclose\u001B[0;34m(a, b, rtol, atol, **kwargs)\u001B[0m\n\u001B[1;32m     60\u001B[0m \u001B[38;5;250m\u001B[39m\u001B[38;5;124;03m\"\"\"Wrapper around np.allclose, allowing tensors ``a`` and ``b``\u001B[39;00m\n\u001B[1;32m     61\u001B[0m \u001B[38;5;124;03mto differ in type\"\"\"\u001B[39;00m\n\u001B[1;32m     62\u001B[0m \u001B[38;5;28;01mtry\u001B[39;00m:\n\u001B[1;32m     63\u001B[0m     \u001B[38;5;66;03m# Some frameworks may provide their own allclose implementation.\u001B[39;00m\n\u001B[1;32m     64\u001B[0m     \u001B[38;5;66;03m# Try and use it if available.\u001B[39;00m\n\u001B[0;32m---> 65\u001B[0m     res \u001B[38;5;241m=\u001B[39m \u001B[43mnp\u001B[49m\u001B[38;5;241;43m.\u001B[39;49m\u001B[43mallclose\u001B[49m\u001B[43m(\u001B[49m\u001B[43ma\u001B[49m\u001B[43m,\u001B[49m\u001B[43m \u001B[49m\u001B[43mb\u001B[49m\u001B[43m,\u001B[49m\u001B[43m \u001B[49m\u001B[43mrtol\u001B[49m\u001B[38;5;241;43m=\u001B[39;49m\u001B[43mrtol\u001B[49m\u001B[43m,\u001B[49m\u001B[43m \u001B[49m\u001B[43matol\u001B[49m\u001B[38;5;241;43m=\u001B[39;49m\u001B[43matol\u001B[49m\u001B[43m,\u001B[49m\u001B[43m \u001B[49m\u001B[38;5;241;43m*\u001B[39;49m\u001B[38;5;241;43m*\u001B[39;49m\u001B[43mkwargs\u001B[49m\u001B[43m)\u001B[49m\n\u001B[1;32m     66\u001B[0m \u001B[38;5;28;01mexcept\u001B[39;00m (\u001B[38;5;167;01mTypeError\u001B[39;00m, \u001B[38;5;167;01mAttributeError\u001B[39;00m, \u001B[38;5;167;01mImportError\u001B[39;00m, \u001B[38;5;167;01mRuntimeError\u001B[39;00m):\n\u001B[1;32m     67\u001B[0m     \u001B[38;5;66;03m# Otherwise, convert the input to NumPy arrays.\u001B[39;00m\n\u001B[1;32m     68\u001B[0m     \u001B[38;5;66;03m#\u001B[39;00m\n\u001B[0;32m   (...)\u001B[0m\n\u001B[1;32m     72\u001B[0m     \u001B[38;5;66;03m#    np.abs(a - b) <= atol + rtol * np.abs(b)\u001B[39;00m\n\u001B[1;32m     73\u001B[0m     \u001B[38;5;66;03m#\u001B[39;00m\n\u001B[1;32m     74\u001B[0m     t1 \u001B[38;5;241m=\u001B[39m ar\u001B[38;5;241m.\u001B[39mto_numpy(a)\n",
      "File \u001B[0;32m~/dev/CCKA-Clustered_Centroid_Kernel_Alignment/.venv/lib/python3.9/site-packages/autoray/autoray.py:81\u001B[0m, in \u001B[0;36mdo\u001B[0;34m(fn, like, *args, **kwargs)\u001B[0m\n\u001B[1;32m     79\u001B[0m backend \u001B[38;5;241m=\u001B[39m _choose_backend(fn, args, kwargs, like\u001B[38;5;241m=\u001B[39mlike)\n\u001B[1;32m     80\u001B[0m func \u001B[38;5;241m=\u001B[39m get_lib_fn(backend, fn)\n\u001B[0;32m---> 81\u001B[0m \u001B[38;5;28;01mreturn\u001B[39;00m \u001B[43mfunc\u001B[49m\u001B[43m(\u001B[49m\u001B[38;5;241;43m*\u001B[39;49m\u001B[43margs\u001B[49m\u001B[43m,\u001B[49m\u001B[43m \u001B[49m\u001B[38;5;241;43m*\u001B[39;49m\u001B[38;5;241;43m*\u001B[39;49m\u001B[43mkwargs\u001B[49m\u001B[43m)\u001B[49m\n",
      "File \u001B[0;32m~/dev/CCKA-Clustered_Centroid_Kernel_Alignment/.venv/lib/python3.9/site-packages/numpy/core/numeric.py:2241\u001B[0m, in \u001B[0;36mallclose\u001B[0;34m(a, b, rtol, atol, equal_nan)\u001B[0m\n\u001B[1;32m   2170\u001B[0m \u001B[38;5;129m@array_function_dispatch\u001B[39m(_allclose_dispatcher)\n\u001B[1;32m   2171\u001B[0m \u001B[38;5;28;01mdef\u001B[39;00m\u001B[38;5;250m \u001B[39m\u001B[38;5;21mallclose\u001B[39m(a, b, rtol\u001B[38;5;241m=\u001B[39m\u001B[38;5;241m1.e-5\u001B[39m, atol\u001B[38;5;241m=\u001B[39m\u001B[38;5;241m1.e-8\u001B[39m, equal_nan\u001B[38;5;241m=\u001B[39m\u001B[38;5;28;01mFalse\u001B[39;00m):\n\u001B[1;32m   2172\u001B[0m \u001B[38;5;250m    \u001B[39m\u001B[38;5;124;03m\"\"\"\u001B[39;00m\n\u001B[1;32m   2173\u001B[0m \u001B[38;5;124;03m    Returns True if two arrays are element-wise equal within a tolerance.\u001B[39;00m\n\u001B[1;32m   2174\u001B[0m \n\u001B[0;32m   (...)\u001B[0m\n\u001B[1;32m   2239\u001B[0m \n\u001B[1;32m   2240\u001B[0m \u001B[38;5;124;03m    \"\"\"\u001B[39;00m\n\u001B[0;32m-> 2241\u001B[0m     res \u001B[38;5;241m=\u001B[39m \u001B[38;5;28mall\u001B[39m(\u001B[43misclose\u001B[49m\u001B[43m(\u001B[49m\u001B[43ma\u001B[49m\u001B[43m,\u001B[49m\u001B[43m \u001B[49m\u001B[43mb\u001B[49m\u001B[43m,\u001B[49m\u001B[43m \u001B[49m\u001B[43mrtol\u001B[49m\u001B[38;5;241;43m=\u001B[39;49m\u001B[43mrtol\u001B[49m\u001B[43m,\u001B[49m\u001B[43m \u001B[49m\u001B[43matol\u001B[49m\u001B[38;5;241;43m=\u001B[39;49m\u001B[43matol\u001B[49m\u001B[43m,\u001B[49m\u001B[43m \u001B[49m\u001B[43mequal_nan\u001B[49m\u001B[38;5;241;43m=\u001B[39;49m\u001B[43mequal_nan\u001B[49m\u001B[43m)\u001B[49m)\n\u001B[1;32m   2242\u001B[0m     \u001B[38;5;28;01mreturn\u001B[39;00m \u001B[38;5;28mbool\u001B[39m(res)\n",
      "File \u001B[0;32m~/dev/CCKA-Clustered_Centroid_Kernel_Alignment/.venv/lib/python3.9/site-packages/numpy/core/numeric.py:2351\u001B[0m, in \u001B[0;36misclose\u001B[0;34m(a, b, rtol, atol, equal_nan)\u001B[0m\n\u001B[1;32m   2349\u001B[0m yfin \u001B[38;5;241m=\u001B[39m isfinite(y)\n\u001B[1;32m   2350\u001B[0m \u001B[38;5;28;01mif\u001B[39;00m \u001B[38;5;28mall\u001B[39m(xfin) \u001B[38;5;129;01mand\u001B[39;00m \u001B[38;5;28mall\u001B[39m(yfin):\n\u001B[0;32m-> 2351\u001B[0m     \u001B[38;5;28;01mreturn\u001B[39;00m \u001B[43mwithin_tol\u001B[49m\u001B[43m(\u001B[49m\u001B[43mx\u001B[49m\u001B[43m,\u001B[49m\u001B[43m \u001B[49m\u001B[43my\u001B[49m\u001B[43m,\u001B[49m\u001B[43m \u001B[49m\u001B[43matol\u001B[49m\u001B[43m,\u001B[49m\u001B[43m \u001B[49m\u001B[43mrtol\u001B[49m\u001B[43m)\u001B[49m\n\u001B[1;32m   2352\u001B[0m \u001B[38;5;28;01melse\u001B[39;00m:\n\u001B[1;32m   2353\u001B[0m     finite \u001B[38;5;241m=\u001B[39m xfin \u001B[38;5;241m&\u001B[39m yfin\n",
      "File \u001B[0;32m~/dev/CCKA-Clustered_Centroid_Kernel_Alignment/.venv/lib/python3.9/site-packages/numpy/core/numeric.py:2332\u001B[0m, in \u001B[0;36misclose.<locals>.within_tol\u001B[0;34m(x, y, atol, rtol)\u001B[0m\n\u001B[1;32m   2330\u001B[0m \u001B[38;5;28;01mdef\u001B[39;00m\u001B[38;5;250m \u001B[39m\u001B[38;5;21mwithin_tol\u001B[39m(x, y, atol, rtol):\n\u001B[1;32m   2331\u001B[0m     \u001B[38;5;28;01mwith\u001B[39;00m errstate(invalid\u001B[38;5;241m=\u001B[39m\u001B[38;5;124m'\u001B[39m\u001B[38;5;124mignore\u001B[39m\u001B[38;5;124m'\u001B[39m), _no_nep50_warning():\n\u001B[0;32m-> 2332\u001B[0m         \u001B[38;5;28;01mreturn\u001B[39;00m less_equal(\u001B[38;5;28mabs\u001B[39m(x\u001B[38;5;241m-\u001B[39my), atol \u001B[38;5;241m+\u001B[39m rtol \u001B[38;5;241m*\u001B[39m \u001B[38;5;28mabs\u001B[39m(y))\n",
      "File \u001B[0;32m~/dev/CCKA-Clustered_Centroid_Kernel_Alignment/.venv/lib/python3.9/site-packages/numpy/core/_ufunc_config.py:436\u001B[0m, in \u001B[0;36merrstate.__exit__\u001B[0;34m(self, *exc_info)\u001B[0m\n\u001B[1;32m    435\u001B[0m \u001B[38;5;28;01mdef\u001B[39;00m\u001B[38;5;250m \u001B[39m\u001B[38;5;21m__exit__\u001B[39m(\u001B[38;5;28mself\u001B[39m, \u001B[38;5;241m*\u001B[39mexc_info):\n\u001B[0;32m--> 436\u001B[0m     \u001B[43mseterr\u001B[49m\u001B[43m(\u001B[49m\u001B[38;5;241;43m*\u001B[39;49m\u001B[38;5;241;43m*\u001B[39;49m\u001B[38;5;28;43mself\u001B[39;49m\u001B[38;5;241;43m.\u001B[39;49m\u001B[43moldstate\u001B[49m\u001B[43m)\u001B[49m\n\u001B[1;32m    437\u001B[0m     \u001B[38;5;28;01mif\u001B[39;00m \u001B[38;5;28mself\u001B[39m\u001B[38;5;241m.\u001B[39mcall \u001B[38;5;129;01mis\u001B[39;00m \u001B[38;5;129;01mnot\u001B[39;00m _Unspecified:\n\u001B[1;32m    438\u001B[0m         seterrcall(\u001B[38;5;28mself\u001B[39m\u001B[38;5;241m.\u001B[39moldcall)\n",
      "File \u001B[0;32m~/dev/CCKA-Clustered_Centroid_Kernel_Alignment/.venv/lib/python3.9/site-packages/numpy/core/_ufunc_config.py:111\u001B[0m, in \u001B[0;36mseterr\u001B[0;34m(all, divide, over, under, invalid)\u001B[0m\n\u001B[1;32m     35\u001B[0m \u001B[38;5;250m\u001B[39m\u001B[38;5;124;03m\"\"\"\u001B[39;00m\n\u001B[1;32m     36\u001B[0m \u001B[38;5;124;03mSet how floating-point errors are handled.\u001B[39;00m\n\u001B[1;32m     37\u001B[0m \n\u001B[0;32m   (...)\u001B[0m\n\u001B[1;32m    107\u001B[0m \n\u001B[1;32m    108\u001B[0m \u001B[38;5;124;03m\"\"\"\u001B[39;00m\n\u001B[1;32m    110\u001B[0m pyvals \u001B[38;5;241m=\u001B[39m umath\u001B[38;5;241m.\u001B[39mgeterrobj()\n\u001B[0;32m--> 111\u001B[0m old \u001B[38;5;241m=\u001B[39m \u001B[43mgeterr\u001B[49m\u001B[43m(\u001B[49m\u001B[43m)\u001B[49m\n\u001B[1;32m    113\u001B[0m \u001B[38;5;28;01mif\u001B[39;00m divide \u001B[38;5;129;01mis\u001B[39;00m \u001B[38;5;28;01mNone\u001B[39;00m:\n\u001B[1;32m    114\u001B[0m     divide \u001B[38;5;241m=\u001B[39m \u001B[38;5;28mall\u001B[39m \u001B[38;5;129;01mor\u001B[39;00m old[\u001B[38;5;124m'\u001B[39m\u001B[38;5;124mdivide\u001B[39m\u001B[38;5;124m'\u001B[39m]\n",
      "File \u001B[0;32m~/dev/CCKA-Clustered_Centroid_Kernel_Alignment/.venv/lib/python3.9/site-packages/numpy/core/_ufunc_config.py:176\u001B[0m, in \u001B[0;36mgeterr\u001B[0;34m()\u001B[0m\n\u001B[1;32m    174\u001B[0m res[\u001B[38;5;124m'\u001B[39m\u001B[38;5;124mover\u001B[39m\u001B[38;5;124m'\u001B[39m] \u001B[38;5;241m=\u001B[39m _errdict_rev[val]\n\u001B[1;32m    175\u001B[0m val \u001B[38;5;241m=\u001B[39m (maskvalue \u001B[38;5;241m>>\u001B[39m SHIFT_UNDERFLOW) \u001B[38;5;241m&\u001B[39m mask\n\u001B[0;32m--> 176\u001B[0m res[\u001B[38;5;124m'\u001B[39m\u001B[38;5;124munder\u001B[39m\u001B[38;5;124m'\u001B[39m] \u001B[38;5;241m=\u001B[39m \u001B[43m_errdict_rev\u001B[49m\u001B[43m[\u001B[49m\u001B[43mval\u001B[49m\u001B[43m]\u001B[49m\n\u001B[1;32m    177\u001B[0m val \u001B[38;5;241m=\u001B[39m (maskvalue \u001B[38;5;241m>>\u001B[39m SHIFT_INVALID) \u001B[38;5;241m&\u001B[39m mask\n\u001B[1;32m    178\u001B[0m res[\u001B[38;5;124m'\u001B[39m\u001B[38;5;124minvalid\u001B[39m\u001B[38;5;124m'\u001B[39m] \u001B[38;5;241m=\u001B[39m _errdict_rev[val]\n",
      "\u001B[0;31mKeyboardInterrupt\u001B[0m: "
     ]
    }
   ],
   "execution_count": 46
  },
  {
   "metadata": {
    "ExecuteTime": {
     "end_time": "2025-07-23T12:22:16.787498405Z",
     "start_time": "2025-07-23T12:10:21.613135Z"
    }
   },
   "cell_type": "code",
   "source": [
    "after_metrics = agent.evaluate(testing_data, testing_labels, 'after')\n",
    "after_metrics"
   ],
   "id": "dd0c5b40fdf3028f",
   "outputs": [
    {
     "data": {
      "text/plain": [
       "{'alignment': tensor(1.0494, grad_fn=<SqueezeBackward0>),\n",
       " 'executions': 14400,\n",
       " 'training_accuracy': 0.9647887323943662,\n",
       " 'testing_accuracy': 0.8055555555555556,\n",
       " 'f1_score': 0.8130839550984743,\n",
       " 'alignment_arr': [[], []],\n",
       " 'loss_arr': [],\n",
       " 'validation_accuracy_arr': []}"
      ]
     },
     "execution_count": 38,
     "metadata": {},
     "output_type": "execute_result"
    }
   ],
   "execution_count": 38
  }
 ],
 "metadata": {
  "kernelspec": {
   "display_name": "Python 3",
   "language": "python",
   "name": "python3"
  },
  "language_info": {
   "codemirror_mode": {
    "name": "ipython",
    "version": 2
   },
   "file_extension": ".py",
   "mimetype": "text/x-python",
   "name": "python",
   "nbconvert_exporter": "python",
   "pygments_lexer": "ipython2",
   "version": "2.7.6"
  }
 },
 "nbformat": 4,
 "nbformat_minor": 5
}
