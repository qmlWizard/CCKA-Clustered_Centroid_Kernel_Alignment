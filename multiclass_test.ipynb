{
 "cells": [
  {
   "metadata": {
    "ExecuteTime": {
     "end_time": "2025-07-25T08:29:09.715764Z",
     "start_time": "2025-07-25T08:29:09.713276Z"
    }
   },
   "cell_type": "code",
   "source": [
    "import torch\n",
    "import ray\n",
    "from ray import tune\n",
    "from ray.air import session\n",
    "from sklearn.model_selection import train_test_split\n",
    "import yaml\n",
    "import argparse\n",
    "import shutil\n",
    "from collections import namedtuple\n",
    "import os\n",
    "import datetime\n",
    "\n",
    "\n",
    "# Custom Libraries\n",
    "from utils.data_generator import DataGenerator\n",
    "from utils.agent import TrainModel\n",
    "from utils.helper import to_python_native, gen_experiment_name, set_seed, save_model_state\n",
    "from utils.plotter import alignment_progress_over_iterations, plot_initial_final_accuracies\n",
    "from utils.pennylane.model import Qkernel"
   ],
   "id": "73fc4ed22cb68042",
   "outputs": [],
   "execution_count": 17
  },
  {
   "metadata": {
    "ExecuteTime": {
     "end_time": "2025-07-25T08:29:09.731649Z",
     "start_time": "2025-07-25T08:29:09.718199Z"
    }
   },
   "cell_type": "code",
   "source": [
    "# === Backend Configuration ===\n",
    "if torch.backends.mps.is_available():\n",
    "    device = torch.device(\"mps\")\n",
    "elif torch.cuda.is_available():\n",
    "    device = torch.device(\"cuda\")\n",
    "elif torch.xpu.is_available():\n",
    "    device = torch.device(\"xpu\")\n",
    "else:\n",
    "    device = torch.device(\"cpu\")\n",
    "\n",
    "set_seed(42)"
   ],
   "id": "6e00a9009403967a",
   "outputs": [],
   "execution_count": 18
  },
  {
   "metadata": {
    "ExecuteTime": {
     "end_time": "2025-07-25T08:29:09.771753Z",
     "start_time": "2025-07-25T08:29:09.766671Z"
    }
   },
   "cell_type": "code",
   "source": [
    "data_generator = DataGenerator(\n",
    "        dataset_name= 'wine',\n",
    "        file_path=None,\n",
    "    )\n",
    "\n",
    "training_data, training_labels, testing_data, testing_labels = data_generator.generate_dataset()\n",
    "training_data = torch.tensor(training_data.to_numpy(), dtype=torch.float32, requires_grad=True)\n",
    "testing_data = torch.tensor(testing_data.to_numpy(), dtype=torch.float32, requires_grad=True)\n",
    "training_labels = torch.tensor(training_labels.to_numpy(), dtype=torch.int)\n",
    "testing_labels = torch.tensor(testing_labels.to_numpy(), dtype=torch.int)"
   ],
   "id": "8eff54c8221ee3f8",
   "outputs": [],
   "execution_count": 19
  },
  {
   "metadata": {
    "ExecuteTime": {
     "end_time": "2025-07-25T08:29:09.817384Z",
     "start_time": "2025-07-25T08:29:09.815101Z"
    }
   },
   "cell_type": "code",
   "source": [
    "print(training_data.size())\n",
    "print(testing_data.size())"
   ],
   "id": "b0795ba50830e58e",
   "outputs": [
    {
     "name": "stdout",
     "output_type": "stream",
     "text": [
      "torch.Size([142, 13])\n",
      "torch.Size([36, 13])\n"
     ]
    }
   ],
   "execution_count": 20
  },
  {
   "metadata": {
    "ExecuteTime": {
     "end_time": "2025-07-25T08:29:09.866510Z",
     "start_time": "2025-07-25T08:29:09.863379Z"
    }
   },
   "cell_type": "code",
   "source": [
    "kernel = Qkernel(\n",
    "        device='lightning.qubit',\n",
    "        n_qubits=4,\n",
    "        trainable=True,\n",
    "        input_scaling=True,\n",
    "        data_reuploading=True,\n",
    "        ansatz='embedding_paper',\n",
    "        ansatz_layers=5\n",
    "    )"
   ],
   "id": "44d5dde088255c59",
   "outputs": [],
   "execution_count": 21
  },
  {
   "metadata": {
    "ExecuteTime": {
     "end_time": "2025-07-25T08:29:10.260963Z",
     "start_time": "2025-07-25T08:29:09.910617Z"
    }
   },
   "cell_type": "code",
   "source": [
    "agent = TrainModel(\n",
    "        kernel=kernel,\n",
    "        training_data=training_data,\n",
    "        training_labels=training_labels,\n",
    "        testing_data=testing_data,\n",
    "        testing_labels=testing_labels,\n",
    "        optimizer='gd',\n",
    "        lr= 0.1,\n",
    "        mclr=0.01,\n",
    "        cclr=0.01,\n",
    "        epochs=100,\n",
    "        train_method='ccka',\n",
    "        target_accuracy=0.95,\n",
    "        get_alignment_every=100,\n",
    "        validate_every_epoch=1,\n",
    "        base_path='./',\n",
    "        lambda_kao=0.001,\n",
    "        lambda_co=0.001,\n",
    "        clusters=8,\n",
    "        use_kmeans=True\n",
    "    )"
   ],
   "id": "de729e20ecf68f01",
   "outputs": [
    {
     "name": "stdout",
     "output_type": "stream",
     "text": [
      "Epochs:  10\n"
     ]
    }
   ],
   "execution_count": 22
  },
  {
   "metadata": {
    "ExecuteTime": {
     "end_time": "2025-07-25T08:32:52.248256Z",
     "start_time": "2025-07-25T08:29:10.266150Z"
    }
   },
   "cell_type": "code",
   "source": [
    "before_metrics = agent.evaluate_test(testing_data, testing_labels, 'before')\n",
    "before_metrics"
   ],
   "id": "e8f8566defb4bf8b",
   "outputs": [
    {
     "name": "stdout",
     "output_type": "stream",
     "text": [
      "proto_labels: [1, 1, 1, 1, 1, 1, 1, 1, 2, 2, 2, 2, 2, 2, 2, 2, 3, 3, 3, 3, 3, 3, 3, 3]\n",
      "len(subcentroids): 24\n",
      "{1: [Parameter containing:\n",
      "tensor([ 1.4763, -1.9548, -0.1320, -1.3233,  0.0195,  1.1885,  0.5378, -1.6004,\n",
      "         0.1656, -0.7038, -0.6823,  1.8922, -0.2004], requires_grad=True), Parameter containing:\n",
      "tensor([ 0.8267, -1.9992,  0.4296, -1.0688, -1.0049, -0.0588, -0.2613, -1.0416,\n",
      "        -0.9528, -1.5654,  0.1788,  0.2844,  0.5135], requires_grad=True), Parameter containing:\n",
      "tensor([ 1.3662, -1.7571,  0.8862, -0.7692, -0.3415,  1.1266,  0.5915, -0.4149,\n",
      "        -0.0768, -0.3545,  0.0575,  0.6128,  1.1949], requires_grad=True), Parameter containing:\n",
      "tensor([ 1.8850, -1.7353, -0.0588, -2.2185, -1.2635,  1.2729,  1.0207, -1.3930,\n",
      "         1.5262, -0.3632,  0.5619,  0.7307,  1.6145], requires_grad=True), Parameter containing:\n",
      "tensor([ 0.5556, -0.5041,  1.5826,  0.0000, -0.3551,  0.5547, -0.0451, -0.4149,\n",
      "        -0.3310, -1.5483, -0.2094,  1.3234, -0.8649], requires_grad=True), Parameter containing:\n",
      "tensor([ 2.5574, -0.2442,  0.0840, -1.9109, -0.4781,  1.2711,  0.4684, -1.6795,\n",
      "         0.1751, -1.1115, -0.4683,  1.4691, -0.1001], requires_grad=True), Parameter containing:\n",
      "tensor([ 1.1306, -1.8114,  0.5670, -1.2469, -1.0927,  0.3792,  0.0447, -1.3930,\n",
      "        -0.6690, -1.2873, -0.1469,  2.0627,  0.6907], requires_grad=True), Parameter containing:\n",
      "tensor([ 1.7196, -1.9371,  0.5992, -1.4466, -0.3642,  2.7733,  1.2239, -1.7190,\n",
      "         0.0694,  0.0411, -0.8939,  1.2850,  1.5208], requires_grad=True)], 2: [Parameter containing:\n",
      "tensor([-1.5283, -2.2688,  0.0312, -0.2822, -1.5806,  1.3154,  0.0814, -1.8714,\n",
      "        -0.3384, -1.8634, -0.7115,  0.8532, -1.9495], requires_grad=True), Parameter containing:\n",
      "tensor([-1.4265, -1.6797,  0.3161,  0.0353, -1.2355, -1.7963, -1.6003,  0.4904,\n",
      "        -1.2532, -2.1732, -0.0460, -0.7062, -1.9458], requires_grad=True), Parameter containing:\n",
      "tensor([-0.8570, -0.0393, -0.0336,  0.1457, -1.6391,  0.9172,  0.0000, -1.1460,\n",
      "         1.0373, -2.3893,  0.0426,  1.1738, -2.5119], requires_grad=True), Parameter containing:\n",
      "tensor([-1.1837, -2.0693, -0.6117, -0.0267, -1.9645, -0.5034, -0.9443, -0.6590,\n",
      "        -0.9531, -2.3690,  0.0796,  0.9958, -2.1657], requires_grad=True), Parameter containing:\n",
      "tensor([-0.7110, -2.3934, -0.5712, -0.0486,  2.1172, -0.0921, -0.8450, -1.6597,\n",
      "         1.2487, -2.1927,  0.5491,  0.5581, -0.5893], requires_grad=True), Parameter containing:\n",
      "tensor([-1.6645, -1.2748,  1.5624,  1.9540, -1.0700, -0.2167,  0.4551,  2.0746,\n",
      "        -0.6177, -1.7370, -0.8939,  1.1699, -2.5261], requires_grad=True), Parameter containing:\n",
      "tensor([ 0.1323, -2.7219, -1.4146, -1.4963, -1.3932, -0.6803, -1.7100, -0.1304,\n",
      "        -2.5073, -1.7617, -0.0051, -1.3326, -1.9298], requires_grad=True), Parameter containing:\n",
      "tensor([-0.4795,  1.6484,  0.3192,  0.9149, -1.8952, -0.6229, -0.9014,  0.5335,\n",
      "        -0.6392, -2.2088, -1.4048,  0.1496, -2.3259], requires_grad=True)], 3: [Parameter containing:\n",
      "tensor([ 1.3129,  1.9843,  0.3528,  0.5182, -1.7484, -1.9153, -2.8473,  1.5056,\n",
      "        -1.6590,  0.0665, -2.3141, -2.4281, -1.7344], requires_grad=True), Parameter containing:\n",
      "tensor([ 0.5811,  0.3122,  0.6120,  0.2498, -1.1220, -1.4393, -2.7856,  1.3803,\n",
      "        -2.2666, -1.0623, -1.2077, -1.5404, -1.7209], requires_grad=True), Parameter containing:\n",
      "tensor([-0.1984, -0.5603,  0.3822,  0.3482, -0.3842, -1.9797, -2.0066, -1.6893,\n",
      "        -1.8384, -0.0945, -2.2413, -2.7590, -1.7938], requires_grad=True), Parameter containing:\n",
      "tensor([ 0.8212,  0.0359,  0.4051,  0.1367, -0.9865, -1.6105, -2.5745,  0.7969,\n",
      "        -1.1573,  1.3397, -2.3016, -2.2875, -1.2653], requires_grad=True), Parameter containing:\n",
      "tensor([-0.6063, -1.9951, -0.3752, -0.5290, -1.5025, -1.5816, -2.7881,  2.2722,\n",
      "        -1.5824, -0.2270, -2.0859, -2.5048, -1.4222], requires_grad=True), Parameter containing:\n",
      "tensor([-0.8929,  2.2910,  0.9912,  0.8745, -1.6049, -1.8308, -2.8831,  2.1932,\n",
      "        -2.0713, -1.4555, -1.5836, -2.6583, -1.6201], requires_grad=True), Parameter containing:\n",
      "tensor([ 1.6204, -1.9806,  1.2600,  1.1174, -1.5366,  0.5850, -1.9950,  1.5412,\n",
      "         0.9910,  2.8065, -2.6818, -1.7607, -1.5193], requires_grad=True), Parameter containing:\n",
      "tensor([-0.7606,  0.4408,  0.5376,  0.5911, -1.6562, -1.3921, -2.7174,  1.2448,\n",
      "        -2.0861, -0.0348, -2.4903, -2.0369, -1.5473], requires_grad=True)]}\n",
      "{1: Parameter containing:\n",
      "tensor([ 1.3165, -1.6052,  0.5208, -1.1516, -0.6162,  0.8878,  0.3547, -1.1289,\n",
      "        -0.1398, -0.9206, -0.1584,  1.2098,  0.5260], requires_grad=True), 2: Parameter containing:\n",
      "tensor([-1.0658, -1.5822, -0.1807,  0.0119, -1.3539, -0.3600, -0.8291, -0.4336,\n",
      "        -0.6682, -2.1611, -0.1756,  0.3834, -2.0320], requires_grad=True), 3: Parameter containing:\n",
      "tensor([ 0.3257,  0.1087,  0.4570,  0.3279, -1.1491, -1.5697, -2.5487,  0.7528,\n",
      "        -1.6134,  0.1520, -2.0855, -2.2521, -1.5798], requires_grad=True)}\n",
      "Sims mean per class:\n",
      "Class 1: mean sim = 0.0299, std = 0.0890\n",
      "Class 2: mean sim = 0.0235, std = 0.0680\n",
      "Class 3: mean sim = 0.0216, std = 0.0702\n",
      "Sims mean per class:\n",
      "Class 1: mean sim = 0.0368, std = 0.1093\n",
      "Class 2: mean sim = 0.0183, std = 0.0487\n",
      "Class 3: mean sim = 0.0188, std = 0.0417\n"
     ]
    },
    {
     "data": {
      "text/plain": [
       "{'alignment': tensor(0.9346, grad_fn=<SqueezeBackward0>),\n",
       " 'executions': None,\n",
       " 'training_accuracy': 0.6690140845070423,\n",
       " 'testing_accuracy': 0.6944444444444444,\n",
       " 'f1_score': 0.7061294261294262,\n",
       " 'alignment_arr': [[], []],\n",
       " 'loss_arr': [],\n",
       " 'validation_accuracy_arr': []}"
      ]
     },
     "execution_count": 23,
     "metadata": {},
     "output_type": "execute_result"
    }
   ],
   "execution_count": 23
  },
  {
   "metadata": {
    "ExecuteTime": {
     "end_time": "2025-07-25T08:36:19.569758Z",
     "start_time": "2025-07-25T08:32:52.300840Z"
    }
   },
   "cell_type": "code",
   "source": " agent.fit_multiclass(training_data, training_labels)",
   "id": "ead487234afd392a",
   "outputs": [
    {
     "name": "stdout",
     "output_type": "stream",
     "text": [
      "Started Training\n",
      "------------------------------------------------------------------\n",
      "Epoch: 9 — Alignment per main centroid\n",
      "Centroid 0 (label=0): Alignment = -0.3625839352607727\n",
      "Centroid 1 (label=1): Alignment = -0.14122827351093292\n",
      "Centroid 2 (label=2): Alignment = -0.03269040957093239\n",
      "------------------------------------------------------------------\n"
     ]
    },
    {
     "data": {
      "text/plain": [
       "(Qkernel(),\n",
       " [Parameter containing:\n",
       "  tensor([[1.0021, 0.9009, 1.0598, 1.6565],\n",
       "          [1.0492, 0.3985, 1.1188, 1.5979],\n",
       "          [0.5470, 0.9987, 0.6590, 1.2983],\n",
       "          [1.1728, 1.7096, 1.5389, 1.0977],\n",
       "          [0.1672, 1.5473, 1.1811, 0.9918]], requires_grad=True),\n",
       "  Parameter containing:\n",
       "  tensor([[ 2.5002,  1.9146, -1.1743,  3.6822],\n",
       "          [-0.6125,  0.6750, -1.4409,  0.8102],\n",
       "          [ 1.9916, -1.6664,  2.6247,  1.0600],\n",
       "          [ 2.8034,  0.5125,  1.7722, -0.3050],\n",
       "          [ 2.2808,  0.4373, -1.3812,  0.7541]], requires_grad=True),\n",
       "  Parameter containing:\n",
       "  tensor([[-1.5987, -0.1881, -1.4192,  1.7429],\n",
       "          [-2.2155, -0.5051, -0.4418, -1.7258],\n",
       "          [-0.1265, -3.3522,  3.1386, -2.2544],\n",
       "          [ 2.0066,  0.3211, -1.1190,  2.0040],\n",
       "          [ 0.4611,  2.3905,  0.3234, -0.9331]], requires_grad=True)],\n",
       " ParameterList(\n",
       "     (0): Parameter containing: [torch.float32 of size 13]\n",
       "     (1): Parameter containing: [torch.float32 of size 13]\n",
       "     (2): Parameter containing: [torch.float32 of size 13]\n",
       " ),\n",
       " ParameterList(\n",
       "     (0): Parameter containing: [torch.float32 of size 13]\n",
       "     (1): Parameter containing: [torch.float32 of size 13]\n",
       "     (2): Parameter containing: [torch.float32 of size 13]\n",
       "     (3): Parameter containing: [torch.float32 of size 13]\n",
       "     (4): Parameter containing: [torch.float32 of size 13]\n",
       "     (5): Parameter containing: [torch.float32 of size 13]\n",
       "     (6): Parameter containing: [torch.float32 of size 13]\n",
       "     (7): Parameter containing: [torch.float32 of size 13]\n",
       "     (8): Parameter containing: [torch.float32 of size 13]\n",
       "     (9): Parameter containing: [torch.float32 of size 13]\n",
       "     (10): Parameter containing: [torch.float32 of size 13]\n",
       "     (11): Parameter containing: [torch.float32 of size 13]\n",
       "     (12): Parameter containing: [torch.float32 of size 13]\n",
       "     (13): Parameter containing: [torch.float32 of size 13]\n",
       "     (14): Parameter containing: [torch.float32 of size 13]\n",
       "     (15): Parameter containing: [torch.float32 of size 13]\n",
       "     (16): Parameter containing: [torch.float32 of size 13]\n",
       "     (17): Parameter containing: [torch.float32 of size 13]\n",
       "     (18): Parameter containing: [torch.float32 of size 13]\n",
       "     (19): Parameter containing: [torch.float32 of size 13]\n",
       "     (20): Parameter containing: [torch.float32 of size 13]\n",
       "     (21): Parameter containing: [torch.float32 of size 13]\n",
       "     (22): Parameter containing: [torch.float32 of size 13]\n",
       "     (23): Parameter containing: [torch.float32 of size 13]\n",
       " ))"
      ]
     },
     "execution_count": 24,
     "metadata": {},
     "output_type": "execute_result"
    }
   ],
   "execution_count": 24
  },
  {
   "metadata": {
    "ExecuteTime": {
     "end_time": "2025-07-25T08:40:12.869704Z",
     "start_time": "2025-07-25T08:36:19.621303Z"
    }
   },
   "cell_type": "code",
   "source": [
    "after_metrics = agent.evaluate_test(testing_data, testing_labels, 'after')\n",
    "after_metrics"
   ],
   "id": "dd0c5b40fdf3028f",
   "outputs": [
    {
     "name": "stdout",
     "output_type": "stream",
     "text": [
      "proto_labels: [1, 1, 1, 1, 1, 1, 1, 1, 2, 2, 2, 2, 2, 2, 2, 2, 3, 3, 3, 3, 3, 3, 3, 3]\n",
      "len(subcentroids): 24\n",
      "{1: [Parameter containing:\n",
      "tensor([ 1.5006, -2.0174, -0.1951, -1.4529,  0.0195,  1.1885,  0.5378, -1.6004,\n",
      "         0.1656, -0.7038, -0.6823,  1.8922, -0.2004], requires_grad=True), Parameter containing:\n",
      "tensor([ 0.7975, -2.0743,  0.3304, -1.0701, -1.0049, -0.0588, -0.2613, -1.0416,\n",
      "        -0.9528, -1.5654,  0.1788,  0.2844,  0.5135], requires_grad=True), Parameter containing:\n",
      "tensor([ 1.3649, -1.7673,  1.0042, -0.7004, -0.3415,  1.1266,  0.5915, -0.4149,\n",
      "        -0.0768, -0.3545,  0.0575,  0.6128,  1.1949], requires_grad=True), Parameter containing:\n",
      "tensor([ 1.8406, -1.7726, -0.2215, -2.1847, -1.2635,  1.2729,  1.0207, -1.3930,\n",
      "         1.5262, -0.3632,  0.5619,  0.7307,  1.6145], requires_grad=True), Parameter containing:\n",
      "tensor([ 0.5547, -0.5036,  1.5747,  0.0180, -0.3551,  0.5547, -0.0451, -0.4149,\n",
      "        -0.3310, -1.5483, -0.2094,  1.3234, -0.8649], requires_grad=True), Parameter containing:\n",
      "tensor([ 2.5588, -0.2412,  0.0808, -1.9105, -0.4781,  1.2711,  0.4684, -1.6795,\n",
      "         0.1751, -1.1115, -0.4683,  1.4691, -0.1001], requires_grad=True), Parameter containing:\n",
      "tensor([ 1.1891, -1.7099,  0.5583, -1.1608, -1.0927,  0.3792,  0.0447, -1.3930,\n",
      "        -0.6690, -1.2873, -0.1469,  2.0627,  0.6907], requires_grad=True), Parameter containing:\n",
      "tensor([ 1.7356, -1.9826,  0.5272, -1.5378, -0.3642,  2.7733,  1.2239, -1.7190,\n",
      "         0.0694,  0.0411, -0.8939,  1.2850,  1.5208], requires_grad=True)], 2: [Parameter containing:\n",
      "tensor([-1.5604, -2.4452,  0.1741, -0.4585, -1.5806,  1.3154,  0.0814, -1.8714,\n",
      "        -0.3384, -1.8634, -0.7115,  0.8532, -1.9495], requires_grad=True), Parameter containing:\n",
      "tensor([-1.4736, -1.6310,  0.4982,  0.0856, -1.2355, -1.7963, -1.6003,  0.4904,\n",
      "        -1.2532, -2.1732, -0.0460, -0.7062, -1.9458], requires_grad=True), Parameter containing:\n",
      "tensor([-0.8434, -0.0445, -0.0192,  0.1448, -1.6391,  0.9172,  0.0000, -1.1460,\n",
      "         1.0373, -2.3893,  0.0426,  1.1738, -2.5119], requires_grad=True), Parameter containing:\n",
      "tensor([-1.2684, -2.1894, -0.8355,  0.0223, -1.9645, -0.5034, -0.9443, -0.6590,\n",
      "        -0.9531, -2.3690,  0.0796,  0.9958, -2.1657], requires_grad=True), Parameter containing:\n",
      "tensor([-0.5474, -2.5789, -0.5891, -0.0758,  2.1172, -0.0921, -0.8450, -1.6597,\n",
      "         1.2487, -2.1927,  0.5491,  0.5581, -0.5893], requires_grad=True), Parameter containing:\n",
      "tensor([-1.6723, -1.2828,  1.5543,  1.9549, -1.0700, -0.2167,  0.4551,  2.0746,\n",
      "        -0.6177, -1.7370, -0.8939,  1.1699, -2.5261], requires_grad=True), Parameter containing:\n",
      "tensor([ 0.0464, -2.7285, -1.4873, -1.5212, -1.3932, -0.6803, -1.7100, -0.1304,\n",
      "        -2.5073, -1.7617, -0.0051, -1.3326, -1.9298], requires_grad=True), Parameter containing:\n",
      "tensor([-0.4743,  1.6425,  0.3198,  0.9093, -1.8952, -0.6229, -0.9014,  0.5335,\n",
      "        -0.6392, -2.2088, -1.4048,  0.1496, -2.3259], requires_grad=True)], 3: [Parameter containing:\n",
      "tensor([ 1.3078,  1.9716,  0.3518,  0.5190, -1.7484, -1.9153, -2.8473,  1.5056,\n",
      "        -1.6590,  0.0665, -2.3141, -2.4281, -1.7344], requires_grad=True), Parameter containing:\n",
      "tensor([ 0.6700,  0.7633,  0.7165,  0.3282, -1.1220, -1.4393, -2.7856,  1.3803,\n",
      "        -2.2666, -1.0623, -1.2077, -1.5404, -1.7209], requires_grad=True), Parameter containing:\n",
      "tensor([-0.2649, -0.6909,  0.4229,  0.3260, -0.3842, -1.9797, -2.0066, -1.6893,\n",
      "        -1.8384, -0.0945, -2.2413, -2.7590, -1.7938], requires_grad=True), Parameter containing:\n",
      "tensor([ 0.9815, -0.1387,  0.2988, -0.0246, -0.9865, -1.6105, -2.5745,  0.7969,\n",
      "        -1.1573,  1.3397, -2.3016, -2.2875, -1.2653], requires_grad=True), Parameter containing:\n",
      "tensor([-0.4733, -2.0422, -0.3444, -0.5991, -1.5025, -1.5816, -2.7881,  2.2722,\n",
      "        -1.5824, -0.2270, -2.0859, -2.5048, -1.4222], requires_grad=True), Parameter containing:\n",
      "tensor([-0.8932,  2.2941,  0.9871,  0.8696, -1.6049, -1.8308, -2.8831,  2.1932,\n",
      "        -2.0713, -1.4555, -1.5836, -2.6583, -1.6201], requires_grad=True), Parameter containing:\n",
      "tensor([ 1.6163, -1.9733,  1.2555,  1.1179, -1.5366,  0.5850, -1.9950,  1.5412,\n",
      "         0.9910,  2.8065, -2.6818, -1.7607, -1.5193], requires_grad=True), Parameter containing:\n",
      "tensor([-0.8117,  0.4773,  0.5224,  0.5200, -1.6562, -1.3921, -2.7174,  1.2448,\n",
      "        -2.0861, -0.0348, -2.4903, -2.0369, -1.5473], requires_grad=True)]}\n",
      "{1: Parameter containing:\n",
      "tensor([ 1.3342, -1.6719,  0.5216, -1.0806, -0.6152,  0.8878,  0.3547, -1.1279,\n",
      "        -0.1388, -0.9196, -0.1574,  1.2088,  0.5260], requires_grad=True), 2: Parameter containing:\n",
      "tensor([-1.2113, -2.2924, -0.8358, -0.0214, -1.3529, -0.3590, -0.8281, -0.4326,\n",
      "        -0.6672, -2.1601, -0.1746,  0.3834, -2.0310], requires_grad=True), 3: Parameter containing:\n",
      "tensor([ 0.7645,  0.7198,  0.7275,  0.3513, -1.1481, -1.5687, -2.5477,  0.7528,\n",
      "        -1.6124,  0.1520, -2.0845, -2.2510, -1.5788], requires_grad=True)}\n",
      "Sims mean per class:\n",
      "Class 1: mean sim = 0.0264, std = 0.0807\n",
      "Class 2: mean sim = 0.0180, std = 0.0476\n",
      "Class 3: mean sim = 0.0204, std = 0.0619\n",
      "Sims mean per class:\n",
      "Class 1: mean sim = 0.0305, std = 0.0964\n",
      "Class 2: mean sim = 0.0186, std = 0.0436\n",
      "Class 3: mean sim = 0.0183, std = 0.0510\n"
     ]
    },
    {
     "data": {
      "text/plain": [
       "{'alignment': tensor(0.9647, grad_fn=<SqueezeBackward0>),\n",
       " 'executions': 7200,\n",
       " 'training_accuracy': 0.6197183098591549,\n",
       " 'testing_accuracy': 0.6666666666666666,\n",
       " 'f1_score': 0.6679012345679012,\n",
       " 'alignment_arr': [[], []],\n",
       " 'loss_arr': [],\n",
       " 'validation_accuracy_arr': []}"
      ]
     },
     "execution_count": 25,
     "metadata": {},
     "output_type": "execute_result"
    }
   ],
   "execution_count": 25
  }
 ],
 "metadata": {
  "kernelspec": {
   "display_name": "Python 3",
   "language": "python",
   "name": "python3"
  },
  "language_info": {
   "codemirror_mode": {
    "name": "ipython",
    "version": 2
   },
   "file_extension": ".py",
   "mimetype": "text/x-python",
   "name": "python",
   "nbconvert_exporter": "python",
   "pygments_lexer": "ipython2",
   "version": "2.7.6"
  }
 },
 "nbformat": 4,
 "nbformat_minor": 5
}
