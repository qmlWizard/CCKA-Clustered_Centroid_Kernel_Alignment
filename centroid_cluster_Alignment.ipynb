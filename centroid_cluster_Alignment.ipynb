{
 "cells": [
  {
   "cell_type": "code",
   "execution_count": 130,
   "metadata": {},
   "outputs": [],
   "source": [
    "# Step 1: Import necessary libraries\n",
    "from sklearn.cluster import AgglomerativeClustering\n",
    "import matplotlib.pyplot as plt\n",
    "from scipy.cluster.hierarchy import dendrogram, linkage\n",
    "from utils.classification_data import linear_data, checkerboard_data, power_line_data, microgrid_data, make_double_cake_data\n",
    "from sklearn.model_selection import train_test_split\n",
    "from pennylane import numpy as np\n",
    "import pennylane as qml\n",
    "from pennylane import numpy as np\n",
    "import matplotlib as mpl\n",
    "from pennylane import numpy as np\n",
    "from sklearn.cluster import SpectralClustering, KMeans\n",
    "from collections import deque\n",
    "import pandas as pd\n",
    "\n",
    "#data = checkerboard_data(2)\n",
    "\n",
    "## Extract features and target\n",
    "#features = np.asarray(data.drop(columns=['target']))\n",
    "#target = np.asarray(data['target'])\n",
    "#target = target % 2\n",
    "#target = 2 * target - 1\n",
    "\n",
    "#X, x_test, Y, y_test = train_test_split(\n",
    "#    features, target, test_size=0.2, random_state=42\n",
    "#)"
   ]
  },
  {
   "cell_type": "code",
   "execution_count": 131,
   "metadata": {},
   "outputs": [],
   "source": [
    "data = pd.read_csv('data/balanced_quantum_dataset.csv')\n",
    "features = np.asarray(data.drop(columns=['label']))\n",
    "target = np.asarray(data['label'])\n",
    "\n",
    "X, x_test, Y, y_test = train_test_split(\n",
    "    features, target, test_size=0.2, random_state=42\n",
    ")"
   ]
  },
  {
   "cell_type": "code",
   "execution_count": 132,
   "metadata": {},
   "outputs": [],
   "source": [
    "import pennylane as qml\n",
    "\n",
    "circuit_executions = 0\n",
    "def layer(x, params, wires, i0=0, inc=1):\n",
    "    \"\"\"Building block of the embedding ansatz\"\"\"\n",
    "    i = i0\n",
    "    for j, wire in enumerate(wires):\n",
    "        qml.Hadamard(wires=[wire])\n",
    "        qml.RZ(x[i % len(x)], wires=[wire])\n",
    "        i += inc\n",
    "        qml.RY(params[0, j], wires=[wire])\n",
    "\n",
    "    qml.broadcast(unitary=qml.CRZ, pattern=\"ring\", wires=wires, parameters=params[1])\n",
    "\n",
    "def ansatz(x, params, wires):\n",
    "    \"\"\"The embedding ansatz\"\"\"\n",
    "    for j, layer_params in enumerate(params):\n",
    "        layer(x, layer_params, wires, i0=j * len(wires))\n",
    "\n",
    "\n",
    "adjoint_ansatz = qml.adjoint(ansatz)\n",
    "\n",
    "\n",
    "def random_params(num_wires, num_layers):\n",
    "    \"\"\"Generate random variational parameters in the shape for the ansatz.\"\"\"\n",
    "    return np.random.uniform(0, 2 * np.pi, (num_layers, 2, num_wires), requires_grad=True)\n",
    "\n",
    "dev = qml.device(\"default.qubit\", wires=5, shots=None)\n",
    "wires = dev.wires.tolist()\n",
    "\n",
    "@qml.qnode(dev)\n",
    "def kernel_circuit(x1, x2, params):\n",
    "    global circuit_executions\n",
    "    circuit_executions += 1\n",
    "    ansatz(x1, params, wires=wires)\n",
    "    adjoint_ansatz(x2, params, wires=wires)\n",
    "    return qml.probs(wires=wires)\n",
    "\n",
    "def kernel(x1, x2, params):\n",
    "    return kernel_circuit(x1, x2, params)[0]\n"
   ]
  },
  {
   "cell_type": "code",
   "execution_count": 133,
   "metadata": {},
   "outputs": [],
   "source": [
    "params = random_params(num_wires=5, num_layers=6)"
   ]
  },
  {
   "cell_type": "code",
   "execution_count": 134,
   "metadata": {},
   "outputs": [
    {
     "name": "stdout",
     "output_type": "stream",
     "text": [
      "The kernel value between the first and second datapoint is 0.116\n"
     ]
    }
   ],
   "source": [
    "kernel_value = kernel(X[0], X[1], params)\n",
    "print(f\"The kernel value between the first and second datapoint is {kernel_value:.3f}\")"
   ]
  },
  {
   "cell_type": "code",
   "execution_count": 135,
   "metadata": {},
   "outputs": [],
   "source": [
    "classes = np.unique(Y)\n",
    "n_clusters = 8\n",
    "\n",
    "centroids = []\n",
    "class_centroids = []\n",
    "centroid_labels = []\n",
    "for c in classes:\n",
    "    class_data = X[np.where(Y == c)[0]]\n",
    "    centroids.append(np.mean(class_data, axis=0))\n",
    "    class_centroids.append([np.mean(cluster, axis=0) for cluster in np.array_split(class_data, n_clusters)])\n",
    "    centroid_labels.extend([[c] * n_clusters])"
   ]
  },
  {
   "cell_type": "code",
   "execution_count": 136,
   "metadata": {},
   "outputs": [],
   "source": [
    "def centroid_kernel_matrix(X, centroid, ckernel):\n",
    "    \n",
    "    kernel_matrix = []\n",
    "\n",
    "    for i in range(len(X)):\n",
    "        kernel_matrix.append(ckernel(centroid, X[i]))\n",
    "\n",
    "    return np.array(kernel_matrix)"
   ]
  },
  {
   "cell_type": "code",
   "execution_count": 137,
   "metadata": {},
   "outputs": [],
   "source": [
    "\n",
    "def centroid_target_alignment(X, Y, centroid, kernel, l = 0.1, assume_normalized_kernel=False, rescale_class_labels=True):\n",
    "   \n",
    "    Y = np.asarray(Y)\n",
    "    K = centroid_kernel_matrix(X, centroid, kernel)\n",
    "    numerator = l * np.sum(Y * K)  \n",
    "    denominator = np.sqrt(np.sum(K**2) * np.sum(Y**2))\n",
    "\n",
    "    TA = numerator / denominator\n",
    "\n",
    "    return TA"
   ]
  },
  {
   "cell_type": "code",
   "execution_count": 138,
   "metadata": {},
   "outputs": [],
   "source": [
    "def loss(X, Y, centroid, kernel, params, lambda_kao = 0.01):\n",
    "    TA = centroid_target_alignment(X, Y, centroid, kernel)\n",
    "    r = lambda_kao * np.sum(params ** 2)\n",
    "    return 1 - TA + r"
   ]
  },
  {
   "cell_type": "code",
   "execution_count": 139,
   "metadata": {},
   "outputs": [],
   "source": [
    "class1_centroids = class_centroids[0]\n",
    "class2_centroids = class_centroids[1]\n",
    "\n",
    "centroid1 = centroids[0]\n",
    "centroid2 = centroids[1]"
   ]
  },
  {
   "cell_type": "code",
   "execution_count": 140,
   "metadata": {},
   "outputs": [
    {
     "name": "stdout",
     "output_type": "stream",
     "text": [
      "Circuit Executions: 4000\n",
      "Alignment = 0.497\n"
     ]
    }
   ],
   "source": [
    "main_centroid = True\n",
    "kao_class = 1\n",
    "opt = qml.GradientDescentOptimizer(0.2)\n",
    "circuit_executions = 0\n",
    "params = random_params(num_wires=5, num_layers=6)\n",
    "for i in range(500):\n",
    "    \n",
    "    if main_centroid:\n",
    "        if kao_class == 1:\n",
    "            cost = lambda _params: loss(\n",
    "                                \n",
    "                                        class1_centroids, \n",
    "                                        centroid1_labels,\n",
    "                                        centroid1,\n",
    "                                        lambda x1, x2: kernel(x1, x2, params),\n",
    "                                        _params\n",
    "                                        )\n",
    "            kao_class = 2\n",
    "        else:\n",
    "\n",
    "            cost = lambda _params: loss(\n",
    "                                \n",
    "                                        class2_centroids, \n",
    "                                        centroid2_labels,\n",
    "                                        centroid2,\n",
    "                                        lambda x1, x2: kernel(x1, x2, params),\n",
    "                                        _params\n",
    "                                        )\n",
    "            kao_class = 1\n",
    "            main_centroid = False\n",
    "\n",
    "    else:\n",
    "\n",
    "    #    cost = lambda _params: -qml.kernels.target_alignment(\n",
    "    #                                                            class1_centroids + class2_centroids,\n",
    "    #                                                            centroid1_labels,\n",
    "    #                                                            lambda x1, x2: kernel(x1, x2, _params),\n",
    "    #                                                            assume_normalized_kernel=True,\n",
    "    #                                                        )\n",
    "        kao_class = 1\n",
    "        main_centroid = True\n",
    "\n",
    "    #print(params)\n",
    "    #print(cost(params), main_centroid, kao_class)\n",
    "    params = opt.step(cost, params)\n",
    "    \n",
    "    \n",
    "    #if (i + 1) % 50 == 0:\n",
    "print(f\"Circuit Executions: {circuit_executions}\") \n",
    "current_alignment = qml.kernels.target_alignment(\n",
    "            X,\n",
    "            Y,\n",
    "            lambda x1, x2: kernel(x1, x2, params),\n",
    "            assume_normalized_kernel=True,\n",
    "        )\n",
    "print(f\"Alignment = {current_alignment:.3f}\")\n"
   ]
  },
  {
   "cell_type": "code",
   "execution_count": 141,
   "metadata": {},
   "outputs": [],
   "source": [
    "from sklearn.svm import SVC\n",
    "# First create a kernel with the trained parameter baked into it.\n",
    "trained_kernel = lambda x1, x2: kernel(x1, x2, params)\n",
    "\n",
    "# Second create a kernel matrix function using the trained kernel.\n",
    "trained_kernel_matrix = lambda X1, X2: qml.kernels.kernel_matrix(X1, X2, trained_kernel)\n",
    "\n",
    "# Note that SVC expects the kernel argument to be a kernel matrix function.\n",
    "svm_trained = SVC(kernel=trained_kernel_matrix).fit(X, Y)"
   ]
  },
  {
   "cell_type": "code",
   "execution_count": 142,
   "metadata": {},
   "outputs": [],
   "source": [
    "def accuracy(classifier, X, Y_target):\n",
    "    return 1 - np.count_nonzero(classifier.predict(X) - Y_target) / len(Y_target)"
   ]
  },
  {
   "cell_type": "code",
   "execution_count": 143,
   "metadata": {},
   "outputs": [
    {
     "name": "stdout",
     "output_type": "stream",
     "text": [
      "The accuracy of a kernel with trained parameters is 1.000\n"
     ]
    }
   ],
   "source": [
    "accuracy_trained = accuracy(svm_trained, X, Y)\n",
    "print(f\"The accuracy of a kernel with trained parameters is {accuracy_trained:.3f}\")"
   ]
  },
  {
   "cell_type": "code",
   "execution_count": 144,
   "metadata": {},
   "outputs": [
    {
     "name": "stdout",
     "output_type": "stream",
     "text": [
      "The accuracy of a kernel with trained parameters is 1.000\n"
     ]
    }
   ],
   "source": [
    "accuracy_trained = accuracy(svm_trained, x_test, y_test)\n",
    "print(f\"The accuracy of a kernel with trained parameters is {accuracy_trained:.3f}\")"
   ]
  },
  {
   "cell_type": "code",
   "execution_count": 145,
   "metadata": {},
   "outputs": [
    {
     "name": "stdout",
     "output_type": "stream",
     "text": [
      "Circuit Executions: 3000\n",
      "Alignment = 0.481\n"
     ]
    }
   ],
   "source": [
    "circuit_executions = 0\n",
    "\n",
    "params = random_params(num_wires=5, num_layers=6)\n",
    "opt = qml.GradientDescentOptimizer(0.2)\n",
    "\n",
    "for i in range(500):\n",
    "    # Choose subset of datapoints to compute the KTA on.\n",
    "    subset = np.random.choice(list(range(len(X))), 4)\n",
    "    # Define the cost function for optimization\n",
    "    cost = lambda _params: -qml.kernels.target_alignment(\n",
    "        X[subset],\n",
    "        Y[subset],\n",
    "        lambda x1, x2: kernel(x1, x2, _params),\n",
    "        assume_normalized_kernel=True,\n",
    "    )\n",
    "    # Optimization step\n",
    "    params = opt.step(cost, params)\n",
    "\n",
    "    # Report the alignment on the full dataset every 50 steps.\n",
    "print(f\"Circuit Executions: {circuit_executions}\") \n",
    "current_alignment = qml.kernels.target_alignment(\n",
    "            X,\n",
    "            Y,\n",
    "            lambda x1, x2: kernel(x1, x2, params),\n",
    "            assume_normalized_kernel=True,\n",
    "        )\n",
    "print(f\"Alignment = {current_alignment:.3f}\")"
   ]
  },
  {
   "cell_type": "code",
   "execution_count": 146,
   "metadata": {},
   "outputs": [],
   "source": [
    "from sklearn.svm import SVC\n",
    "# First create a kernel with the trained parameter baked into it.\n",
    "trained_kernel = lambda x1, x2: kernel(x1, x2, params)\n",
    "\n",
    "# Second create a kernel matrix function using the trained kernel.\n",
    "trained_kernel_matrix = lambda X1, X2: qml.kernels.kernel_matrix(X1, X2, trained_kernel)\n",
    "\n",
    "# Note that SVC expects the kernel argument to be a kernel matrix function.\n",
    "svm_trained = SVC(kernel=trained_kernel_matrix).fit(X, Y)"
   ]
  },
  {
   "cell_type": "code",
   "execution_count": 147,
   "metadata": {},
   "outputs": [
    {
     "name": "stdout",
     "output_type": "stream",
     "text": [
      "The accuracy of a kernel with trained parameters is 1.000\n"
     ]
    }
   ],
   "source": [
    "accuracy_trained = accuracy(svm_trained, X, Y)\n",
    "print(f\"The accuracy of a kernel with trained parameters is {accuracy_trained:.3f}\")"
   ]
  },
  {
   "cell_type": "code",
   "execution_count": 148,
   "metadata": {},
   "outputs": [
    {
     "name": "stdout",
     "output_type": "stream",
     "text": [
      "The accuracy of a kernel with trained parameters is 1.000\n"
     ]
    }
   ],
   "source": [
    "accuracy_trained = accuracy(svm_trained, x_test, y_test)\n",
    "print(f\"The accuracy of a kernel with trained parameters is {accuracy_trained:.3f}\")"
   ]
  },
  {
   "cell_type": "code",
   "execution_count": 149,
   "metadata": {},
   "outputs": [
    {
     "data": {
      "text/plain": [
       "31611"
      ]
     },
     "execution_count": 149,
     "metadata": {},
     "output_type": "execute_result"
    }
   ],
   "source": [
    "circuit_executions"
   ]
  },
  {
   "cell_type": "code",
   "execution_count": null,
   "metadata": {},
   "outputs": [],
   "source": []
  }
 ],
 "metadata": {
  "kernelspec": {
   "display_name": ".venv",
   "language": "python",
   "name": "python3"
  },
  "language_info": {
   "codemirror_mode": {
    "name": "ipython",
    "version": 3
   },
   "file_extension": ".py",
   "mimetype": "text/x-python",
   "name": "python",
   "nbconvert_exporter": "python",
   "pygments_lexer": "ipython3",
   "version": "3.12.3"
  }
 },
 "nbformat": 4,
 "nbformat_minor": 2
}
