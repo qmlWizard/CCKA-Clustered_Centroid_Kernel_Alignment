{
 "cells": [
  {
   "cell_type": "code",
   "execution_count": 1,
   "metadata": {},
   "outputs": [],
   "source": [
    "from pennylane import numpy as np\n",
    "import matplotlib as mpl\n",
    "\n",
    "np.random.seed(1359)"
   ]
  },
  {
   "cell_type": "code",
   "execution_count": 2,
   "metadata": {},
   "outputs": [],
   "source": [
    "def _make_circular_data(num_sectors, points_per_sector):\n",
    "    \"\"\"Generate datapoints arranged in an even circle.\"\"\"\n",
    "    center_indices = np.repeat(np.array(range(0, num_sectors)), points_per_sector)\n",
    "    sector_angle = 2 * np.pi / num_sectors\n",
    "    angles = (center_indices + np.random.rand(center_indices.shape[0])) * sector_angle  # Add randomness for more points\n",
    "    \n",
    "    x = 0.7 * np.cos(angles)\n",
    "    y = 0.7 * np.sin(angles)\n",
    "    labels = 2 * np.remainder(np.floor_divide(center_indices, 1), 2) - 1\n",
    "\n",
    "    return x, y, labels\n",
    "\n",
    "def make_double_cake_data(num_sectors, points_per_sector=1):\n",
    "    x1, y1, labels1 = _make_circular_data(num_sectors, points_per_sector)\n",
    "    x2, y2, labels2 = _make_circular_data(num_sectors, points_per_sector)\n",
    "\n",
    "    # x and y coordinates of the datapoints\n",
    "    x = np.hstack([x1, 0.5 * x2])\n",
    "    y = np.hstack([y1, 0.5 * y2])\n",
    "\n",
    "    # Canonical form of dataset\n",
    "    X = np.vstack([x, y]).T\n",
    "\n",
    "    labels = np.hstack([labels1, -1 * labels2])\n",
    "\n",
    "    # Canonical form of labels\n",
    "    Y = labels.astype(int)\n",
    "\n",
    "    return X, Y"
   ]
  },
  {
   "cell_type": "code",
   "execution_count": 3,
   "metadata": {},
   "outputs": [],
   "source": [
    "def plot_double_cake_data(X, Y, ax, num_sectors=None):\n",
    "    \"\"\"Plot double cake data and corresponding sectors.\"\"\"\n",
    "    x, y = X.T\n",
    "    cmap = mpl.colors.ListedColormap([\"#FF0000\", \"#0000FF\"])\n",
    "    ax.scatter(x, y, c=Y, cmap=cmap, s=25, marker=\"s\")\n",
    "\n",
    "    if num_sectors is not None:\n",
    "        sector_angle = 360 / num_sectors\n",
    "        for i in range(num_sectors):\n",
    "            color = [\"#FF0000\", \"#0000FF\"][(i % 2)]\n",
    "            other_color = [\"#FF0000\", \"#0000FF\"][((i + 1) % 2)]\n",
    "            ax.add_artist(\n",
    "                mpl.patches.Wedge(\n",
    "                    (0, 0),\n",
    "                    1,\n",
    "                    i * sector_angle,\n",
    "                    (i + 1) * sector_angle,\n",
    "                    lw=0,\n",
    "                    color=color,\n",
    "                    alpha=0.1,\n",
    "                    width=0.5,\n",
    "                )\n",
    "            )\n",
    "            ax.add_artist(\n",
    "                mpl.patches.Wedge(\n",
    "                    (0, 0),\n",
    "                    0.5,\n",
    "                    i * sector_angle,\n",
    "                    (i + 1) * sector_angle,\n",
    "                    lw=0,\n",
    "                    color=other_color,\n",
    "                    alpha=0.1,\n",
    "                )\n",
    "            )\n",
    "            ax.set_xlim(-1, 1)\n",
    "\n",
    "    ax.set_ylim(-1, 1)\n",
    "    ax.set_aspect(\"equal\")\n",
    "    ax.axis(\"off\")\n",
    "\n",
    "    return ax"
   ]
  },
  {
   "cell_type": "code",
   "execution_count": 4,
   "metadata": {},
   "outputs": [
    {
     "data": {
      "image/png": "[encoded data removed]",
      "text/plain": [
       "<Figure size 640x480 with 1 Axes>"
      ]
     },
     "metadata": {},
     "output_type": "display_data"
    }
   ],
   "source": [
    "import matplotlib.pyplot as plt\n",
    "\n",
    "num_sectors = 2\n",
    "X, Y = make_double_cake_data(num_sectors, 20)\n",
    "ax = plot_double_cake_data(X, Y, plt.gca(), num_sectors=num_sectors)"
   ]
  },
  {
   "cell_type": "code",
   "execution_count": 5,
   "metadata": {},
   "outputs": [],
   "source": [
    "import pennylane as qml\n",
    "\n",
    "circuit_executions = 0\n",
    "def layer(x, params, wires, i0=0, inc=1):\n",
    "    \"\"\"Building block of the embedding ansatz\"\"\"\n",
    "    i = i0\n",
    "    for j, wire in enumerate(wires):\n",
    "        qml.Hadamard(wires=[wire])\n",
    "        qml.RZ(x[i % len(x)], wires=[wire])\n",
    "        i += inc\n",
    "        qml.RY(params[0, j], wires=[wire])\n",
    "\n",
    "    qml.broadcast(unitary=qml.CRZ, pattern=\"ring\", wires=wires, parameters=params[1])\n",
    "\n",
    "def ansatz(x, params, wires):\n",
    "    \"\"\"The embedding ansatz\"\"\"\n",
    "    for j, layer_params in enumerate(params):\n",
    "        layer(x, layer_params, wires, i0=j * len(wires))\n",
    "\n",
    "\n",
    "adjoint_ansatz = qml.adjoint(ansatz)\n",
    "\n",
    "\n",
    "def random_params(num_wires, num_layers):\n",
    "    \"\"\"Generate random variational parameters in the shape for the ansatz.\"\"\"\n",
    "    return np.random.uniform(0, 2 * np.pi, (num_layers, 2, num_wires), requires_grad=True)\n",
    "\n",
    "dev = qml.device(\"default.qubit\", wires=5, shots=None)\n",
    "wires = dev.wires.tolist()\n",
    "\n",
    "@qml.qnode(dev)\n",
    "def kernel_circuit(x1, x2, params):\n",
    "    global circuit_executions\n",
    "    circuit_executions += 1\n",
    "    ansatz(x1, params, wires=wires)\n",
    "    adjoint_ansatz(x2, params, wires=wires)\n",
    "    return qml.probs(wires=wires)\n",
    "\n",
    "def kernel(x1, x2, params):\n",
    "    return kernel_circuit(x1, x2, params)[0]\n"
   ]
  },
  {
   "cell_type": "code",
   "execution_count": 6,
   "metadata": {},
   "outputs": [],
   "source": [
    "init_params = random_params(num_wires=5, num_layers=6)\n"
   ]
  },
  {
   "cell_type": "code",
   "execution_count": 7,
   "metadata": {},
   "outputs": [
    {
     "name": "stdout",
     "output_type": "stream",
     "text": [
      "The kernel value between the first and second datapoint is 0.034\n"
     ]
    }
   ],
   "source": [
    "kernel_value = kernel(X[0], X[1], init_params)\n",
    "print(f\"The kernel value between the first and second datapoint is {kernel_value:.3f}\")"
   ]
  },
  {
   "cell_type": "code",
   "execution_count": 8,
   "metadata": {},
   "outputs": [
    {
     "name": "stdout",
     "output_type": "stream",
     "text": [
      "Done..!\n",
      "Sample:\n",
      "    Feature 1  Feature 2  target\n",
      "0   4.366161    -3.8685      16\n",
      "Data Size: (60, 3)\n"
     ]
    }
   ],
   "source": [
    "from sklearn.model_selection import train_test_split\n",
    "from utils.classification_data import linear_data, checkerboard_data, power_line_data, microgrid_data, make_double_cake_data\n",
    "\n",
    "data = checkerboard_data(2)\n",
    "print(\"Done..!\")\n",
    "print(\"Sample:\\n\", data.head(1))\n",
    "print(\"Data Size:\", data.shape)\n",
    "\n",
    "## Extract features and target\n",
    "features = np.asarray(data.drop(columns=['target']))\n",
    "target = np.asarray(data['target'])\n",
    "target = target % 2\n",
    "target = 2 * target - 1\n",
    "\n",
    "X, x_test, Y, y_test = train_test_split(\n",
    "    features, target, test_size=0.3, random_state=42\n",
    ")"
   ]
  },
  {
   "cell_type": "code",
   "execution_count": 9,
   "metadata": {},
   "outputs": [
    {
     "name": "stdout",
     "output_type": "stream",
     "text": [
      "[[1.    0.046 0.015 ... 0.029 0.003 0.001]\n",
      " [0.046 1.    0.007 ... 0.008 0.113 0.121]\n",
      " [0.015 0.007 1.    ... 0.008 0.002 0.025]\n",
      " ...\n",
      " [0.029 0.008 0.008 ... 1.    0.071 0.02 ]\n",
      " [0.003 0.113 0.002 ... 0.071 1.    0.004]\n",
      " [0.001 0.121 0.025 ... 0.02  0.004 1.   ]]\n"
     ]
    }
   ],
   "source": [
    "init_kernel = lambda x1, x2: kernel(x1, x2, init_params)\n",
    "K_init = qml.kernels.square_kernel_matrix(X, init_kernel, assume_normalized_kernel=True)\n",
    "\n",
    "with np.printoptions(precision=3, suppress=True):\n",
    "    print(K_init)"
   ]
  },
  {
   "cell_type": "code",
   "execution_count": 10,
   "metadata": {},
   "outputs": [],
   "source": [
    "from sklearn.svm import SVC\n",
    "svm = SVC(kernel=lambda X1, X2: qml.kernels.kernel_matrix(X1, X2, init_kernel)).fit(X, Y)"
   ]
  },
  {
   "cell_type": "code",
   "execution_count": 11,
   "metadata": {},
   "outputs": [],
   "source": [
    "def accuracy(classifier, X, Y_target):\n",
    "    return 1 - np.count_nonzero(classifier.predict(X) - Y_target) / len(Y_target)"
   ]
  },
  {
   "cell_type": "code",
   "execution_count": 12,
   "metadata": {},
   "outputs": [
    {
     "name": "stdout",
     "output_type": "stream",
     "text": [
      "The accuracy of the kernel with random parameters is 0.833\n"
     ]
    }
   ],
   "source": [
    "\n",
    "accuracy_init = accuracy(svm, X, Y)\n",
    "print(f\"The accuracy of the kernel with random parameters is {accuracy_init:.3f}\")\n"
   ]
  },
  {
   "cell_type": "code",
   "execution_count": 13,
   "metadata": {},
   "outputs": [],
   "source": [
    "def plot_decision_boundaries(classifier, ax, N_gridpoints=14):\n",
    "    _xx, _yy = np.meshgrid(np.linspace(-1, 1, N_gridpoints), np.linspace(-1, 1, N_gridpoints))\n",
    "\n",
    "    _zz = np.zeros_like(_xx)\n",
    "    for idx in np.ndindex(*_xx.shape):\n",
    "        _zz[idx] = classifier.predict(np.array([_xx[idx], _yy[idx]])[np.newaxis, :])\n",
    "\n",
    "    plot_data = {\"_xx\": _xx, \"_yy\": _yy, \"_zz\": _zz}\n",
    "    ax.contourf(\n",
    "        _xx,\n",
    "        _yy,\n",
    "        _zz,\n",
    "        cmap=mpl.colors.ListedColormap([\"#FF0000\", \"#0000FF\"]),\n",
    "        alpha=0.2,\n",
    "        levels=[-1, 0, 1],\n",
    "    )\n",
    "    plot_double_cake_data(X, Y, ax)\n",
    "\n",
    "    return plot_data\n"
   ]
  },
  {
   "cell_type": "code",
   "execution_count": 14,
   "metadata": {},
   "outputs": [],
   "source": [
    "#init_plot_data = plot_decision_boundaries(svm, plt.gca())"
   ]
  },
  {
   "cell_type": "code",
   "execution_count": 15,
   "metadata": {},
   "outputs": [
    {
     "name": "stdout",
     "output_type": "stream",
     "text": [
      "The kernel-target alignment for our dataset and random parameters is 0.296\n"
     ]
    }
   ],
   "source": [
    "kta_init = qml.kernels.target_alignment(X, Y, init_kernel, assume_normalized_kernel=True)\n",
    "\n",
    "print(f\"The kernel-target alignment for our dataset and random parameters is {kta_init:.3f}\")"
   ]
  },
  {
   "cell_type": "code",
   "execution_count": 16,
   "metadata": {},
   "outputs": [],
   "source": [
    "def target_alignment(\n",
    "    X,\n",
    "    Y,\n",
    "    kernel,\n",
    "    assume_normalized_kernel=False,\n",
    "    rescale_class_labels=True,\n",
    "):\n",
    "    \"\"\"Kernel-target alignment between kernel and labels.\"\"\"\n",
    "\n",
    "    K = qml.kernels.square_kernel_matrix(\n",
    "        X,\n",
    "        kernel,\n",
    "        assume_normalized_kernel=assume_normalized_kernel,\n",
    "    )\n",
    "\n",
    "    if rescale_class_labels:\n",
    "        nplus = np.count_nonzero(np.array(Y) == 1)\n",
    "        nminus = len(Y) - nplus\n",
    "        _Y = np.array([y / nplus if y == 1 else y / nminus for y in Y])\n",
    "    else:\n",
    "        _Y = np.array(Y)\n",
    "\n",
    "    T = np.outer(_Y, _Y)\n",
    "    inner_product = np.sum(K * T)\n",
    "    norm = np.sqrt(np.sum(K * K) * np.sum(T * T))\n",
    "    inner_product = inner_product / norm\n",
    "\n",
    "    return inner_product\n"
   ]
  },
  {
   "cell_type": "code",
   "execution_count": 17,
   "metadata": {},
   "outputs": [
    {
     "name": "stdout",
     "output_type": "stream",
     "text": [
      "Step 50 - Alignment = 0.299\n",
      "Step 100 - Alignment = 0.303\n",
      "Step 150 - Alignment = 0.306\n",
      "Step 200 - Alignment = 0.310\n",
      "Step 250 - Alignment = 0.313\n",
      "Step 300 - Alignment = 0.315\n",
      "Step 350 - Alignment = 0.319\n",
      "Step 400 - Alignment = 0.323\n",
      "Step 450 - Alignment = 0.327\n",
      "Step 500 - Alignment = 0.328\n"
     ]
    }
   ],
   "source": [
    "circuit_executions = 0\n",
    "\n",
    "params = init_params\n",
    "opt = qml.GradientDescentOptimizer(0.2)\n",
    "\n",
    "for i in range(500):\n",
    "    # Choose subset of datapoints to compute the KTA on.\n",
    "    subset = np.random.choice(list(range(len(X))), 4)\n",
    "    # Define the cost function for optimization\n",
    "    cost = lambda _params: -target_alignment(\n",
    "        X[subset],\n",
    "        Y[subset],\n",
    "        lambda x1, x2: kernel(x1, x2, _params),\n",
    "        assume_normalized_kernel=True,\n",
    "    )\n",
    "    # Optimization step\n",
    "    params = opt.step(cost, params)\n",
    "\n",
    "    # Report the alignment on the full dataset every 50 steps.\n",
    "    if (i + 1) % 50 == 0:\n",
    "        current_alignment = target_alignment(\n",
    "            X,\n",
    "            Y,\n",
    "            lambda x1, x2: kernel(x1, x2, params),\n",
    "            assume_normalized_kernel=True,\n",
    "        )\n",
    "        print(f\"Step {i+1} - Alignment = {current_alignment:.3f}\")\n"
   ]
  },
  {
   "cell_type": "code",
   "execution_count": 18,
   "metadata": {},
   "outputs": [],
   "source": [
    "from sklearn.svm import SVC\n",
    "# First create a kernel with the trained parameter baked into it.\n",
    "trained_kernel = lambda x1, x2: kernel(x1, x2, params)\n",
    "\n",
    "# Second create a kernel matrix function using the trained kernel.\n",
    "trained_kernel_matrix = lambda X1, X2: qml.kernels.kernel_matrix(X1, X2, trained_kernel)\n",
    "\n",
    "# Note that SVC expects the kernel argument to be a kernel matrix function.\n",
    "svm_trained = SVC(kernel=trained_kernel_matrix).fit(X, Y)\n"
   ]
  },
  {
   "cell_type": "code",
   "execution_count": 19,
   "metadata": {},
   "outputs": [
    {
     "name": "stdout",
     "output_type": "stream",
     "text": [
      "The accuracy of a kernel with trained parameters is 0.833\n"
     ]
    }
   ],
   "source": [
    "accuracy_trained = accuracy(svm_trained, X, Y)\n",
    "print(f\"The accuracy of a kernel with trained parameters is {accuracy_trained:.3f}\")\n"
   ]
  },
  {
   "cell_type": "code",
   "execution_count": 20,
   "metadata": {},
   "outputs": [],
   "source": [
    "#trained_plot_data = plot_decision_boundaries(svm_trained, plt.gca())"
   ]
  },
  {
   "cell_type": "code",
   "execution_count": 21,
   "metadata": {},
   "outputs": [
    {
     "name": "stdout",
     "output_type": "stream",
     "text": [
      "The accuracy of a kernel with trained parameters is 0.000\n",
      "Circuit Executions:  15894\n"
     ]
    }
   ],
   "source": [
    "accuracy_trained = accuracy(svm_trained, x_test, y_test)\n",
    "print(f\"The accuracy of a kernel with trained parameters is {accuracy_trained:.3f}\")\n",
    "\n",
    "print(\"Circuit Executions: \", circuit_executions)\n",
    "circuit_executions = 0"
   ]
  },
  {
   "cell_type": "code",
   "execution_count": 23,
   "metadata": {},
   "outputs": [
    {
     "ename": "ValueError",
     "evalue": "need at least one array to stack",
     "output_type": "error",
     "traceback": [
      "\u001b[0;31m---------------------------------------------------------------------------\u001b[0m",
      "\u001b[0;31mValueError\u001b[0m                                Traceback (most recent call last)",
      "Cell \u001b[0;32mIn[23], line 14\u001b[0m\n\u001b[1;32m     11\u001b[0m class2 \u001b[38;5;241m=\u001b[39m X[class_2_indices]\n\u001b[1;32m     13\u001b[0m class1_kernel_matrix \u001b[38;5;241m=\u001b[39m get_kernel_matrix(class1, class1)\n\u001b[0;32m---> 14\u001b[0m class2_kernel_matrix \u001b[38;5;241m=\u001b[39m \u001b[43mget_kernel_matrix\u001b[49m\u001b[43m(\u001b[49m\u001b[43mclass2\u001b[49m\u001b[43m,\u001b[49m\u001b[43m \u001b[49m\u001b[43mclass2\u001b[49m\u001b[43m)\u001b[49m\n",
      "Cell \u001b[0;32mIn[23], line 5\u001b[0m, in \u001b[0;36m<lambda>\u001b[0;34m(x1, x2)\u001b[0m\n\u001b[1;32m      3\u001b[0m params \u001b[38;5;241m=\u001b[39m random_params(num_wires\u001b[38;5;241m=\u001b[39m\u001b[38;5;241m5\u001b[39m, num_layers\u001b[38;5;241m=\u001b[39m\u001b[38;5;241m6\u001b[39m)\n\u001b[1;32m      4\u001b[0m f_kernel \u001b[38;5;241m=\u001b[39m \u001b[38;5;28;01mlambda\u001b[39;00m x1, x2: kernel(x1, x2, params)\n\u001b[0;32m----> 5\u001b[0m get_kernel_matrix \u001b[38;5;241m=\u001b[39m \u001b[38;5;28;01mlambda\u001b[39;00m x1, x2: \u001b[43mqml\u001b[49m\u001b[38;5;241;43m.\u001b[39;49m\u001b[43mkernels\u001b[49m\u001b[38;5;241;43m.\u001b[39;49m\u001b[43mkernel_matrix\u001b[49m\u001b[43m(\u001b[49m\u001b[43mx1\u001b[49m\u001b[43m,\u001b[49m\u001b[43m \u001b[49m\u001b[43mx2\u001b[49m\u001b[43m,\u001b[49m\u001b[43m \u001b[49m\u001b[43mf_kernel\u001b[49m\u001b[43m)\u001b[49m\n\u001b[1;32m      7\u001b[0m class_1_indices \u001b[38;5;241m=\u001b[39m np\u001b[38;5;241m.\u001b[39mwhere(Y \u001b[38;5;241m==\u001b[39m \u001b[38;5;241m1\u001b[39m)[\u001b[38;5;241m0\u001b[39m]\n\u001b[1;32m      8\u001b[0m class_2_indices \u001b[38;5;241m=\u001b[39m np\u001b[38;5;241m.\u001b[39mwhere(Y \u001b[38;5;241m==\u001b[39m \u001b[38;5;241m-\u001b[39m\u001b[38;5;241m1\u001b[39m)[\u001b[38;5;241m0\u001b[39m]\n",
      "File \u001b[0;32m~/Developer/greedy_kernel_alignment/kgreedy/lib/python3.12/site-packages/pennylane/kernels/utils.py:133\u001b[0m, in \u001b[0;36mkernel_matrix\u001b[0;34m(X1, X2, kernel)\u001b[0m\n\u001b[1;32m    130\u001b[0m N \u001b[38;5;241m=\u001b[39m qml\u001b[38;5;241m.\u001b[39mmath\u001b[38;5;241m.\u001b[39mshape(X1)[\u001b[38;5;241m0\u001b[39m]\n\u001b[1;32m    131\u001b[0m M \u001b[38;5;241m=\u001b[39m qml\u001b[38;5;241m.\u001b[39mmath\u001b[38;5;241m.\u001b[39mshape(X2)[\u001b[38;5;241m0\u001b[39m]\n\u001b[0;32m--> 133\u001b[0m matrix \u001b[38;5;241m=\u001b[39m \u001b[43mqml\u001b[49m\u001b[38;5;241;43m.\u001b[39;49m\u001b[43mmath\u001b[49m\u001b[38;5;241;43m.\u001b[39;49m\u001b[43mstack\u001b[49m\u001b[43m(\u001b[49m\u001b[43m[\u001b[49m\u001b[43mkernel\u001b[49m\u001b[43m(\u001b[49m\u001b[43mx\u001b[49m\u001b[43m,\u001b[49m\u001b[43m \u001b[49m\u001b[43my\u001b[49m\u001b[43m)\u001b[49m\u001b[43m \u001b[49m\u001b[38;5;28;43;01mfor\u001b[39;49;00m\u001b[43m \u001b[49m\u001b[43mx\u001b[49m\u001b[43m,\u001b[49m\u001b[43m \u001b[49m\u001b[43my\u001b[49m\u001b[43m \u001b[49m\u001b[38;5;129;43;01min\u001b[39;49;00m\u001b[43m \u001b[49m\u001b[43mproduct\u001b[49m\u001b[43m(\u001b[49m\u001b[43mX1\u001b[49m\u001b[43m,\u001b[49m\u001b[43m \u001b[49m\u001b[43mX2\u001b[49m\u001b[43m)\u001b[49m\u001b[43m]\u001b[49m\u001b[43m)\u001b[49m\n\u001b[1;32m    135\u001b[0m \u001b[38;5;28;01mif\u001b[39;00m qml\u001b[38;5;241m.\u001b[39mmath\u001b[38;5;241m.\u001b[39mndim(matrix[\u001b[38;5;241m0\u001b[39m]) \u001b[38;5;241m==\u001b[39m \u001b[38;5;241m0\u001b[39m:\n\u001b[1;32m    136\u001b[0m     \u001b[38;5;28;01mreturn\u001b[39;00m qml\u001b[38;5;241m.\u001b[39mmath\u001b[38;5;241m.\u001b[39mreshape(matrix, (N, M))\n",
      "File \u001b[0;32m~/Developer/greedy_kernel_alignment/kgreedy/lib/python3.12/site-packages/pennylane/math/multi_dispatch.py:152\u001b[0m, in \u001b[0;36mmulti_dispatch.<locals>.decorator.<locals>.wrapper\u001b[0;34m(*args, **kwargs)\u001b[0m\n\u001b[1;32m    149\u001b[0m interface \u001b[38;5;241m=\u001b[39m interface \u001b[38;5;129;01mor\u001b[39;00m get_interface(\u001b[38;5;241m*\u001b[39mdispatch_args)\n\u001b[1;32m    150\u001b[0m kwargs[\u001b[38;5;124m\"\u001b[39m\u001b[38;5;124mlike\u001b[39m\u001b[38;5;124m\"\u001b[39m] \u001b[38;5;241m=\u001b[39m interface\n\u001b[0;32m--> 152\u001b[0m \u001b[38;5;28;01mreturn\u001b[39;00m \u001b[43mfn\u001b[49m\u001b[43m(\u001b[49m\u001b[38;5;241;43m*\u001b[39;49m\u001b[43margs\u001b[49m\u001b[43m,\u001b[49m\u001b[43m \u001b[49m\u001b[38;5;241;43m*\u001b[39;49m\u001b[38;5;241;43m*\u001b[39;49m\u001b[43mkwargs\u001b[49m\u001b[43m)\u001b[49m\n",
      "File \u001b[0;32m~/Developer/greedy_kernel_alignment/kgreedy/lib/python3.12/site-packages/pennylane/math/multi_dispatch.py:503\u001b[0m, in \u001b[0;36mstack\u001b[0;34m(values, axis, like)\u001b[0m\n\u001b[1;32m    474\u001b[0m \u001b[38;5;250m\u001b[39m\u001b[38;5;124;03m\"\"\"Stack a sequence of tensors along the specified axis.\u001b[39;00m\n\u001b[1;32m    475\u001b[0m \n\u001b[1;32m    476\u001b[0m \u001b[38;5;124;03m.. warning::\u001b[39;00m\n\u001b[0;32m   (...)\u001b[0m\n\u001b[1;32m    500\u001b[0m \u001b[38;5;124;03m       [5.00e+00, 8.00e+00, 1.01e+02]], dtype=float32)>\u001b[39;00m\n\u001b[1;32m    501\u001b[0m \u001b[38;5;124;03m\"\"\"\u001b[39;00m\n\u001b[1;32m    502\u001b[0m values \u001b[38;5;241m=\u001b[39m np\u001b[38;5;241m.\u001b[39mcoerce(values, like\u001b[38;5;241m=\u001b[39mlike)\n\u001b[0;32m--> 503\u001b[0m \u001b[38;5;28;01mreturn\u001b[39;00m \u001b[43mnp\u001b[49m\u001b[38;5;241;43m.\u001b[39;49m\u001b[43mstack\u001b[49m\u001b[43m(\u001b[49m\u001b[43mvalues\u001b[49m\u001b[43m,\u001b[49m\u001b[43m \u001b[49m\u001b[43maxis\u001b[49m\u001b[38;5;241;43m=\u001b[39;49m\u001b[43maxis\u001b[49m\u001b[43m,\u001b[49m\u001b[43m \u001b[49m\u001b[43mlike\u001b[49m\u001b[38;5;241;43m=\u001b[39;49m\u001b[43mlike\u001b[49m\u001b[43m)\u001b[49m\n",
      "File \u001b[0;32m~/Developer/greedy_kernel_alignment/kgreedy/lib/python3.12/site-packages/autoray/autoray.py:81\u001b[0m, in \u001b[0;36mdo\u001b[0;34m(fn, like, *args, **kwargs)\u001b[0m\n\u001b[1;32m     79\u001b[0m backend \u001b[38;5;241m=\u001b[39m _choose_backend(fn, args, kwargs, like\u001b[38;5;241m=\u001b[39mlike)\n\u001b[1;32m     80\u001b[0m func \u001b[38;5;241m=\u001b[39m get_lib_fn(backend, fn)\n\u001b[0;32m---> 81\u001b[0m \u001b[38;5;28;01mreturn\u001b[39;00m \u001b[43mfunc\u001b[49m\u001b[43m(\u001b[49m\u001b[38;5;241;43m*\u001b[39;49m\u001b[43margs\u001b[49m\u001b[43m,\u001b[49m\u001b[43m \u001b[49m\u001b[38;5;241;43m*\u001b[39;49m\u001b[38;5;241;43m*\u001b[39;49m\u001b[43mkwargs\u001b[49m\u001b[43m)\u001b[49m\n",
      "File \u001b[0;32m~/Developer/greedy_kernel_alignment/kgreedy/lib/python3.12/site-packages/numpy/core/shape_base.py:445\u001b[0m, in \u001b[0;36mstack\u001b[0;34m(arrays, axis, out, dtype, casting)\u001b[0m\n\u001b[1;32m    443\u001b[0m arrays \u001b[38;5;241m=\u001b[39m [asanyarray(arr) \u001b[38;5;28;01mfor\u001b[39;00m arr \u001b[38;5;129;01min\u001b[39;00m arrays]\n\u001b[1;32m    444\u001b[0m \u001b[38;5;28;01mif\u001b[39;00m \u001b[38;5;129;01mnot\u001b[39;00m arrays:\n\u001b[0;32m--> 445\u001b[0m     \u001b[38;5;28;01mraise\u001b[39;00m \u001b[38;5;167;01mValueError\u001b[39;00m(\u001b[38;5;124m'\u001b[39m\u001b[38;5;124mneed at least one array to stack\u001b[39m\u001b[38;5;124m'\u001b[39m)\n\u001b[1;32m    447\u001b[0m shapes \u001b[38;5;241m=\u001b[39m {arr\u001b[38;5;241m.\u001b[39mshape \u001b[38;5;28;01mfor\u001b[39;00m arr \u001b[38;5;129;01min\u001b[39;00m arrays}\n\u001b[1;32m    448\u001b[0m \u001b[38;5;28;01mif\u001b[39;00m \u001b[38;5;28mlen\u001b[39m(shapes) \u001b[38;5;241m!=\u001b[39m \u001b[38;5;241m1\u001b[39m:\n",
      "\u001b[0;31mValueError\u001b[0m: need at least one array to stack"
     ]
    }
   ],
   "source": [
    "from sklearn.cluster import SpectralClustering, KMeans\n",
    "\n",
    "params = random_params(num_wires=5, num_layers=6)\n",
    "f_kernel = lambda x1, x2: kernel(x1, x2, params)\n",
    "get_kernel_matrix = lambda x1, x2: qml.kernels.kernel_matrix(x1, x2, f_kernel)\n",
    "\n",
    "class_1_indices = np.where(Y == 1)[0]\n",
    "class_2_indices = np.where(Y == -1)[0]\n",
    "\n",
    "class1 = X[class_1_indices]\n",
    "class2 = X[class_2_indices]\n",
    "\n",
    "class1_kernel_matrix = get_kernel_matrix(class1, class1)\n",
    "class2_kernel_matrix = get_kernel_matrix(class2, class2)\n"
   ]
  },
  {
   "cell_type": "code",
   "execution_count": 23,
   "metadata": {},
   "outputs": [],
   "source": [
    "cluster = KMeans(n_clusters=4, random_state=42)\n",
    "\n",
    "class1_clusters = cluster.fit_predict(class1_kernel_matrix)\n",
    "class1_centroids = cluster.cluster_centers_\n",
    "class1_centroids = class1_centroids[:, :len(X[0])]\n",
    "\n",
    "\n",
    "class2_clusters = cluster.fit_predict(class2_kernel_matrix)\n",
    "class2_centroids = cluster.cluster_centers_\n",
    "class2_centroids = class2_centroids[:, :len(X[0])]"
   ]
  },
  {
   "cell_type": "code",
   "execution_count": 24,
   "metadata": {},
   "outputs": [],
   "source": [
    "centroids = []\n",
    "centroid_labels = []\n",
    "for c, cent in zip(np.unique(class1_clusters), class1_centroids):\n",
    "    centroids.append(cent)\n",
    "    centroid_labels.append(1)\n",
    "\n",
    "for c, cent in zip(np.unique(class2_clusters), class2_centroids):\n",
    "    centroids.append(cent)\n",
    "    centroid_labels.append(-1)"
   ]
  },
  {
   "cell_type": "code",
   "execution_count": 25,
   "metadata": {},
   "outputs": [
    {
     "name": "stdout",
     "output_type": "stream",
     "text": [
      "Step 50 - Alignment = 0.279\n",
      "Step 100 - Alignment = 0.279\n",
      "Step 150 - Alignment = 0.280\n",
      "Step 200 - Alignment = 0.281\n",
      "Step 250 - Alignment = 0.282\n",
      "Step 300 - Alignment = 0.283\n",
      "Step 350 - Alignment = 0.284\n",
      "Step 400 - Alignment = 0.285\n",
      "Step 450 - Alignment = 0.287\n",
      "Step 500 - Alignment = 0.288\n"
     ]
    }
   ],
   "source": [
    "opt = qml.GradientDescentOptimizer(0.2)\n",
    "\n",
    "for i in range(500):\n",
    "    # Choose subset of datapoints to compute the KTA on.\n",
    "    # Define the cost function for optimization\n",
    "    cost = lambda _params: -target_alignment(\n",
    "        centroids,\n",
    "        centroid_labels,\n",
    "        lambda x1, x2: kernel(x1, x2, _params),\n",
    "        assume_normalized_kernel=True,\n",
    "    )\n",
    "    # Optimization step\n",
    "    params = opt.step(cost, params)\n",
    "\n",
    "    # Report the alignment on the full dataset every 50 steps.\n",
    "    if (i + 1) % 50 == 0:\n",
    "        current_alignment = target_alignment(\n",
    "            X,\n",
    "            Y,\n",
    "            lambda x1, x2: kernel(x1, x2, params),\n",
    "            assume_normalized_kernel=True,\n",
    "        )\n",
    "        print(f\"Step {i+1} - Alignment = {current_alignment:.3f}\")\n",
    "\n",
    "        class1_kernel_matrix = get_kernel_matrix(class1, class1)\n",
    "        class2_kernel_matrix = get_kernel_matrix(class2, class2)\n",
    "\n",
    "        class1_clusters = cluster.fit_predict(class1_kernel_matrix)\n",
    "        class1_centroids = cluster.cluster_centers_\n",
    "        class1_centroids = class1_centroids[:, :len(X[0])]\n",
    "\n",
    "\n",
    "        class2_clusters = cluster.fit_predict(class2_kernel_matrix)\n",
    "        class2_centroids = cluster.cluster_centers_\n",
    "        class2_centroids = class2_centroids[:, :len(X[0])]\n",
    "        \n",
    "        centroids = []\n",
    "        centroid_labels = []\n",
    "        for c, cent in zip(np.unique(class1_clusters), class1_centroids):\n",
    "            centroids.append(cent)\n",
    "            centroid_labels.append(1)\n",
    "\n",
    "        for c, cent in zip(np.unique(class2_clusters), class2_centroids):\n",
    "            centroids.append(cent)\n",
    "            centroid_labels.append(-1)"
   ]
  },
  {
   "cell_type": "code",
   "execution_count": 26,
   "metadata": {},
   "outputs": [],
   "source": [
    "from sklearn.svm import SVC\n",
    "# First create a kernel with the trained parameter baked into it.\n",
    "trained_kernel = lambda x1, x2: kernel(x1, x2, params)\n",
    "\n",
    "# Second create a kernel matrix function using the trained kernel.\n",
    "trained_kernel_matrix = lambda X1, X2: qml.kernels.kernel_matrix(X1, X2, trained_kernel)\n",
    "\n",
    "# Note that SVC expects the kernel argument to be a kernel matrix function.\n",
    "svm_trained = SVC(kernel=trained_kernel_matrix).fit(X, Y)"
   ]
  },
  {
   "cell_type": "code",
   "execution_count": 33,
   "metadata": {},
   "outputs": [
    {
     "name": "stdout",
     "output_type": "stream",
     "text": [
      "The accuracy of a kernel with trained parameters is 0.000\n"
     ]
    }
   ],
   "source": [
    "accuracy_trained = accuracy(svm_trained, x_test, y_test)\n",
    "print(f\"The accuracy of a kernel with trained parameters is {accuracy_trained:.3f}\")"
   ]
  },
  {
   "cell_type": "code",
   "execution_count": 14,
   "metadata": {},
   "outputs": [],
   "source": [
    "import numpy as np\n",
    "\n",
    "d = np.load('toy_data_random.npy', allow_pickle= True).item()\n",
    "dd = np.load('toy_data_cluster.npy', allow_pickle= True).item()"
   ]
  },
  {
   "cell_type": "code",
   "execution_count": 15,
   "metadata": {},
   "outputs": [
    {
     "data": {
      "text/plain": [
       "144368"
      ]
     },
     "execution_count": 15,
     "metadata": {},
     "output_type": "execute_result"
    }
   ],
   "source": [
    "d['circuit_executions'][0]"
   ]
  },
  {
   "cell_type": "code",
   "execution_count": 16,
   "metadata": {},
   "outputs": [
    {
     "data": {
      "text/plain": [
       "152568"
      ]
     },
     "execution_count": 16,
     "metadata": {},
     "output_type": "execute_result"
    }
   ],
   "source": [
    "dd['circuit_executions'][0]"
   ]
  },
  {
   "cell_type": "code",
   "execution_count": 17,
   "metadata": {},
   "outputs": [
    {
     "data": {
      "text/plain": [
       "{'trained_training_accuracy': [0.9453125],\n",
       " 'trained_testing_accuracy': [0.9375],\n",
       " 'auc_trained': [0.9444444444444444],\n",
       " 'circuit_executions': [144368],\n",
       " 'confusion_matrix': [array([[16,  2],\n",
       "         [ 0, 14]])]}"
      ]
     },
     "execution_count": 17,
     "metadata": {},
     "output_type": "execute_result"
    }
   ],
   "source": [
    "d"
   ]
  },
  {
   "cell_type": "code",
   "execution_count": 18,
   "metadata": {},
   "outputs": [
    {
     "data": {
      "text/plain": [
       "{'trained_training_accuracy': [0.9296875],\n",
       " 'trained_testing_accuracy': [0.9375],\n",
       " 'auc_trained': [0.9444444444444444],\n",
       " 'circuit_executions': [152568],\n",
       " 'confusion_matrix': [array([[16,  2],\n",
       "         [ 0, 14]])]}"
      ]
     },
     "execution_count": 18,
     "metadata": {},
     "output_type": "execute_result"
    }
   ],
   "source": [
    "dd"
   ]
  },
  {
   "cell_type": "code",
   "execution_count": null,
   "metadata": {},
   "outputs": [],
   "source": []
  }
 ],
 "metadata": {
  "kernelspec": {
   "display_name": "kgreedy",
   "language": "python",
   "name": "python3"
  },
  "language_info": {
   "codemirror_mode": {
    "name": "ipython",
    "version": 3
   },
   "file_extension": ".py",
   "mimetype": "text/x-python",
   "name": "python",
   "nbconvert_exporter": "python",
   "pygments_lexer": "ipython3",
   "version": "3.12.3"
  }
 },
 "nbformat": 4,
 "nbformat_minor": 2
}
