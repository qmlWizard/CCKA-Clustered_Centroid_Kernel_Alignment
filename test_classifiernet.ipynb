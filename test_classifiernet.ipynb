{
 "cells": [
  {
   "cell_type": "code",
   "execution_count": 19,
   "id": "a68e11c9",
   "metadata": {},
   "outputs": [],
   "source": [
    "import torch\n",
    "from torch.utils.data import TensorDataset, DataLoader\n",
    "import ray\n",
    "from ray import tune\n",
    "from sklearn.model_selection import train_test_split\n",
    "import yaml\n",
    "import argparse\n",
    "import shutil\n",
    "from collections import namedtuple\n",
    "import os\n",
    "import datetime\n",
    "\n",
    "# Custom Libraries\n",
    "\n",
    "from utils.data_generator import DataGenerator\n",
    "from utils.agent import TrainModel\n",
    "from utils.plotter import Plotter\n",
    "from utils.helper import to_python_native, gen_experiment_name, set_seed"
   ]
  },
  {
   "cell_type": "code",
   "execution_count": 20,
   "id": "5d2e034d",
   "metadata": {},
   "outputs": [],
   "source": [
    "backend = 'qiskit'\n",
    "if backend == 'qiskit':\n",
    "        from utils.qiskit.model import Qkernel\n",
    "elif backend == 'pennylane':\n",
    "        from utils.pennylane.model import Qkernel"
   ]
  },
  {
   "cell_type": "code",
   "execution_count": 21,
   "id": "00aadb84",
   "metadata": {},
   "outputs": [
    {
     "name": "stdout",
     "output_type": "stream",
     "text": [
      "MPS is available. Using device: mps\n"
     ]
    }
   ],
   "source": [
    "if torch.backends.mps.is_available():\n",
    "    device = torch.device(\"mps\")\n",
    "    print(f\"MPS is available. Using device: {device}\")\n",
    "elif torch.cuda.is_available():\n",
    "    device = torch.device(\"cuda\")\n",
    "    print(f\"CUDA is available. Using device: {device}\")\n",
    "else:\n",
    "    device = torch.device(\"cpu\")\n",
    "    print(f\"Neither MPS nor CUDA is available. Using CPU: {device}\")"
   ]
  },
  {
   "cell_type": "code",
   "execution_count": 22,
   "id": "deb53f97",
   "metadata": {},
   "outputs": [],
   "source": [
    "# Read Configs\n",
    "with open('configs/comparision/checkerboard.yaml', 'r') as file:\n",
    "    config = yaml.safe_load(file)"
   ]
  },
  {
   "cell_type": "code",
   "execution_count": 29,
   "id": "24892d8f",
   "metadata": {},
   "outputs": [],
   "source": [
    "data_generator = DataGenerator(     \n",
    "                                dataset_name = 'moons', \n",
    "                                file_path = None,\n",
    "                                n_samples = 500, \n",
    "                                noise = 0.1, \n",
    "                                num_sectors = 3, \n",
    "                                points_per_sector = 10, \n",
    "                                grid_size = 4, \n",
    "                                sampling_radius = 0.05,\n",
    "                                n_pca_features=None\n",
    "                              )\n",
    "\n",
    "training_data, training_labels, testing_data, testing_labels = data_generator.generate_dataset() #train_test_split(features, target, test_size=0.50, random_state=42)\n",
    "training_data = torch.tensor(training_data.to_numpy(), dtype=torch.float32, requires_grad=True)\n",
    "testing_data = torch.tensor(testing_data.to_numpy(), dtype=torch.float32, requires_grad=True)\n",
    "training_labels = torch.tensor(training_labels.to_numpy(), dtype=torch.int)\n",
    "testing_labels = torch.tensor(testing_labels.to_numpy(), dtype=torch.int)"
   ]
  },
  {
   "cell_type": "code",
   "execution_count": 30,
   "id": "18f479e3",
   "metadata": {},
   "outputs": [
    {
     "name": "stdout",
     "output_type": "stream",
     "text": [
      "Epochs:  5\n"
     ]
    }
   ],
   "source": [
    "kernel = Qkernel(   \n",
    "                    device = config['qkernel']['device'], \n",
    "                    n_qubits = 5, \n",
    "                    trainable = True, \n",
    "                    input_scaling = True, \n",
    "                    data_reuploading = True, \n",
    "                    ansatz = 'he', \n",
    "                    ansatz_layers = 5   \n",
    "                )\n",
    "    \n",
    "agent = TrainModel(\n",
    "                    kernel=kernel,\n",
    "                    training_data=training_data,\n",
    "                    training_labels=training_labels,\n",
    "                    testing_data=testing_data,\n",
    "                    testing_labels=testing_labels,\n",
    "                    optimizer= 'gd',\n",
    "                    lr= 0.1,\n",
    "                    mclr= 0.01,\n",
    "                    cclr= 0.01,\n",
    "                    epochs = 50,\n",
    "                    train_method= 'ccka',\n",
    "                    target_accuracy=0.95,\n",
    "                    get_alignment_every=10,  \n",
    "                    validate_every_epoch=None, \n",
    "                    base_path='.',\n",
    "                    lambda_kao=0.01,\n",
    "                    lambda_co=0.01,\n",
    "                    clusters=4\n",
    "                )"
   ]
  },
  {
   "cell_type": "code",
   "execution_count": 31,
   "id": "63956d1a",
   "metadata": {},
   "outputs": [
    {
     "name": "stderr",
     "output_type": "stream",
     "text": [
      "/Users/qmlwizard/Research/greedy_kernel_alignment/utils/qiskit/model.py:66: UserWarning: To copy construct from a tensor, it is recommended to use sourceTensor.clone().detach() or sourceTensor.clone().detach().requires_grad_(True), rather than torch.tensor(sourceTensor).\n",
      "  return torch.tensor(kernel_value, dtype=torch.float32)\n"
     ]
    },
    {
     "name": "stdout",
     "output_type": "stream",
     "text": [
      "Labels Type:  <class 'torch.Tensor'>\n"
     ]
    },
    {
     "name": "stderr",
     "output_type": "stream",
     "text": [
      "/Users/qmlwizard/Research/greedy_kernel_alignment/utils/qiskit/model.py:66: UserWarning: To copy construct from a tensor, it is recommended to use sourceTensor.clone().detach() or sourceTensor.clone().detach().requires_grad_(True), rather than torch.tensor(sourceTensor).\n",
      "  return torch.tensor(kernel_value, dtype=torch.float32)\n"
     ]
    },
    {
     "data": {
      "text/plain": [
       "{'alignment': tensor(0.2699),\n",
       " 'executions': None,\n",
       " 'training_accuracy': 1.0,\n",
       " 'testing_accuracy': 0.992,\n",
       " 'f1_score': 0.992,\n",
       " 'alignment_arr': [],\n",
       " 'loss_arr': [],\n",
       " 'validation_accuracy_arr': []}"
      ]
     },
     "execution_count": 31,
     "metadata": {},
     "output_type": "execute_result"
    }
   ],
   "source": [
    "after_metrics = agent.evaluate(testing_data, testing_labels)\n",
    "after_metrics"
   ]
  },
  {
   "cell_type": "code",
   "execution_count": 32,
   "id": "8ffaceb6",
   "metadata": {},
   "outputs": [
    {
     "name": "stdout",
     "output_type": "stream",
     "text": [
      "Started Training\n"
     ]
    },
    {
     "name": "stderr",
     "output_type": "stream",
     "text": [
      "/Users/qmlwizard/Research/greedy_kernel_alignment/utils/qiskit/model.py:66: UserWarning: To copy construct from a tensor, it is recommended to use sourceTensor.clone().detach() or sourceTensor.clone().detach().requires_grad_(True), rather than torch.tensor(sourceTensor).\n",
      "  return torch.tensor(kernel_value, dtype=torch.float32)\n"
     ]
    },
    {
     "name": "stdout",
     "output_type": "stream",
     "text": [
      "------------------------------------------------------------------\n",
      "Epoch: 0th, Alignment: 0\n",
      "------------------------------------------------------------------\n",
      "------------------------------------------------------------------\n",
      "Epoch: 1th, Alignment: 0\n",
      "------------------------------------------------------------------\n",
      "------------------------------------------------------------------\n",
      "Epoch: 2th, Alignment: 0\n",
      "------------------------------------------------------------------\n",
      "------------------------------------------------------------------\n",
      "Epoch: 3th, Alignment: 0\n",
      "------------------------------------------------------------------\n",
      "------------------------------------------------------------------\n",
      "Epoch: 4th, Alignment: 0\n",
      "------------------------------------------------------------------\n"
     ]
    }
   ],
   "source": [
    "trained_kernel, main_centroids, class_centroids = agent.fit_kernel(training_data, training_labels)"
   ]
  },
  {
   "cell_type": "code",
   "execution_count": 33,
   "id": "a566cb56",
   "metadata": {},
   "outputs": [
    {
     "name": "stdout",
     "output_type": "stream",
     "text": [
      "Labels Type:  <class 'numpy.ndarray'>\n"
     ]
    },
    {
     "name": "stderr",
     "output_type": "stream",
     "text": [
      "/Users/qmlwizard/Research/greedy_kernel_alignment/utils/qiskit/model.py:66: UserWarning: To copy construct from a tensor, it is recommended to use sourceTensor.clone().detach() or sourceTensor.clone().detach().requires_grad_(True), rather than torch.tensor(sourceTensor).\n",
      "  return torch.tensor(kernel_value, dtype=torch.float32)\n"
     ]
    },
    {
     "data": {
      "text/plain": [
       "{'alignment': tensor(0.2766),\n",
       " 'executions': 400,\n",
       " 'training_accuracy': 1.0,\n",
       " 'testing_accuracy': 0.996,\n",
       " 'f1_score': 0.996000064001024,\n",
       " 'alignment_arr': [0, 0, 0, 0, 0],\n",
       " 'loss_arr': [],\n",
       " 'validation_accuracy_arr': []}"
      ]
     },
     "execution_count": 33,
     "metadata": {},
     "output_type": "execute_result"
    }
   ],
   "source": [
    "after_metrics = agent.evaluate(testing_data, testing_labels)\n",
    "after_metrics\n"
   ]
  }
 ],
 "metadata": {
  "kernelspec": {
   "display_name": ".venv",
   "language": "python",
   "name": "python3"
  },
  "language_info": {
   "codemirror_mode": {
    "name": "ipython",
    "version": 3
   },
   "file_extension": ".py",
   "mimetype": "text/x-python",
   "name": "python",
   "nbconvert_exporter": "python",
   "pygments_lexer": "ipython3",
   "version": "3.9.6"
  }
 },
 "nbformat": 4,
 "nbformat_minor": 5
}
