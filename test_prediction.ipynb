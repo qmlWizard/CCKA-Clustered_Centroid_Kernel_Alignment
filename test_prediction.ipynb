{
 "cells": [
  {
   "cell_type": "code",
   "id": "initial_id",
   "metadata": {
    "collapsed": true,
    "ExecuteTime": {
     "end_time": "2025-07-24T15:09:12.215479Z",
     "start_time": "2025-07-24T15:09:08.638220Z"
    }
   },
   "source": [
    "import torch\n",
    "import intel_extension_for_pytorch as ipex\n",
    "import ray\n",
    "from ray import tune\n",
    "from ray.air import session\n",
    "from sklearn.model_selection import train_test_split\n",
    "import yaml\n",
    "import argparse\n",
    "import shutil\n",
    "from collections import namedtuple\n",
    "import os\n",
    "import datetime\n",
    "\n",
    "\n",
    "# Custom Libraries\n",
    "from utils.data_generator import DataGenerator\n",
    "from utils.agent import TrainModel\n",
    "from utils.helper import to_python_native, gen_experiment_name, set_seed, save_model_state\n",
    "from utils.plotter import alignment_progress_over_iterations, plot_initial_final_accuracies\n",
    "from utils.pennylane.model import Qkernel"
   ],
   "outputs": [
    {
     "name": "stderr",
     "output_type": "stream",
     "text": [
      "[W724 17:09:09.718631997 OperatorEntry.cpp:154] Warning: Warning only once for all operators,  other operators may also be overridden.\n",
      "  Overriding a previously registered kernel for the same operator and the same dispatch key\n",
      "  operator: aten::_addmm_activation(Tensor self, Tensor mat1, Tensor mat2, *, Scalar beta=1, Scalar alpha=1, bool use_gelu=False) -> Tensor\n",
      "    registered at /pytorch/build/aten/src/ATen/RegisterSchema.cpp:6\n",
      "  dispatch key: AutocastCPU\n",
      "  previous kernel: registered at /pytorch/aten/src/ATen/autocast_mode.cpp:327\n",
      "       new kernel: registered at /opt/workspace/ipex-cpu-dev/csrc/cpu/autocast/autocast_mode.cpp:112 (function operator())\n",
      "2025-07-24 17:09:11,390\tINFO util.py:154 -- Missing packages: ['ipywidgets']. Run `pip install -U ipywidgets`, then restart the notebook server for rich notebook output.\n",
      "2025-07-24 17:09:11,576\tINFO util.py:154 -- Missing packages: ['ipywidgets']. Run `pip install -U ipywidgets`, then restart the notebook server for rich notebook output.\n"
     ]
    }
   ],
   "execution_count": 1
  },
  {
   "metadata": {
    "ExecuteTime": {
     "end_time": "2025-07-24T15:09:12.226593Z",
     "start_time": "2025-07-24T15:09:12.219818Z"
    }
   },
   "cell_type": "code",
   "source": [
    "# === Backend Configuration ===\n",
    "if torch.backends.mps.is_available():\n",
    "    device = torch.device(\"mps\")\n",
    "elif torch.cuda.is_available():\n",
    "    device = torch.device(\"cuda\")\n",
    "elif torch.xpu.is_available():\n",
    "    device = torch.device(\"xpu\")\n",
    "else:\n",
    "    device = torch.device(\"cpu\")\n",
    "\n",
    "set_seed(42)\n",
    "\n",
    "device"
   ],
   "id": "c5d9091392b5bd84",
   "outputs": [
    {
     "data": {
      "text/plain": [
       "device(type='cpu')"
      ]
     },
     "execution_count": 2,
     "metadata": {},
     "output_type": "execute_result"
    }
   ],
   "execution_count": 2
  },
  {
   "metadata": {
    "ExecuteTime": {
     "end_time": "2025-07-24T15:09:12.271607Z",
     "start_time": "2025-07-24T15:09:12.267228Z"
    }
   },
   "cell_type": "code",
   "source": [
    "data_generator = DataGenerator(\n",
    "        dataset_name= 'checkerboard',\n",
    "        file_path= 'data/checkerboard_dataset.npy',\n",
    "    )\n",
    "\n",
    "training_data, training_labels, testing_data, testing_labels = data_generator.generate_dataset()\n",
    "training_data = torch.tensor(training_data.to_numpy(), dtype=torch.float32, requires_grad=True)\n",
    "testing_data = torch.tensor(testing_data.to_numpy(), dtype=torch.float32, requires_grad=True)\n",
    "training_labels = torch.tensor(training_labels.to_numpy(), dtype=torch.int)\n",
    "testing_labels = torch.tensor(testing_labels.to_numpy(), dtype=torch.int)"
   ],
   "id": "d095596aa72c322e",
   "outputs": [],
   "execution_count": 3
  },
  {
   "metadata": {
    "ExecuteTime": {
     "end_time": "2025-07-24T15:09:12.318158Z",
     "start_time": "2025-07-24T15:09:12.314986Z"
    }
   },
   "cell_type": "code",
   "source": [
    "print(training_data.size())\n",
    "print(testing_data.size())"
   ],
   "id": "db33bdf0872a4f64",
   "outputs": [
    {
     "name": "stdout",
     "output_type": "stream",
     "text": [
      "torch.Size([30, 2])\n",
      "torch.Size([30, 2])\n"
     ]
    }
   ],
   "execution_count": 4
  },
  {
   "metadata": {
    "ExecuteTime": {
     "end_time": "2025-07-24T15:09:12.370250Z",
     "start_time": "2025-07-24T15:09:12.362783Z"
    }
   },
   "cell_type": "code",
   "source": [
    "kernel = Qkernel(\n",
    "        device='lightning.qubit',\n",
    "        n_qubits=4,\n",
    "        trainable=True,\n",
    "        input_scaling=True,\n",
    "        data_reuploading=True,\n",
    "        ansatz='embedding_paper',\n",
    "        ansatz_layers=5\n",
    "    )"
   ],
   "id": "ab9f596bee7533a1",
   "outputs": [],
   "execution_count": 5
  },
  {
   "metadata": {
    "ExecuteTime": {
     "end_time": "2025-07-24T15:09:12.534166Z",
     "start_time": "2025-07-24T15:09:12.410860Z"
    }
   },
   "cell_type": "code",
   "source": [
    "agent = TrainModel(\n",
    "        kernel=kernel,\n",
    "        training_data=training_data,\n",
    "        training_labels=training_labels,\n",
    "        testing_data=testing_data,\n",
    "        testing_labels=testing_labels,\n",
    "        optimizer='gd',\n",
    "        lr= 0.1,\n",
    "        mclr=0.01,\n",
    "        cclr=0.01,\n",
    "        epochs=1000,\n",
    "        train_method='ccka',\n",
    "        target_accuracy=0.95,\n",
    "        get_alignment_every=1500,\n",
    "        validate_every_epoch=1,\n",
    "        base_path='./',\n",
    "        lambda_kao=0.001,\n",
    "        lambda_co=0.001,\n",
    "        clusters=8\n",
    "    )"
   ],
   "id": "cdd62e9992a7996e",
   "outputs": [
    {
     "name": "stdout",
     "output_type": "stream",
     "text": [
      "Epochs:  100\n"
     ]
    }
   ],
   "execution_count": 6
  },
  {
   "metadata": {
    "ExecuteTime": {
     "end_time": "2025-07-24T15:09:27.740100Z",
     "start_time": "2025-07-24T15:09:12.539920Z"
    }
   },
   "cell_type": "code",
   "source": [
    "before_metrics = agent.evaluate_test(testing_data, testing_labels, 'before')\n",
    "before_metrics"
   ],
   "id": "c29b4a5f6d9c28cf",
   "outputs": [
    {
     "name": "stdout",
     "output_type": "stream",
     "text": [
      "proto_labels: [-1, -1, -1, -1, -1, -1, -1, -1, 1, 1, 1, 1, 1, 1, 1, 1]\n",
      "len(subcentroids): 16\n",
      "{-1: [Parameter containing:\n",
      "tensor([-0.7532,  0.9325], requires_grad=True), Parameter containing:\n",
      "tensor([-1.0201, -2.7882], requires_grad=True), Parameter containing:\n",
      "tensor([ 2.9360, -2.5087], requires_grad=True), Parameter containing:\n",
      "tensor([1.0236, 2.9054], requires_grad=True), Parameter containing:\n",
      "tensor([-2.9927,  2.9968], requires_grad=True), Parameter containing:\n",
      "tensor([ 1.0254, -0.9576], requires_grad=True), Parameter containing:\n",
      "tensor([-2.9673, -0.7056], requires_grad=True), Parameter containing:\n",
      "tensor([2.7942, 1.3157], requires_grad=True)], 1: [Parameter containing:\n",
      "tensor([-0.8904,  2.7532], requires_grad=True), Parameter containing:\n",
      "tensor([ 0.6595, -2.5765], requires_grad=True), Parameter containing:\n",
      "tensor([-2.8906, -2.8270], requires_grad=True), Parameter containing:\n",
      "tensor([ 2.8698, -1.0826], requires_grad=True), Parameter containing:\n",
      "tensor([-0.8495, -0.8127], requires_grad=True), Parameter containing:\n",
      "tensor([2.8301, 3.1324], requires_grad=True), Parameter containing:\n",
      "tensor([-2.7097,  0.8248], requires_grad=True), Parameter containing:\n",
      "tensor([0.6176, 0.7343], requires_grad=True)]}\n",
      "{-1: Parameter containing:\n",
      "tensor([-0.1777,  0.0356], requires_grad=True), 1: Parameter containing:\n",
      "tensor([-0.3236, -0.3272], requires_grad=True)}\n",
      "Sims mean per class:\n",
      "Class -1: mean sim = 0.0739, std = 0.2031\n",
      "Class 1: mean sim = 0.0724, std = 0.2093\n",
      "Sims mean per class:\n",
      "Class -1: mean sim = 0.0589, std = 0.1703\n",
      "Class 1: mean sim = 0.0459, std = 0.1374\n"
     ]
    },
    {
     "data": {
      "text/plain": [
       "{'alignment': tensor(0.1708, grad_fn=<SqueezeBackward0>),\n",
       " 'executions': None,\n",
       " 'training_accuracy': 1.0,\n",
       " 'testing_accuracy': 0.9,\n",
       " 'f1_score': 0.8996662958843159,\n",
       " 'alignment_arr': [[], []],\n",
       " 'loss_arr': [],\n",
       " 'validation_accuracy_arr': []}"
      ]
     },
     "execution_count": 7,
     "metadata": {},
     "output_type": "execute_result"
    }
   ],
   "execution_count": 7
  },
  {
   "metadata": {
    "ExecuteTime": {
     "end_time": "2025-07-24T15:16:53.567233Z",
     "start_time": "2025-07-24T15:09:27.790274Z"
    }
   },
   "cell_type": "code",
   "source": "agent.fit_kernel(training_data, training_labels)",
   "id": "5674871010401015",
   "outputs": [
    {
     "name": "stdout",
     "output_type": "stream",
     "text": [
      "Started Training\n"
     ]
    },
    {
     "data": {
      "text/plain": [
       "(Qkernel(),\n",
       " [Parameter containing:\n",
       "  tensor([[ 0.4272,  1.1133, -0.1624,  0.4983],\n",
       "          [ 0.6128,  1.3252,  1.5477,  1.3025],\n",
       "          [ 0.8931,  1.2276,  0.4498,  1.2622],\n",
       "          [ 1.3164,  0.3024,  0.8658,  0.8592],\n",
       "          [ 0.6158,  0.3992,  0.9372,  0.5487]], requires_grad=True),\n",
       "  Parameter containing:\n",
       "  tensor([[ 1.4855,  2.0281, -0.4422,  2.3168],\n",
       "          [-0.3033,  0.3754, -1.3517,  1.7436],\n",
       "          [ 2.3319, -1.5767,  2.7651,  0.0176],\n",
       "          [ 1.6410,  0.3120,  1.5512, -0.5786],\n",
       "          [ 1.9828,  0.3802, -1.2007,  0.6556]], requires_grad=True),\n",
       "  Parameter containing:\n",
       "  tensor([[-0.8259, -0.3861, -0.8868,  1.8092],\n",
       "          [-2.6817, -0.8758, -0.7075, -1.5365],\n",
       "          [ 0.3146, -2.6217,  2.4613, -1.7053],\n",
       "          [ 2.0351, -0.1621, -0.7131,  1.3693],\n",
       "          [ 0.4009,  2.0781,  0.2812, -0.8112]], requires_grad=True)],\n",
       " ParameterList(\n",
       "     (0): Parameter containing: [torch.float32 of size 2]\n",
       "     (1): Parameter containing: [torch.float32 of size 2]\n",
       " ),\n",
       " ParameterList(\n",
       "     (0): Parameter containing: [torch.float32 of size 2]\n",
       "     (1): Parameter containing: [torch.float32 of size 2]\n",
       "     (2): Parameter containing: [torch.float32 of size 2]\n",
       "     (3): Parameter containing: [torch.float32 of size 2]\n",
       "     (4): Parameter containing: [torch.float32 of size 2]\n",
       "     (5): Parameter containing: [torch.float32 of size 2]\n",
       "     (6): Parameter containing: [torch.float32 of size 2]\n",
       "     (7): Parameter containing: [torch.float32 of size 2]\n",
       "     (8): Parameter containing: [torch.float32 of size 2]\n",
       "     (9): Parameter containing: [torch.float32 of size 2]\n",
       "     (10): Parameter containing: [torch.float32 of size 2]\n",
       "     (11): Parameter containing: [torch.float32 of size 2]\n",
       "     (12): Parameter containing: [torch.float32 of size 2]\n",
       "     (13): Parameter containing: [torch.float32 of size 2]\n",
       "     (14): Parameter containing: [torch.float32 of size 2]\n",
       "     (15): Parameter containing: [torch.float32 of size 2]\n",
       " ))"
      ]
     },
     "execution_count": 8,
     "metadata": {},
     "output_type": "execute_result"
    }
   ],
   "execution_count": 8
  },
  {
   "metadata": {
    "ExecuteTime": {
     "end_time": "2025-07-24T15:17:11.902163Z",
     "start_time": "2025-07-24T15:16:53.659088Z"
    }
   },
   "cell_type": "code",
   "source": [
    "after = agent.evaluate_test(testing_data, testing_labels, 'before')\n",
    "after"
   ],
   "id": "932322d8f35e7389",
   "outputs": [
    {
     "name": "stdout",
     "output_type": "stream",
     "text": [
      "proto_labels: [-1, -1, -1, -1, -1, -1, -1, -1, 1, 1, 1, 1, 1, 1, 1, 1]\n",
      "len(subcentroids): 16\n",
      "{-1: [Parameter containing:\n",
      "tensor([-0.6588,  0.9516], requires_grad=True), Parameter containing:\n",
      "tensor([-1.0098, -2.7658], requires_grad=True), Parameter containing:\n",
      "tensor([ 2.9144, -2.5141], requires_grad=True), Parameter containing:\n",
      "tensor([1.0649, 2.8934], requires_grad=True), Parameter containing:\n",
      "tensor([-2.9802,  2.9718], requires_grad=True), Parameter containing:\n",
      "tensor([ 1.0381, -0.9792], requires_grad=True), Parameter containing:\n",
      "tensor([-2.9327, -0.7028], requires_grad=True), Parameter containing:\n",
      "tensor([2.7956, 1.3191], requires_grad=True)], 1: [Parameter containing:\n",
      "tensor([-0.9338,  2.7264], requires_grad=True), Parameter containing:\n",
      "tensor([ 0.6510, -2.5848], requires_grad=True), Parameter containing:\n",
      "tensor([-2.9092, -2.8314], requires_grad=True), Parameter containing:\n",
      "tensor([ 2.8550, -1.0992], requires_grad=True), Parameter containing:\n",
      "tensor([-0.8408, -0.8306], requires_grad=True), Parameter containing:\n",
      "tensor([2.8361, 3.1201], requires_grad=True), Parameter containing:\n",
      "tensor([-2.7238,  0.8168], requires_grad=True), Parameter containing:\n",
      "tensor([0.6540, 0.8214], requires_grad=True)]}\n",
      "{-1: Parameter containing:\n",
      "tensor([0.1812, 0.4311], requires_grad=True), 1: Parameter containing:\n",
      "tensor([0.1506, 0.3679], requires_grad=True)}\n",
      "Sims mean per class:\n",
      "Class -1: mean sim = 0.0580, std = 0.1948\n",
      "Class 1: mean sim = 0.0536, std = 0.1898\n",
      "Sims mean per class:\n",
      "Class -1: mean sim = 0.0445, std = 0.1587\n",
      "Class 1: mean sim = 0.0393, std = 0.1324\n"
     ]
    },
    {
     "data": {
      "text/plain": [
       "{'alignment': tensor(0.2312, grad_fn=<SqueezeBackward0>),\n",
       " 'executions': 16000,\n",
       " 'training_accuracy': 1.0,\n",
       " 'testing_accuracy': 0.9666666666666667,\n",
       " 'f1_score': 0.9667037449017427,\n",
       " 'alignment_arr': [[], []],\n",
       " 'loss_arr': [],\n",
       " 'validation_accuracy_arr': []}"
      ]
     },
     "execution_count": 9,
     "metadata": {},
     "output_type": "execute_result"
    }
   ],
   "execution_count": 9
  }
 ],
 "metadata": {
  "kernelspec": {
   "display_name": "Python 3",
   "language": "python",
   "name": "python3"
  },
  "language_info": {
   "codemirror_mode": {
    "name": "ipython",
    "version": 2
   },
   "file_extension": ".py",
   "mimetype": "text/x-python",
   "name": "python",
   "nbconvert_exporter": "python",
   "pygments_lexer": "ipython2",
   "version": "2.7.6"
  }
 },
 "nbformat": 4,
 "nbformat_minor": 5
}
