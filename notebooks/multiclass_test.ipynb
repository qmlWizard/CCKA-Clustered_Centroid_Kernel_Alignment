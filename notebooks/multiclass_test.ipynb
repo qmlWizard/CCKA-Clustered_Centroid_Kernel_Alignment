{
 "cells": [
  {
   "cell_type": "code",
   "id": "73fc4ed22cb68042",
   "metadata": {
    "ExecuteTime": {
     "end_time": "2025-08-20T09:38:00.604649Z",
     "start_time": "2025-08-20T09:38:00.596955Z"
    }
   },
   "source": [
    "import torch\n",
    "from sklearn.model_selection import train_test_split\n",
    "import yaml\n",
    "import argparse\n",
    "import shutil\n",
    "from collections import namedtuple\n",
    "import os\n",
    "import datetime\n",
    "\n",
    "\n",
    "# Custom Libraries\n",
    "from utils.data_generator import DataGenerator\n",
    "from utils.agent import TrainModel\n",
    "from utils.helper import to_python_native, gen_experiment_name, set_seed, save_model_state\n",
    "from utils.pennylane.model import Qkernel"
   ],
   "outputs": [],
   "execution_count": 2
  },
  {
   "cell_type": "code",
   "id": "6e00a9009403967a",
   "metadata": {
    "ExecuteTime": {
     "end_time": "2025-08-20T09:38:08.239958Z",
     "start_time": "2025-08-20T09:38:08.231890Z"
    }
   },
   "source": [
    "# === Backend Configuration ===\n",
    "if torch.backends.mps.is_available():\n",
    "    device = torch.device(\"mps\")\n",
    "elif torch.cuda.is_available():\n",
    "    device = torch.device(\"cuda\")\n",
    "elif torch.xpu.is_available():\n",
    "    device = torch.device(\"xpu\")\n",
    "else:\n",
    "    device = torch.device(\"cpu\")\n",
    "\n",
    "set_seed(42)\n",
    "device"
   ],
   "outputs": [
    {
     "data": {
      "text/plain": [
       "device(type='mps')"
      ]
     },
     "execution_count": 4,
     "metadata": {},
     "output_type": "execute_result"
    }
   ],
   "execution_count": 4
  },
  {
   "cell_type": "code",
   "id": "8eff54c8221ee3f8",
   "metadata": {
    "ExecuteTime": {
     "end_time": "2025-08-20T10:00:24.342259Z",
     "start_time": "2025-08-20T10:00:24.332434Z"
    }
   },
   "source": [
    "data_generator = DataGenerator(\n",
    "        dataset_name= 'iris',\n",
    "        file_path=None,\n",
    "    )\n",
    "\n",
    "training_data, training_labels, testing_data, testing_labels = data_generator.generate_dataset()\n",
    "training_data = torch.tensor(training_data.to_numpy(), dtype=torch.float32, requires_grad=True)\n",
    "testing_data = torch.tensor(testing_data.to_numpy(), dtype=torch.float32, requires_grad=True)\n",
    "training_labels = torch.tensor(training_labels.to_numpy(), dtype=torch.int)\n",
    "testing_labels = torch.tensor(testing_labels.to_numpy(), dtype=torch.int)"
   ],
   "outputs": [],
   "execution_count": 10
  },
  {
   "cell_type": "code",
   "id": "b0795ba50830e58e",
   "metadata": {
    "ExecuteTime": {
     "end_time": "2025-08-20T10:00:29.404218Z",
     "start_time": "2025-08-20T10:00:29.401690Z"
    }
   },
   "source": [
    "print(training_data.size())\n",
    "print(testing_data.size())"
   ],
   "outputs": [
    {
     "name": "stdout",
     "output_type": "stream",
     "text": [
      "torch.Size([120, 4])\n",
      "torch.Size([30, 4])\n"
     ]
    }
   ],
   "execution_count": 11
  },
  {
   "cell_type": "code",
   "id": "44d5dde088255c59",
   "metadata": {
    "ExecuteTime": {
     "end_time": "2025-08-20T10:00:33.774782Z",
     "start_time": "2025-08-20T10:00:33.771292Z"
    }
   },
   "source": [
    "kernel = Qkernel(\n",
    "        device='lightning.qubit',\n",
    "        n_qubits=4,\n",
    "        trainable=True,\n",
    "        input_scaling=True,\n",
    "        data_reuploading=True,\n",
    "        ansatz='embedding_paper',\n",
    "        ansatz_layers=5\n",
    "    )"
   ],
   "outputs": [],
   "execution_count": 12
  },
  {
   "cell_type": "code",
   "id": "de729e20ecf68f01",
   "metadata": {
    "ExecuteTime": {
     "end_time": "2025-08-20T10:00:37.761902Z",
     "start_time": "2025-08-20T10:00:37.749188Z"
    }
   },
   "source": [
    "agent = TrainModel(\n",
    "        kernel=kernel,\n",
    "        training_data=training_data,\n",
    "        training_labels=training_labels,\n",
    "        testing_data=testing_data,\n",
    "        testing_labels=testing_labels,\n",
    "        optimizer='gd',\n",
    "        lr= 0.1,\n",
    "        mclr=0.01,\n",
    "        cclr=0.01,\n",
    "        epochs=100,\n",
    "        train_method='ccka',\n",
    "        target_accuracy=0.95,\n",
    "        get_alignment_every=100,\n",
    "        validate_every_epoch=1,\n",
    "        base_path='../',\n",
    "        lambda_kao=0.001,\n",
    "        lambda_co=0.001,\n",
    "        clusters=8,\n",
    "        use_kmeans=True\n",
    "    )"
   ],
   "outputs": [
    {
     "name": "stdout",
     "output_type": "stream",
     "text": [
      "Epochs:  10\n"
     ]
    }
   ],
   "execution_count": 13
  },
  {
   "cell_type": "code",
   "id": "e8f8566defb4bf8b",
   "metadata": {
    "ExecuteTime": {
     "end_time": "2025-08-20T10:03:11.036537Z",
     "start_time": "2025-08-20T10:00:40.778354Z"
    }
   },
   "source": [
    "before_metrics = agent.evaluate_test(testing_data, testing_labels, 'before')\n",
    "before_metrics"
   ],
   "outputs": [
    {
     "name": "stdout",
     "output_type": "stream",
     "text": [
      "proto_labels: [1, 1, 1, 1, 1, 1, 1, 1, 2, 2, 2, 2, 2, 2, 2, 2, 3, 3, 3, 3, 3, 3, 3, 3]\n",
      "len(subcentroids): 24\n",
      "{1: [Parameter containing:\n",
      "tensor([-2.1443, -0.1870, -2.7004, -2.8798], requires_grad=True), Parameter containing:\n",
      "tensor([-1.4711,  1.5334, -2.5331, -2.5806], requires_grad=True), Parameter containing:\n",
      "tensor([-2.6180,  1.0472, -3.1416, -2.8798], requires_grad=True), Parameter containing:\n",
      "tensor([-1.2217,  0.5236, -2.3961, -2.8798], requires_grad=True), Parameter containing:\n",
      "tensor([-2.5482,  0.3142, -2.5878, -2.8274], requires_grad=True), Parameter containing:\n",
      "tensor([-2.9671, -1.0472, -2.8487, -2.8798], requires_grad=True), Parameter containing:\n",
      "tensor([-0.9599,  2.5525, -2.7156, -2.8143], requires_grad=True), Parameter containing:\n",
      "tensor([-1.8088,  0.7140, -2.6478, -2.6894], requires_grad=True)], 2: [Parameter containing:\n",
      "tensor([-0.7951, -1.8908, -0.0059, -0.4654], requires_grad=True), Parameter containing:\n",
      "tensor([-0.0349, -0.7330,  0.4366,  0.2094], requires_grad=True), Parameter containing:\n",
      "tensor([ 1.2654, -0.2618,  0.9318,  0.5890], requires_grad=True), Parameter containing:\n",
      "tensor([-1.9199, -2.3562, -0.7188, -0.7199], requires_grad=True), Parameter containing:\n",
      "tensor([-0.9381, -0.8181,  0.2795,  0.1309], requires_grad=True), Parameter containing:\n",
      "tensor([-0.2618,  0.2618,  0.7455,  1.0472], requires_grad=True), Parameter containing:\n",
      "tensor([ 0.7563, -0.5672,  0.5502,  0.2618], requires_grad=True), Parameter containing:\n",
      "tensor([ 0.1745, -1.8326,  0.9052,  0.4363], requires_grad=True)], 3: [Parameter containing:\n",
      "tensor([-0.5236, -1.0472,  1.2247,  2.8798], requires_grad=True), Parameter containing:\n",
      "tensor([ 2.0508, -0.5890,  2.2364,  1.2435], requires_grad=True), Parameter containing:\n",
      "tensor([ 0.2539, -0.9758,  1.3312,  1.1900], requires_grad=True), Parameter containing:\n",
      "tensor([0.5818, 0.2182, 1.7572, 2.8798], requires_grad=True), Parameter containing:\n",
      "tensor([2.3562, 1.3090, 2.6091, 2.7489], requires_grad=True), Parameter containing:\n",
      "tensor([-0.8145, -1.6581,  1.0472,  1.3963], requires_grad=True), Parameter containing:\n",
      "tensor([ 2.7343, -0.6981,  2.6801,  2.1817], requires_grad=True), Parameter containing:\n",
      "tensor([ 1.2508, -0.2618,  1.7217,  2.1380], requires_grad=True)]}\n",
      "{1: Parameter containing:\n",
      "tensor([-1.9373,  0.6610, -2.6624, -2.7620], requires_grad=True), 2: Parameter containing:\n",
      "tensor([-0.3150, -1.1238,  0.3104,  0.0575], requires_grad=True), 3: Parameter containing:\n",
      "tensor([ 0.7563, -0.6109,  1.6725,  1.8326], requires_grad=True)}\n",
      "Sims mean per class:\n",
      "Class 1: mean sim = 0.0532, std = 0.1497\n",
      "Class 2: mean sim = 0.0407, std = 0.1278\n",
      "Class 3: mean sim = 0.0231, std = 0.0898\n",
      "Sims mean per class:\n",
      "Class 1: mean sim = 0.0530, std = 0.1462\n",
      "Class 2: mean sim = 0.0292, std = 0.1000\n",
      "Class 3: mean sim = 0.0147, std = 0.0413\n"
     ]
    },
    {
     "data": {
      "text/plain": [
       "{'alignment': tensor(0.9894, grad_fn=<SqueezeBackward0>),\n",
       " 'executions': None,\n",
       " 'training_accuracy': 0.9583333333333334,\n",
       " 'testing_accuracy': 0.9,\n",
       " 'f1_score': 0.8960127591706538,\n",
       " 'alignment_arr': [[], []],\n",
       " 'loss_arr': [],\n",
       " 'validation_accuracy_arr': []}"
      ]
     },
     "execution_count": 14,
     "metadata": {},
     "output_type": "execute_result"
    }
   ],
   "execution_count": 14
  },
  {
   "cell_type": "code",
   "execution_count": 24,
   "id": "ead487234afd392a",
   "metadata": {
    "ExecuteTime": {
     "end_time": "2025-07-25T08:36:19.569758Z",
     "start_time": "2025-07-25T08:32:52.300840Z"
    }
   },
   "outputs": [
    {
     "name": "stdout",
     "output_type": "stream",
     "text": [
      "Started Training\n",
      "------------------------------------------------------------------\n",
      "Epoch: 9 — Alignment per main centroid\n",
      "Centroid 0 (label=0): Alignment = -0.3625839352607727\n",
      "Centroid 1 (label=1): Alignment = -0.14122827351093292\n",
      "Centroid 2 (label=2): Alignment = -0.03269040957093239\n",
      "------------------------------------------------------------------\n"
     ]
    },
    {
     "data": {
      "text/plain": [
       "(Qkernel(),\n",
       " [Parameter containing:\n",
       "  tensor([[1.0021, 0.9009, 1.0598, 1.6565],\n",
       "          [1.0492, 0.3985, 1.1188, 1.5979],\n",
       "          [0.5470, 0.9987, 0.6590, 1.2983],\n",
       "          [1.1728, 1.7096, 1.5389, 1.0977],\n",
       "          [0.1672, 1.5473, 1.1811, 0.9918]], requires_grad=True),\n",
       "  Parameter containing:\n",
       "  tensor([[ 2.5002,  1.9146, -1.1743,  3.6822],\n",
       "          [-0.6125,  0.6750, -1.4409,  0.8102],\n",
       "          [ 1.9916, -1.6664,  2.6247,  1.0600],\n",
       "          [ 2.8034,  0.5125,  1.7722, -0.3050],\n",
       "          [ 2.2808,  0.4373, -1.3812,  0.7541]], requires_grad=True),\n",
       "  Parameter containing:\n",
       "  tensor([[-1.5987, -0.1881, -1.4192,  1.7429],\n",
       "          [-2.2155, -0.5051, -0.4418, -1.7258],\n",
       "          [-0.1265, -3.3522,  3.1386, -2.2544],\n",
       "          [ 2.0066,  0.3211, -1.1190,  2.0040],\n",
       "          [ 0.4611,  2.3905,  0.3234, -0.9331]], requires_grad=True)],\n",
       " ParameterList(\n",
       "     (0): Parameter containing: [torch.float32 of size 13]\n",
       "     (1): Parameter containing: [torch.float32 of size 13]\n",
       "     (2): Parameter containing: [torch.float32 of size 13]\n",
       " ),\n",
       " ParameterList(\n",
       "     (0): Parameter containing: [torch.float32 of size 13]\n",
       "     (1): Parameter containing: [torch.float32 of size 13]\n",
       "     (2): Parameter containing: [torch.float32 of size 13]\n",
       "     (3): Parameter containing: [torch.float32 of size 13]\n",
       "     (4): Parameter containing: [torch.float32 of size 13]\n",
       "     (5): Parameter containing: [torch.float32 of size 13]\n",
       "     (6): Parameter containing: [torch.float32 of size 13]\n",
       "     (7): Parameter containing: [torch.float32 of size 13]\n",
       "     (8): Parameter containing: [torch.float32 of size 13]\n",
       "     (9): Parameter containing: [torch.float32 of size 13]\n",
       "     (10): Parameter containing: [torch.float32 of size 13]\n",
       "     (11): Parameter containing: [torch.float32 of size 13]\n",
       "     (12): Parameter containing: [torch.float32 of size 13]\n",
       "     (13): Parameter containing: [torch.float32 of size 13]\n",
       "     (14): Parameter containing: [torch.float32 of size 13]\n",
       "     (15): Parameter containing: [torch.float32 of size 13]\n",
       "     (16): Parameter containing: [torch.float32 of size 13]\n",
       "     (17): Parameter containing: [torch.float32 of size 13]\n",
       "     (18): Parameter containing: [torch.float32 of size 13]\n",
       "     (19): Parameter containing: [torch.float32 of size 13]\n",
       "     (20): Parameter containing: [torch.float32 of size 13]\n",
       "     (21): Parameter containing: [torch.float32 of size 13]\n",
       "     (22): Parameter containing: [torch.float32 of size 13]\n",
       "     (23): Parameter containing: [torch.float32 of size 13]\n",
       " ))"
      ]
     },
     "execution_count": 24,
     "metadata": {},
     "output_type": "execute_result"
    }
   ],
   "source": [
    " agent.fit_multiclass(training_data, training_labels)"
   ]
  },
  {
   "cell_type": "code",
   "execution_count": 25,
   "id": "dd0c5b40fdf3028f",
   "metadata": {
    "ExecuteTime": {
     "end_time": "2025-07-25T08:40:12.869704Z",
     "start_time": "2025-07-25T08:36:19.621303Z"
    }
   },
   "outputs": [
    {
     "name": "stdout",
     "output_type": "stream",
     "text": [
      "proto_labels: [1, 1, 1, 1, 1, 1, 1, 1, 2, 2, 2, 2, 2, 2, 2, 2, 3, 3, 3, 3, 3, 3, 3, 3]\n",
      "len(subcentroids): 24\n",
      "{1: [Parameter containing:\n",
      "tensor([ 1.5006, -2.0174, -0.1951, -1.4529,  0.0195,  1.1885,  0.5378, -1.6004,\n",
      "         0.1656, -0.7038, -0.6823,  1.8922, -0.2004], requires_grad=True), Parameter containing:\n",
      "tensor([ 0.7975, -2.0743,  0.3304, -1.0701, -1.0049, -0.0588, -0.2613, -1.0416,\n",
      "        -0.9528, -1.5654,  0.1788,  0.2844,  0.5135], requires_grad=True), Parameter containing:\n",
      "tensor([ 1.3649, -1.7673,  1.0042, -0.7004, -0.3415,  1.1266,  0.5915, -0.4149,\n",
      "        -0.0768, -0.3545,  0.0575,  0.6128,  1.1949], requires_grad=True), Parameter containing:\n",
      "tensor([ 1.8406, -1.7726, -0.2215, -2.1847, -1.2635,  1.2729,  1.0207, -1.3930,\n",
      "         1.5262, -0.3632,  0.5619,  0.7307,  1.6145], requires_grad=True), Parameter containing:\n",
      "tensor([ 0.5547, -0.5036,  1.5747,  0.0180, -0.3551,  0.5547, -0.0451, -0.4149,\n",
      "        -0.3310, -1.5483, -0.2094,  1.3234, -0.8649], requires_grad=True), Parameter containing:\n",
      "tensor([ 2.5588, -0.2412,  0.0808, -1.9105, -0.4781,  1.2711,  0.4684, -1.6795,\n",
      "         0.1751, -1.1115, -0.4683,  1.4691, -0.1001], requires_grad=True), Parameter containing:\n",
      "tensor([ 1.1891, -1.7099,  0.5583, -1.1608, -1.0927,  0.3792,  0.0447, -1.3930,\n",
      "        -0.6690, -1.2873, -0.1469,  2.0627,  0.6907], requires_grad=True), Parameter containing:\n",
      "tensor([ 1.7356, -1.9826,  0.5272, -1.5378, -0.3642,  2.7733,  1.2239, -1.7190,\n",
      "         0.0694,  0.0411, -0.8939,  1.2850,  1.5208], requires_grad=True)], 2: [Parameter containing:\n",
      "tensor([-1.5604, -2.4452,  0.1741, -0.4585, -1.5806,  1.3154,  0.0814, -1.8714,\n",
      "        -0.3384, -1.8634, -0.7115,  0.8532, -1.9495], requires_grad=True), Parameter containing:\n",
      "tensor([-1.4736, -1.6310,  0.4982,  0.0856, -1.2355, -1.7963, -1.6003,  0.4904,\n",
      "        -1.2532, -2.1732, -0.0460, -0.7062, -1.9458], requires_grad=True), Parameter containing:\n",
      "tensor([-0.8434, -0.0445, -0.0192,  0.1448, -1.6391,  0.9172,  0.0000, -1.1460,\n",
      "         1.0373, -2.3893,  0.0426,  1.1738, -2.5119], requires_grad=True), Parameter containing:\n",
      "tensor([-1.2684, -2.1894, -0.8355,  0.0223, -1.9645, -0.5034, -0.9443, -0.6590,\n",
      "        -0.9531, -2.3690,  0.0796,  0.9958, -2.1657], requires_grad=True), Parameter containing:\n",
      "tensor([-0.5474, -2.5789, -0.5891, -0.0758,  2.1172, -0.0921, -0.8450, -1.6597,\n",
      "         1.2487, -2.1927,  0.5491,  0.5581, -0.5893], requires_grad=True), Parameter containing:\n",
      "tensor([-1.6723, -1.2828,  1.5543,  1.9549, -1.0700, -0.2167,  0.4551,  2.0746,\n",
      "        -0.6177, -1.7370, -0.8939,  1.1699, -2.5261], requires_grad=True), Parameter containing:\n",
      "tensor([ 0.0464, -2.7285, -1.4873, -1.5212, -1.3932, -0.6803, -1.7100, -0.1304,\n",
      "        -2.5073, -1.7617, -0.0051, -1.3326, -1.9298], requires_grad=True), Parameter containing:\n",
      "tensor([-0.4743,  1.6425,  0.3198,  0.9093, -1.8952, -0.6229, -0.9014,  0.5335,\n",
      "        -0.6392, -2.2088, -1.4048,  0.1496, -2.3259], requires_grad=True)], 3: [Parameter containing:\n",
      "tensor([ 1.3078,  1.9716,  0.3518,  0.5190, -1.7484, -1.9153, -2.8473,  1.5056,\n",
      "        -1.6590,  0.0665, -2.3141, -2.4281, -1.7344], requires_grad=True), Parameter containing:\n",
      "tensor([ 0.6700,  0.7633,  0.7165,  0.3282, -1.1220, -1.4393, -2.7856,  1.3803,\n",
      "        -2.2666, -1.0623, -1.2077, -1.5404, -1.7209], requires_grad=True), Parameter containing:\n",
      "tensor([-0.2649, -0.6909,  0.4229,  0.3260, -0.3842, -1.9797, -2.0066, -1.6893,\n",
      "        -1.8384, -0.0945, -2.2413, -2.7590, -1.7938], requires_grad=True), Parameter containing:\n",
      "tensor([ 0.9815, -0.1387,  0.2988, -0.0246, -0.9865, -1.6105, -2.5745,  0.7969,\n",
      "        -1.1573,  1.3397, -2.3016, -2.2875, -1.2653], requires_grad=True), Parameter containing:\n",
      "tensor([-0.4733, -2.0422, -0.3444, -0.5991, -1.5025, -1.5816, -2.7881,  2.2722,\n",
      "        -1.5824, -0.2270, -2.0859, -2.5048, -1.4222], requires_grad=True), Parameter containing:\n",
      "tensor([-0.8932,  2.2941,  0.9871,  0.8696, -1.6049, -1.8308, -2.8831,  2.1932,\n",
      "        -2.0713, -1.4555, -1.5836, -2.6583, -1.6201], requires_grad=True), Parameter containing:\n",
      "tensor([ 1.6163, -1.9733,  1.2555,  1.1179, -1.5366,  0.5850, -1.9950,  1.5412,\n",
      "         0.9910,  2.8065, -2.6818, -1.7607, -1.5193], requires_grad=True), Parameter containing:\n",
      "tensor([-0.8117,  0.4773,  0.5224,  0.5200, -1.6562, -1.3921, -2.7174,  1.2448,\n",
      "        -2.0861, -0.0348, -2.4903, -2.0369, -1.5473], requires_grad=True)]}\n",
      "{1: Parameter containing:\n",
      "tensor([ 1.3342, -1.6719,  0.5216, -1.0806, -0.6152,  0.8878,  0.3547, -1.1279,\n",
      "        -0.1388, -0.9196, -0.1574,  1.2088,  0.5260], requires_grad=True), 2: Parameter containing:\n",
      "tensor([-1.2113, -2.2924, -0.8358, -0.0214, -1.3529, -0.3590, -0.8281, -0.4326,\n",
      "        -0.6672, -2.1601, -0.1746,  0.3834, -2.0310], requires_grad=True), 3: Parameter containing:\n",
      "tensor([ 0.7645,  0.7198,  0.7275,  0.3513, -1.1481, -1.5687, -2.5477,  0.7528,\n",
      "        -1.6124,  0.1520, -2.0845, -2.2510, -1.5788], requires_grad=True)}\n",
      "Sims mean per class:\n",
      "Class 1: mean sim = 0.0264, std = 0.0807\n",
      "Class 2: mean sim = 0.0180, std = 0.0476\n",
      "Class 3: mean sim = 0.0204, std = 0.0619\n",
      "Sims mean per class:\n",
      "Class 1: mean sim = 0.0305, std = 0.0964\n",
      "Class 2: mean sim = 0.0186, std = 0.0436\n",
      "Class 3: mean sim = 0.0183, std = 0.0510\n"
     ]
    },
    {
     "data": {
      "text/plain": [
       "{'alignment': tensor(0.9647, grad_fn=<SqueezeBackward0>),\n",
       " 'executions': 7200,\n",
       " 'training_accuracy': 0.6197183098591549,\n",
       " 'testing_accuracy': 0.6666666666666666,\n",
       " 'f1_score': 0.6679012345679012,\n",
       " 'alignment_arr': [[], []],\n",
       " 'loss_arr': [],\n",
       " 'validation_accuracy_arr': []}"
      ]
     },
     "execution_count": 25,
     "metadata": {},
     "output_type": "execute_result"
    }
   ],
   "source": [
    "after_metrics = agent.evaluate_test(testing_data, testing_labels, 'after')\n",
    "after_metrics"
   ]
  }
 ],
 "metadata": {
  "kernelspec": {
   "display_name": ".venv",
   "language": "python",
   "name": "python3"
  },
  "language_info": {
   "codemirror_mode": {
    "name": "ipython",
    "version": 3
   },
   "file_extension": ".py",
   "mimetype": "text/x-python",
   "name": "python",
   "nbconvert_exporter": "python",
   "pygments_lexer": "ipython3",
   "version": "3.10.18"
  }
 },
 "nbformat": 4,
 "nbformat_minor": 5
}
