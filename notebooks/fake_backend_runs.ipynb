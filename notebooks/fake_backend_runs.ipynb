{
 "cells": [
  {
   "metadata": {
    "ExecuteTime": {
     "end_time": "2025-08-04T14:49:06.019436Z",
     "start_time": "2025-08-04T14:49:03.501754Z"
    }
   },
   "cell_type": "code",
   "source": [
    "import torch\n",
    "import ray\n",
    "from ray import tune\n",
    "from ray.air import session\n",
    "from sklearn.model_selection import train_test_split\n",
    "import yaml\n",
    "import argparse\n",
    "import shutil\n",
    "from collections import namedtuple\n",
    "import os\n",
    "import datetime\n",
    "\n",
    "\n",
    "# Custom Libraries\n",
    "from utils.data_generator import DataGenerator\n",
    "from utils.agent import TrainModel\n",
    "from utils.helper import to_python_native, gen_experiment_name, set_seed, save_model_state\n",
    "from utils.plotter import alignment_progress_over_iterations, plot_initial_final_accuracies\n",
    "from utils.qiskit.model import Qkernel\n",
    "from qiskit import QuantumCircuit, transpile\n",
    "from qiskit.providers.aer import AerSimulator\n",
    "from qiskit_aer.noise import NoiseModel\n",
    "from qiskit.test.mock import FakeLima\n",
    "import numpy as np\n",
    "import torch"
   ],
   "id": "e3b729e9590effc",
   "outputs": [
    {
     "name": "stderr",
     "output_type": "stream",
     "text": [
      "2025-08-04 16:49:05,028\tINFO util.py:154 -- Missing packages: ['ipywidgets']. Run `pip install -U ipywidgets`, then restart the notebook server for rich notebook output.\n",
      "2025-08-04 16:49:05,279\tINFO util.py:154 -- Missing packages: ['ipywidgets']. Run `pip install -U ipywidgets`, then restart the notebook server for rich notebook output.\n",
      "/tmp/ipykernel_69833/442881082.py:23: DeprecationWarning: The module 'qiskit.test.mock' is deprecated since Qiskit Terra 0.21.0, and will be removed 3 months or more later. Instead, you should import the desired object directly 'qiskit.providers.fake_provider'.\n",
      "  from qiskit.test.mock import FakeLima\n"
     ]
    }
   ],
   "execution_count": 1
  },
  {
   "metadata": {
    "ExecuteTime": {
     "end_time": "2025-08-04T14:49:06.072773Z",
     "start_time": "2025-08-04T14:49:06.022825Z"
    }
   },
   "cell_type": "code",
   "source": [
    "# Setup fake backend with noise model\n",
    "fake_backend = FakeLima()\n",
    "noise_model = NoiseModel.from_backend(fake_backend)\n",
    "simulator = AerSimulator(noise_model=noise_model,\n",
    "                         basis_gates=noise_model.basis_gates,\n",
    "                         coupling_map=fake_backend.configuration().coupling_map)"
   ],
   "id": "aaba686318a03491",
   "outputs": [],
   "execution_count": 2
  },
  {
   "metadata": {
    "ExecuteTime": {
     "end_time": "2025-08-04T14:49:06.085366Z",
     "start_time": "2025-08-04T14:49:06.077147Z"
    }
   },
   "cell_type": "code",
   "source": [
    "data_generator = DataGenerator(\n",
    "        dataset_name= 'checkerboard',\n",
    "        file_path='../data/checkerboard_dataset.npy',\n",
    "    )\n",
    "\n",
    "training_data, training_labels, testing_data, testing_labels = data_generator.generate_dataset()\n",
    "training_data = torch.tensor(training_data.to_numpy(), dtype=torch.float32, requires_grad=True)\n",
    "testing_data = torch.tensor(testing_data.to_numpy(), dtype=torch.float32, requires_grad=True)\n",
    "training_labels = torch.tensor(training_labels.to_numpy(), dtype=torch.int)\n",
    "testing_labels = torch.tensor(testing_labels.to_numpy(), dtype=torch.int)\n",
    "multi_class = True if int(training_labels.unique().numel()) == 2 else False\n",
    "\n",
    "\n",
    "kernel = Qkernel(\n",
    "    n_qubits = 2,\n",
    "    trainable = True,\n",
    "    input_scaling = True,\n",
    "    data_reuploading = True,\n",
    "    ansatz = 'embedding_paper',\n",
    "    ansatz_layers = 3,\n",
    "    use_noisy_backend=False,\n",
    "    simulator=None\n",
    ")\n",
    "\n",
    "kernel_noisy = Qkernel(\n",
    "    n_qubits = 2,\n",
    "    trainable = True,\n",
    "    input_scaling = True,\n",
    "    data_reuploading = True,\n",
    "    ansatz = 'embedding_paper',\n",
    "    ansatz_layers = 3,\n",
    "    use_noisy_backend=True,\n",
    "    simulator=simulator\n",
    ")"
   ],
   "id": "bf0bbb950b9ade7c",
   "outputs": [],
   "execution_count": 3
  },
  {
   "metadata": {
    "ExecuteTime": {
     "end_time": "2025-08-04T14:49:06.124931Z",
     "start_time": "2025-08-04T14:49:06.122498Z"
    }
   },
   "cell_type": "code",
   "source": [
    "x1 = training_data[0]\n",
    "x2 = training_data[1]"
   ],
   "id": "830a67484acb2afc",
   "outputs": [],
   "execution_count": 4
  },
  {
   "metadata": {
    "ExecuteTime": {
     "end_time": "2025-08-04T14:49:06.174688Z",
     "start_time": "2025-08-04T14:49:06.169625Z"
    }
   },
   "cell_type": "code",
   "source": "kernel.get_depth(x1, x2)",
   "id": "55e4e221685f621d",
   "outputs": [
    {
     "data": {
      "text/plain": [
       "30"
      ]
     },
     "execution_count": 5,
     "metadata": {},
     "output_type": "execute_result"
    }
   ],
   "execution_count": 5
  },
  {
   "metadata": {
    "ExecuteTime": {
     "end_time": "2025-08-04T14:49:06.220029Z",
     "start_time": "2025-08-04T14:49:06.217567Z"
    }
   },
   "cell_type": "code",
   "source": [
    "def kernel_alignment(K1: torch.Tensor, K2: torch.Tensor) -> float:\n",
    "    K1 = K1.float()\n",
    "    K2 = K2.float()\n",
    "\n",
    "    numerator = torch.sum(K1 * K2)\n",
    "    denominator = torch.norm(K1, p='fro') * torch.norm(K2, p='fro')\n",
    "\n",
    "    return (numerator / denominator).item()"
   ],
   "id": "4e041c9a1b06f9e9",
   "outputs": [],
   "execution_count": 6
  },
  {
   "metadata": {
    "ExecuteTime": {
     "end_time": "2025-08-04T14:49:06.268382Z",
     "start_time": "2025-08-04T14:49:06.265647Z"
    }
   },
   "cell_type": "code",
   "source": [
    "def generate_kernel_matrix(x1, x2, k):\n",
    "    n1 = x1.shape[0]\n",
    "    n2 = x2.shape[0]\n",
    "    kernel_matrix = torch.zeros((n1, n2), dtype=torch.float32)\n",
    "\n",
    "    for i in range(n1):\n",
    "        for j in range(n2):\n",
    "            kernel_matrix[i, j] = k.forward(x1[i], x2[j])\n",
    "\n",
    "    return kernel_matrix"
   ],
   "id": "71eac2786188d9f4",
   "outputs": [],
   "execution_count": 7
  },
  {
   "metadata": {
    "ExecuteTime": {
     "end_time": "2025-08-04T14:49:07.762719Z",
     "start_time": "2025-08-04T14:49:06.309179Z"
    }
   },
   "cell_type": "code",
   "source": "km = generate_kernel_matrix(training_data, training_data, kernel)",
   "id": "7121ce6598b6f55a",
   "outputs": [
    {
     "name": "stderr",
     "output_type": "stream",
     "text": [
      "/home/digvijay/dev/CCKA-Clustered_Centroid_Kernel_Alignment/utils/qiskit/model.py:133: UserWarning: To copy construct from a tensor, it is recommended to use sourceTensor.detach().clone() or sourceTensor.detach().clone().requires_grad_(True), rather than torch.tensor(sourceTensor).\n",
      "  return torch.tensor(kernel_value, dtype=torch.float32)\n"
     ]
    }
   ],
   "execution_count": 8
  },
  {
   "metadata": {
    "ExecuteTime": {
     "end_time": "2025-08-04T14:49:58.719308Z",
     "start_time": "2025-08-04T14:49:07.813153Z"
    }
   },
   "cell_type": "code",
   "source": "km_noisy = generate_kernel_matrix(training_data, training_data, kernel_noisy)",
   "id": "d9418c8782a2998",
   "outputs": [],
   "execution_count": 9
  },
  {
   "metadata": {
    "ExecuteTime": {
     "end_time": "2025-08-04T14:49:58.769768Z",
     "start_time": "2025-08-04T14:49:58.767020Z"
    }
   },
   "cell_type": "code",
   "source": [
    "alignment_score = kernel_alignment(km, km_noisy)\n",
    "print(f\"Kernel Alignment (Uncentered): {alignment_score:.4f}\")"
   ],
   "id": "c541440e63a5657f",
   "outputs": [
    {
     "name": "stdout",
     "output_type": "stream",
     "text": [
      "Kernel Alignment (Uncentered): 0.8685\n"
     ]
    }
   ],
   "execution_count": 10
  },
  {
   "metadata": {
    "ExecuteTime": {
     "end_time": "2025-08-04T14:52:25.647194Z",
     "start_time": "2025-08-04T14:52:25.631975Z"
    }
   },
   "cell_type": "code",
   "source": [
    "from utils.mitigation import Mitigation\n",
    "\n",
    "x1 = training_data[0]\n",
    "x2 = training_data[1]\n",
    "mitigator = Mitigation(method='ML-GLOBAL',ml_model= 'POLY_REG', degree=2, alpha=1e-3, circuit_depth = kernel.get_depth(x1, x2), n_qubits=2)\n",
    "diag_vals = torch.diag(km_noisy).cpu().numpy()\n",
    "mitigator.train_global_decay(diag_vals)\n",
    "mitigator.get_survival_probability(training_data)"
   ],
   "id": "62abe2bb3bdf999b",
   "outputs": [
    {
     "name": "stdout",
     "output_type": "stream",
     "text": [
      "[INFO] ML-GLOBAL model trained with depth and qubits features.\n",
      "Survival probability λ_i: [0.91224265 0.91219171 0.91214156 0.91209222 0.91204367 0.91199591\n",
      " 0.91194895 0.91190279 0.91185742 0.91181285 0.91176908 0.9117261\n",
      " 0.91168392 0.91164254 0.91160195 0.91156216 0.91152316 0.91148497\n",
      " 0.91144756 0.91141096 0.91137515 0.91134013 0.91130592 0.9112725\n",
      " 0.91123987 0.91120804 0.91117701 0.91114678 0.91111734 0.91108869]\n"
     ]
    }
   ],
   "execution_count": 13
  },
  {
   "metadata": {
    "ExecuteTime": {
     "end_time": "2025-08-04T14:52:36.798343Z",
     "start_time": "2025-08-04T14:52:36.795398Z"
    }
   },
   "cell_type": "code",
   "source": "mitigator.get_survival_probability(diag_vals)",
   "id": "1670f9e0047fe902",
   "outputs": [
    {
     "name": "stdout",
     "output_type": "stream",
     "text": [
      "Survival probability λ_i: [0.91224265 0.91219171 0.91214156 0.91209222 0.91204367 0.91199591\n",
      " 0.91194895 0.91190279 0.91185742 0.91181285 0.91176908 0.9117261\n",
      " 0.91168392 0.91164254 0.91160195 0.91156216 0.91152316 0.91148497\n",
      " 0.91144756 0.91141096 0.91137515 0.91134013 0.91130592 0.9112725\n",
      " 0.91123987 0.91120804 0.91117701 0.91114678 0.91111734 0.91108869]\n"
     ]
    }
   ],
   "execution_count": 14
  },
  {
   "metadata": {
    "ExecuteTime": {
     "end_time": "2025-08-04T14:52:44.894858Z",
     "start_time": "2025-08-04T14:52:44.892225Z"
    }
   },
   "cell_type": "code",
   "source": "km_mitigated = mitigator.mitigate(km_noisy)",
   "id": "9e617d62a9057a26",
   "outputs": [],
   "execution_count": 15
  },
  {
   "metadata": {
    "ExecuteTime": {
     "end_time": "2025-08-04T14:52:47.557515Z",
     "start_time": "2025-08-04T14:52:47.555001Z"
    }
   },
   "cell_type": "code",
   "source": [
    "alignment_score = kernel_alignment(km, km_mitigated)\n",
    "print(f\"Kernel Alignment (Uncentered): {alignment_score:.4f}\")"
   ],
   "id": "4786d91570ad8f7c",
   "outputs": [
    {
     "name": "stdout",
     "output_type": "stream",
     "text": [
      "Kernel Alignment (Uncentered): 0.8685\n"
     ]
    }
   ],
   "execution_count": 16
  },
  {
   "metadata": {
    "ExecuteTime": {
     "end_time": "2025-08-04T14:49:58.983190683Z",
     "start_time": "2025-08-04T13:53:03.147850Z"
    }
   },
   "cell_type": "code",
   "source": "",
   "id": "5ab867bf4d958a66",
   "outputs": [],
   "execution_count": null
  }
 ],
 "metadata": {
  "kernelspec": {
   "display_name": "Python 3",
   "language": "python",
   "name": "python3"
  },
  "language_info": {
   "codemirror_mode": {
    "name": "ipython",
    "version": 2
   },
   "file_extension": ".py",
   "mimetype": "text/x-python",
   "name": "python",
   "nbconvert_exporter": "python",
   "pygments_lexer": "ipython2",
   "version": "2.7.6"
  }
 },
 "nbformat": 4,
 "nbformat_minor": 5
}
