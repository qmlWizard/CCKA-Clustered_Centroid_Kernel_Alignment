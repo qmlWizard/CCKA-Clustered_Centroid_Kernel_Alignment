{
 "cells": [
  {
   "metadata": {
    "ExecuteTime": {
     "end_time": "2025-08-04T14:49:06.019436Z",
     "start_time": "2025-08-04T14:49:03.501754Z"
    }
   },
   "cell_type": "code",
   "source": [
    "import torch\n",
    "import ray\n",
    "from ray import tune\n",
    "from ray.air import session\n",
    "from sklearn.model_selection import train_test_split\n",
    "import yaml\n",
    "import argparse\n",
    "import shutil\n",
    "from collections import namedtuple\n",
    "import os\n",
    "import datetime\n",
    "\n",
    "\n",
    "# Custom Libraries\n",
    "from utils.data_generator import DataGenerator\n",
    "from utils.agent import TrainModel\n",
    "from utils.helper import to_python_native, gen_experiment_name, set_seed, save_model_state\n",
    "from utils.plotter import alignment_progress_over_iterations, plot_initial_final_accuracies\n",
    "from utils.qiskit.model import Qkernel\n",
    "from qiskit import QuantumCircuit, transpile\n",
    "from qiskit.providers.aer import AerSimulator\n",
    "from qiskit_aer.noise import NoiseModel\n",
    "from qiskit.test.mock import FakeLima\n",
    "import numpy as np\n",
    "import torch"
   ],
   "id": "e3b729e9590effc",
   "outputs": [
    {
     "name": "stderr",
     "output_type": "stream",
     "text": [
      "2025-08-04 16:49:05,028\tINFO util.py:154 -- Missing packages: ['ipywidgets']. Run `pip install -U ipywidgets`, then restart the notebook server for rich notebook output.\n",
      "2025-08-04 16:49:05,279\tINFO util.py:154 -- Missing packages: ['ipywidgets']. Run `pip install -U ipywidgets`, then restart the notebook server for rich notebook output.\n",
      "/tmp/ipykernel_69833/442881082.py:23: DeprecationWarning: The module 'qiskit.test.mock' is deprecated since Qiskit Terra 0.21.0, and will be removed 3 months or more later. Instead, you should import the desired object directly 'qiskit.providers.fake_provider'.\n",
      "  from qiskit.test.mock import FakeLima\n"
     ]
    }
   ],
   "execution_count": 1
  },
  {
   "metadata": {
    "ExecuteTime": {
     "end_time": "2025-08-04T14:49:06.072773Z",
     "start_time": "2025-08-04T14:49:06.022825Z"
    }
   },
   "cell_type": "code",
   "source": [
    "# Setup fake backend with noise model\n",
    "fake_backend = FakeLima()\n",
    "noise_model = NoiseModel.from_backend(fake_backend)\n",
    "simulator = AerSimulator(noise_model=noise_model,\n",
    "                         basis_gates=noise_model.basis_gates,\n",
    "                         coupling_map=fake_backend.configuration().coupling_map)"
   ],
   "id": "aaba686318a03491",
   "outputs": [],
   "execution_count": 2
  },
  {
   "metadata": {
    "ExecuteTime": {
     "end_time": "2025-08-04T14:49:06.085366Z",
     "start_time": "2025-08-04T14:49:06.077147Z"
    }
   },
   "cell_type": "code",
   "source": [
    "data_generator = DataGenerator(\n",
    "        dataset_name= 'checkerboard',\n",
    "        file_path='../data/checkerboard_dataset.npy',\n",
    "    )\n",
    "\n",
    "training_data, training_labels, testing_data, testing_labels = data_generator.generate_dataset()\n",
    "training_data = torch.tensor(training_data.to_numpy(), dtype=torch.float32, requires_grad=True)\n",
    "testing_data = torch.tensor(testing_data.to_numpy(), dtype=torch.float32, requires_grad=True)\n",
    "training_labels = torch.tensor(training_labels.to_numpy(), dtype=torch.int)\n",
    "testing_labels = torch.tensor(testing_labels.to_numpy(), dtype=torch.int)\n",
    "multi_class = True if int(training_labels.unique().numel()) == 2 else False\n",
    "\n",
    "\n",
    "kernel = Qkernel(\n",
    "    n_qubits = 2,\n",
    "    trainable = True,\n",
    "    input_scaling = True,\n",
    "    data_reuploading = True,\n",
    "    ansatz = 'embedding_paper',\n",
    "    ansatz_layers = 3,\n",
    "    use_noisy_backend=False,\n",
    "    simulator=None\n",
    ")\n",
    "\n",
    "kernel_noisy = Qkernel(\n",
    "    n_qubits = 2,\n",
    "    trainable = True,\n",
    "    input_scaling = True,\n",
    "    data_reuploading = True,\n",
    "    ansatz = 'embedding_paper',\n",
    "    ansatz_layers = 3,\n",
    "    use_noisy_backend=True,\n",
    "    simulator=simulator\n",
    ")"
   ],
   "id": "bf0bbb950b9ade7c",
   "outputs": [],
   "execution_count": 3
  },
  {
   "metadata": {
    "ExecuteTime": {
     "end_time": "2025-08-04T14:49:06.124931Z",
     "start_time": "2025-08-04T14:49:06.122498Z"
    }
   },
   "cell_type": "code",
   "source": [
    "x1 = training_data[0]\n",
    "x2 = training_data[1]"
   ],
   "id": "830a67484acb2afc",
   "outputs": [],
   "execution_count": 4
  },
  {
   "metadata": {
    "ExecuteTime": {
     "end_time": "2025-08-04T14:49:06.174688Z",
     "start_time": "2025-08-04T14:49:06.169625Z"
    }
   },
   "cell_type": "code",
   "source": "kernel.get_depth(x1, x2)",
   "id": "55e4e221685f621d",
   "outputs": [
    {
     "data": {
      "text/plain": [
       "30"
      ]
     },
     "execution_count": 5,
     "metadata": {},
     "output_type": "execute_result"
    }
   ],
   "execution_count": 5
  },
  {
   "metadata": {
    "ExecuteTime": {
     "end_time": "2025-08-04T14:49:06.220029Z",
     "start_time": "2025-08-04T14:49:06.217567Z"
    }
   },
   "cell_type": "code",
   "source": [
    "def kernel_alignment(K1: torch.Tensor, K2: torch.Tensor) -> float:\n",
    "    K1 = K1.float()\n",
    "    K2 = K2.float()\n",
    "\n",
    "    numerator = torch.sum(K1 * K2)\n",
    "    denominator = torch.norm(K1, p='fro') * torch.norm(K2, p='fro')\n",
    "\n",
    "    return (numerator / denominator).item()"
   ],
   "id": "4e041c9a1b06f9e9",
   "outputs": [],
   "execution_count": 6
  },
  {
   "metadata": {
    "ExecuteTime": {
     "end_time": "2025-08-04T14:49:06.268382Z",
     "start_time": "2025-08-04T14:49:06.265647Z"
    }
   },
   "cell_type": "code",
   "source": [
    "def generate_kernel_matrix(x1, x2, k):\n",
    "    n1 = x1.shape[0]\n",
    "    n2 = x2.shape[0]\n",
    "    kernel_matrix = torch.zeros((n1, n2), dtype=torch.float32)\n",
    "\n",
    "    for i in range(n1):\n",
    "        for j in range(n2):\n",
    "            kernel_matrix[i, j] = k.forward(x1[i], x2[j])\n",
    "\n",
    "    return kernel_matrix"
   ],
   "id": "71eac2786188d9f4",
   "outputs": [],
   "execution_count": 7
  },
  {
   "metadata": {
    "ExecuteTime": {
     "end_time": "2025-08-04T14:49:07.762719Z",
     "start_time": "2025-08-04T14:49:06.309179Z"
    }
   },
   "cell_type": "code",
   "source": "km = generate_kernel_matrix(training_data, training_data, kernel)",
   "id": "7121ce6598b6f55a",
   "outputs": [
    {
     "name": "stderr",
     "output_type": "stream",
     "text": [
      "/home/digvijay/dev/CCKA-Clustered_Centroid_Kernel_Alignment/utils/qiskit/model.py:133: UserWarning: To copy construct from a tensor, it is recommended to use sourceTensor.detach().clone() or sourceTensor.detach().clone().requires_grad_(True), rather than torch.tensor(sourceTensor).\n",
      "  return torch.tensor(kernel_value, dtype=torch.float32)\n"
     ]
    }
   ],
   "execution_count": 8
  },
  {
   "metadata": {
    "ExecuteTime": {
     "end_time": "2025-08-04T14:49:58.719308Z",
     "start_time": "2025-08-04T14:49:07.813153Z"
    }
   },
   "cell_type": "code",
   "source": "km_noisy = generate_kernel_matrix(training_data, training_data, kernel_noisy)",
   "id": "d9418c8782a2998",
   "outputs": [],
   "execution_count": 9
  },
  {
   "metadata": {
    "ExecuteTime": {
     "end_time": "2025-08-04T14:49:58.769768Z",
     "start_time": "2025-08-04T14:49:58.767020Z"
    }
   },
   "cell_type": "code",
   "source": [
    "alignment_score = kernel_alignment(km, km_noisy)\n",
    "print(f\"Kernel Alignment (Uncentered): {alignment_score:.4f}\")"
   ],
   "id": "c541440e63a5657f",
   "outputs": [
    {
     "name": "stdout",
     "output_type": "stream",
     "text": [
      "Kernel Alignment (Uncentered): 0.8685\n"
     ]
    }
   ],
   "execution_count": 10
  },
  {
   "metadata": {
    "ExecuteTime": {
     "end_time": "2025-08-04T14:49:58.980660Z",
     "start_time": "2025-08-04T14:49:58.811458Z"
    }
   },
   "cell_type": "code",
   "source": [
    "from utils.mitigation import Mitigation\n",
    "\n",
    "x1 = training_data[0]\n",
    "x2 = training_data[1]\n",
    "mitigator = Mitigation(method='ML-GLOBAL', degree=2, alpha=1e-3, circuit_depth = kernel.get_depth(x1, x2), n_qubits=2)\n",
    "mitigator.get_survival_probability(training_data)\n",
    "km_mitigated = mitigator.mitigate(km)\n",
    "diag_vals = torch.diag(km_noisy).cpu().numpy()\n",
    "mitigator.train_global_decay(diag_vals)"
   ],
   "id": "62abe2bb3bdf999b",
   "outputs": [
    {
     "ename": "RuntimeError",
     "evalue": "Train the ML-GLOBAL model first using train_global_decay().",
     "output_type": "error",
     "traceback": [
      "\u001B[0;31m---------------------------------------------------------------------------\u001B[0m",
      "\u001B[0;31mRuntimeError\u001B[0m                              Traceback (most recent call last)",
      "Cell \u001B[0;32mIn[11], line 6\u001B[0m\n\u001B[1;32m      4\u001B[0m x2 \u001B[38;5;241m=\u001B[39m training_data[\u001B[38;5;241m1\u001B[39m]\n\u001B[1;32m      5\u001B[0m mitigator \u001B[38;5;241m=\u001B[39m Mitigation(method\u001B[38;5;241m=\u001B[39m\u001B[38;5;124m'\u001B[39m\u001B[38;5;124mML-GLOBAL\u001B[39m\u001B[38;5;124m'\u001B[39m, degree\u001B[38;5;241m=\u001B[39m\u001B[38;5;241m2\u001B[39m, alpha\u001B[38;5;241m=\u001B[39m\u001B[38;5;241m1e-3\u001B[39m, circuit_depth \u001B[38;5;241m=\u001B[39m kernel\u001B[38;5;241m.\u001B[39mget_depth(x1, x2), n_qubits\u001B[38;5;241m=\u001B[39m\u001B[38;5;241m2\u001B[39m)\n\u001B[0;32m----> 6\u001B[0m \u001B[43mmitigator\u001B[49m\u001B[38;5;241;43m.\u001B[39;49m\u001B[43mget_survival_probability\u001B[49m\u001B[43m(\u001B[49m\u001B[43mtraining_data\u001B[49m\u001B[43m)\u001B[49m\n\u001B[1;32m      7\u001B[0m km_mitigated \u001B[38;5;241m=\u001B[39m mitigator\u001B[38;5;241m.\u001B[39mmitigate(km)\n\u001B[1;32m      8\u001B[0m diag_vals \u001B[38;5;241m=\u001B[39m torch\u001B[38;5;241m.\u001B[39mdiag(km_noisy)\u001B[38;5;241m.\u001B[39mcpu()\u001B[38;5;241m.\u001B[39mnumpy()\n",
      "File \u001B[0;32m~/dev/CCKA-Clustered_Centroid_Kernel_Alignment/utils/mitigation.py:132\u001B[0m, in \u001B[0;36mMitigation.get_survival_probability\u001B[0;34m(self, diag_vals)\u001B[0m\n\u001B[1;32m    129\u001B[0m \u001B[38;5;28;01melif\u001B[39;00m \u001B[38;5;129;01mnot\u001B[39;00m \u001B[38;5;28misinstance\u001B[39m(diag_vals, np\u001B[38;5;241m.\u001B[39mndarray):\n\u001B[1;32m    130\u001B[0m     diag_vals \u001B[38;5;241m=\u001B[39m np\u001B[38;5;241m.\u001B[39marray(diag_vals, dtype\u001B[38;5;241m=\u001B[39mnp\u001B[38;5;241m.\u001B[39mfloat64)\n\u001B[0;32m--> 132\u001B[0m \u001B[38;5;28mself\u001B[39m\u001B[38;5;241m.\u001B[39m_yi \u001B[38;5;241m=\u001B[39m \u001B[38;5;28;43mself\u001B[39;49m\u001B[38;5;241;43m.\u001B[39;49m\u001B[43m_method_func\u001B[49m\u001B[43m(\u001B[49m\u001B[43mdiag_vals\u001B[49m\u001B[38;5;241;43m.\u001B[39;49m\u001B[43mastype\u001B[49m\u001B[43m(\u001B[49m\u001B[43mnp\u001B[49m\u001B[38;5;241;43m.\u001B[39;49m\u001B[43mfloat64\u001B[49m\u001B[43m)\u001B[49m\u001B[43m)\u001B[49m\n\u001B[1;32m    133\u001B[0m \u001B[38;5;28mprint\u001B[39m(\u001B[38;5;124m\"\u001B[39m\u001B[38;5;124mSurvival probability λ_i:\u001B[39m\u001B[38;5;124m\"\u001B[39m, \u001B[38;5;28mself\u001B[39m\u001B[38;5;241m.\u001B[39m_yi)\n",
      "File \u001B[0;32m~/dev/CCKA-Clustered_Centroid_Kernel_Alignment/utils/mitigation.py:100\u001B[0m, in \u001B[0;36mMitigation._ml_global_decay\u001B[0;34m(self, diag_vals)\u001B[0m\n\u001B[1;32m     96\u001B[0m \u001B[38;5;250m\u001B[39m\u001B[38;5;124;03m\"\"\"\u001B[39;00m\n\u001B[1;32m     97\u001B[0m \u001B[38;5;124;03mPredict λ_i using trained polynomial ridge regression model.\u001B[39;00m\n\u001B[1;32m     98\u001B[0m \u001B[38;5;124;03m\"\"\"\u001B[39;00m\n\u001B[1;32m     99\u001B[0m \u001B[38;5;28;01mif\u001B[39;00m \u001B[38;5;28mself\u001B[39m\u001B[38;5;241m.\u001B[39m_trained_model \u001B[38;5;129;01mis\u001B[39;00m \u001B[38;5;28;01mNone\u001B[39;00m:\n\u001B[0;32m--> 100\u001B[0m     \u001B[38;5;28;01mraise\u001B[39;00m \u001B[38;5;167;01mRuntimeError\u001B[39;00m(\u001B[38;5;124m\"\u001B[39m\u001B[38;5;124mTrain the ML-GLOBAL model first using train_global_decay().\u001B[39m\u001B[38;5;124m\"\u001B[39m)\n\u001B[1;32m    102\u001B[0m n_samples \u001B[38;5;241m=\u001B[39m \u001B[38;5;28mlen\u001B[39m(diag_vals)\n\u001B[1;32m    103\u001B[0m X \u001B[38;5;241m=\u001B[39m np\u001B[38;5;241m.\u001B[39mcolumn_stack([\n\u001B[1;32m    104\u001B[0m     np\u001B[38;5;241m.\u001B[39marange(n_samples),\n\u001B[1;32m    105\u001B[0m     np\u001B[38;5;241m.\u001B[39mfull(n_samples, \u001B[38;5;28mself\u001B[39m\u001B[38;5;241m.\u001B[39m_circuit_depth \u001B[38;5;28;01mif\u001B[39;00m \u001B[38;5;28mself\u001B[39m\u001B[38;5;241m.\u001B[39m_circuit_depth \u001B[38;5;129;01mis\u001B[39;00m \u001B[38;5;129;01mnot\u001B[39;00m \u001B[38;5;28;01mNone\u001B[39;00m \u001B[38;5;28;01melse\u001B[39;00m \u001B[38;5;28mself\u001B[39m\u001B[38;5;241m.\u001B[39m_circuit_depth),\n\u001B[1;32m    106\u001B[0m     np\u001B[38;5;241m.\u001B[39mfull(n_samples, \u001B[38;5;28mself\u001B[39m\u001B[38;5;241m.\u001B[39m_n_qubits \u001B[38;5;28;01mif\u001B[39;00m \u001B[38;5;28mself\u001B[39m\u001B[38;5;241m.\u001B[39m_n_qubits \u001B[38;5;129;01mis\u001B[39;00m \u001B[38;5;129;01mnot\u001B[39;00m \u001B[38;5;28;01mNone\u001B[39;00m \u001B[38;5;28;01melse\u001B[39;00m \u001B[38;5;28mself\u001B[39m\u001B[38;5;241m.\u001B[39m_n_qubits)\n\u001B[1;32m    107\u001B[0m ])\n",
      "\u001B[0;31mRuntimeError\u001B[0m: Train the ML-GLOBAL model first using train_global_decay()."
     ]
    }
   ],
   "execution_count": 11
  },
  {
   "metadata": {},
   "cell_type": "code",
   "outputs": [],
   "execution_count": null,
   "source": "mitigator.get_survival_probability(diag_vals)",
   "id": "1670f9e0047fe902"
  },
  {
   "metadata": {
    "ExecuteTime": {
     "end_time": "2025-08-04T14:49:58.982295838Z",
     "start_time": "2025-08-04T13:53:50.923533Z"
    }
   },
   "cell_type": "code",
   "source": "km_mitigated = mitigator.mitigate(km_noisy)",
   "id": "9e617d62a9057a26",
   "outputs": [],
   "execution_count": 18
  },
  {
   "metadata": {
    "ExecuteTime": {
     "end_time": "2025-08-04T14:49:58.982783478Z",
     "start_time": "2025-08-04T13:53:53.057001Z"
    }
   },
   "cell_type": "code",
   "source": [
    "alignment_score = kernel_alignment(km, km_mitigated)\n",
    "print(f\"Kernel Alignment (Uncentered): {alignment_score:.4f}\")"
   ],
   "id": "4786d91570ad8f7c",
   "outputs": [
    {
     "name": "stdout",
     "output_type": "stream",
     "text": [
      "Kernel Alignment (Uncentered): 0.8137\n"
     ]
    }
   ],
   "execution_count": 19
  },
  {
   "metadata": {
    "ExecuteTime": {
     "end_time": "2025-08-04T14:49:58.983190683Z",
     "start_time": "2025-08-04T13:53:03.147850Z"
    }
   },
   "cell_type": "code",
   "source": "",
   "id": "5ab867bf4d958a66",
   "outputs": [],
   "execution_count": null
  }
 ],
 "metadata": {
  "kernelspec": {
   "display_name": "Python 3",
   "language": "python",
   "name": "python3"
  },
  "language_info": {
   "codemirror_mode": {
    "name": "ipython",
    "version": 2
   },
   "file_extension": ".py",
   "mimetype": "text/x-python",
   "name": "python",
   "nbconvert_exporter": "python",
   "pygments_lexer": "ipython2",
   "version": "2.7.6"
  }
 },
 "nbformat": 4,
 "nbformat_minor": 5
}
