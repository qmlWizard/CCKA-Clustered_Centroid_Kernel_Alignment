{
 "cells": [
  {
   "cell_type": "code",
   "execution_count": 1,
   "id": "e3b729e9590effc",
   "metadata": {
    "ExecuteTime": {
     "end_time": "2025-08-05T08:43:29.696383Z",
     "start_time": "2025-08-05T08:43:29.692890Z"
    }
   },
   "outputs": [
    {
     "name": "stderr",
     "output_type": "stream",
     "text": [
      "/var/folders/r8/f7nhz5bn7n394kclf5d6z6jc0000gn/T/ipykernel_45866/1905934065.py:25: DeprecationWarning: The module 'qiskit.test.mock' is deprecated since Qiskit Terra 0.21.0, and will be removed 3 months or more later. Instead, you should import the desired object directly 'qiskit.providers.fake_provider'.\n",
      "  from qiskit.test.mock import FakeLima\n"
     ]
    }
   ],
   "source": [
    "\n",
    "\n",
    "import sys\n",
    "from pathlib import Path\n",
    "\n",
    "# add project root (one level up) to the module search path\n",
    "sys.path.insert(0, str(Path.cwd().parent))\n",
    "\n",
    "# Custom Libraries\n",
    "from utils.data_generator import DataGenerator\n",
    "from utils.plotter import alignment_progress_over_iterations, plot_initial_final_accuracies\n",
    "from utils.qiskit.model import Qkernel\n",
    "from qiskit.providers.aer import AerSimulator\n",
    "from qiskit_aer.noise import NoiseModel\n",
    "from qiskit.test.mock import FakeLima\n",
    "import torch"
   ]
  },
  {
   "cell_type": "code",
   "execution_count": 5,
   "id": "a2b5f23a",
   "metadata": {},
   "outputs": [
    {
     "data": {
      "text/plain": [
       "'/Users/digvijaysinhajarekar/Study/CCKA-Clustered_Centroid_Kernel_Alignment/notebooks'"
      ]
     },
     "execution_count": 5,
     "metadata": {},
     "output_type": "execute_result"
    }
   ],
   "source": [
    "path_from_home = str(Path.cwd())\n",
    "path_from_home "
   ]
  },
  {
   "cell_type": "code",
   "execution_count": 6,
   "id": "aaba686318a03491",
   "metadata": {
    "ExecuteTime": {
     "end_time": "2025-08-05T08:43:29.791741Z",
     "start_time": "2025-08-05T08:43:29.743155Z"
    }
   },
   "outputs": [],
   "source": [
    "# Setup fake backend with noise model\n",
    "fake_backend = FakeLima()\n",
    "noise_model = NoiseModel.from_backend(fake_backend)\n",
    "simulator = AerSimulator(noise_model=noise_model,\n",
    "                         basis_gates=noise_model.basis_gates,\n",
    "                         coupling_map=fake_backend.configuration().coupling_map)"
   ]
  },
  {
   "cell_type": "code",
   "execution_count": 7,
   "id": "bf0bbb950b9ade7c",
   "metadata": {
    "ExecuteTime": {
     "end_time": "2025-08-05T08:43:29.820090Z",
     "start_time": "2025-08-05T08:43:29.812660Z"
    }
   },
   "outputs": [],
   "source": [
    "data_generator = DataGenerator(\n",
    "        dataset_name= 'corners',\n",
    "        file_path='../data/corners.npy',\n",
    "    )\n",
    "\n",
    "training_data, training_labels, testing_data, testing_labels = data_generator.generate_dataset()\n",
    "training_data = torch.tensor(training_data.to_numpy(), dtype=torch.float32, requires_grad=True)\n",
    "testing_data = torch.tensor(testing_data.to_numpy(), dtype=torch.float32, requires_grad=True)\n",
    "training_labels = torch.tensor(training_labels.to_numpy(), dtype=torch.int)\n",
    "testing_labels = torch.tensor(testing_labels.to_numpy(), dtype=torch.int)\n",
    "multi_class = True if int(training_labels.unique().numel()) == 2 else False\n",
    "\n",
    "\n",
    "kernel = Qkernel(\n",
    "    n_qubits = 2,\n",
    "    trainable = True,\n",
    "    input_scaling = True,\n",
    "    data_reuploading = True,\n",
    "    ansatz = 'embedding_paper',\n",
    "    ansatz_layers = 3,\n",
    "    use_noisy_backend=False,\n",
    "    simulator=None\n",
    ")\n",
    "\n",
    "kernel_noisy = Qkernel(\n",
    "    n_qubits = 2,\n",
    "    trainable = True,\n",
    "    input_scaling = True,\n",
    "    data_reuploading = True,\n",
    "    ansatz = 'embedding_paper',\n",
    "    ansatz_layers = 3,\n",
    "    use_noisy_backend=True,\n",
    "    simulator=simulator\n",
    ")"
   ]
  },
  {
   "cell_type": "code",
   "execution_count": 8,
   "id": "830a67484acb2afc",
   "metadata": {
    "ExecuteTime": {
     "end_time": "2025-08-05T08:43:29.862229Z",
     "start_time": "2025-08-05T08:43:29.859810Z"
    }
   },
   "outputs": [],
   "source": [
    "x1 = training_data[0]\n",
    "x2 = training_data[1]"
   ]
  },
  {
   "cell_type": "code",
   "execution_count": 9,
   "id": "55e4e221685f621d",
   "metadata": {
    "ExecuteTime": {
     "end_time": "2025-08-05T08:43:29.914747Z",
     "start_time": "2025-08-05T08:43:29.909888Z"
    }
   },
   "outputs": [
    {
     "data": {
      "text/plain": [
       "30"
      ]
     },
     "execution_count": 9,
     "metadata": {},
     "output_type": "execute_result"
    }
   ],
   "source": [
    "kernel.get_depth(x1, x2)"
   ]
  },
  {
   "cell_type": "code",
   "execution_count": 10,
   "id": "4e041c9a1b06f9e9",
   "metadata": {
    "ExecuteTime": {
     "end_time": "2025-08-05T08:43:29.960294Z",
     "start_time": "2025-08-05T08:43:29.957531Z"
    }
   },
   "outputs": [],
   "source": [
    "def kernel_alignment(K1: torch.Tensor, K2: torch.Tensor) -> float:\n",
    "    K1 = K1.float()\n",
    "    K2 = K2.float()\n",
    "\n",
    "    numerator = torch.sum(K1 * K2)\n",
    "    denominator = torch.norm(K1, p='fro') * torch.norm(K2, p='fro')\n",
    "\n",
    "    return (numerator / denominator).item()"
   ]
  },
  {
   "cell_type": "code",
   "execution_count": 11,
   "id": "71eac2786188d9f4",
   "metadata": {
    "ExecuteTime": {
     "end_time": "2025-08-05T08:43:30.011806Z",
     "start_time": "2025-08-05T08:43:30.008889Z"
    }
   },
   "outputs": [],
   "source": [
    "def generate_kernel_matrix(x1, x2, k):\n",
    "    n1 = x1.shape[0]\n",
    "    n2 = x2.shape[0]\n",
    "    kernel_matrix = torch.zeros((n1, n2), dtype=torch.float32)\n",
    "\n",
    "    for i in range(n1):\n",
    "        for j in range(n2):\n",
    "            kernel_matrix[i, j] = k.forward(x1[i], x2[j])\n",
    "\n",
    "    return kernel_matrix"
   ]
  },
  {
   "cell_type": "code",
   "execution_count": 12,
   "id": "7121ce6598b6f55a",
   "metadata": {
    "ExecuteTime": {
     "end_time": "2025-08-05T08:43:45.980553Z",
     "start_time": "2025-08-05T08:43:30.056179Z"
    }
   },
   "outputs": [
    {
     "name": "stderr",
     "output_type": "stream",
     "text": [
      "/Users/digvijaysinhajarekar/Study/CCKA-Clustered_Centroid_Kernel_Alignment/utils/qiskit/model.py:133: UserWarning: To copy construct from a tensor, it is recommended to use sourceTensor.detach().clone() or sourceTensor.detach().clone().requires_grad_(True), rather than torch.tensor(sourceTensor).\n",
      "  return torch.tensor(kernel_value, dtype=torch.float32)\n"
     ]
    }
   ],
   "source": [
    "km = generate_kernel_matrix(training_data, training_data, kernel)"
   ]
  },
  {
   "cell_type": "code",
   "execution_count": 13,
   "id": "d9418c8782a2998",
   "metadata": {
    "ExecuteTime": {
     "end_time": "2025-08-05T08:53:11.707168Z",
     "start_time": "2025-08-05T08:43:46.035369Z"
    }
   },
   "outputs": [],
   "source": [
    "km_noisy = generate_kernel_matrix(training_data, training_data, kernel_noisy)"
   ]
  },
  {
   "cell_type": "code",
   "execution_count": null,
   "id": "c541440e63a5657f",
   "metadata": {
    "ExecuteTime": {
     "end_time": "2025-08-05T08:53:11.768257Z",
     "start_time": "2025-08-05T08:53:11.765362Z"
    }
   },
   "outputs": [
    {
     "name": "stdout",
     "output_type": "stream",
     "text": [
      "Kernel Alignment (Uncentered): 0.8346\n"
     ]
    }
   ],
   "source": [
    "alignment_score = kernel_alignment(km, km_noisy)\n",
    "print(f\"Kernel Alignment (Uncentered): {alignment_score:.4f}\")"
   ]
  },
  {
   "cell_type": "code",
   "execution_count": null,
   "id": "62abe2bb3bdf999b",
   "metadata": {
    "ExecuteTime": {
     "end_time": "2025-08-05T08:54:18.501068Z",
     "start_time": "2025-08-05T08:54:18.494289Z"
    }
   },
   "outputs": [
    {
     "name": "stdout",
     "output_type": "stream",
     "text": [
      "[INFO] ML-GLOBAL model trained with depth and qubits features.\n",
      "Survival probability λ_i: [0.91327303 0.91327303 0.91327303 0.91327303 0.91327303 0.91327303\n",
      " 0.91327303 0.91327303 0.91327303 0.91327303 0.91327303 0.91327303\n",
      " 0.91327303 0.91327303 0.91327303 0.91327303 0.91327303 0.91327303\n",
      " 0.91327303 0.91327303 0.91327303 0.91327303 0.91327303 0.91327303\n",
      " 0.91327303 0.91327303 0.91327303 0.91327303 0.91327303 0.91327303\n",
      " 0.91327303 0.91327303 0.91327303 0.91327303 0.91327303 0.91327303\n",
      " 0.91327303 0.91327303 0.91327303 0.91327303 0.91327303 0.91327303\n",
      " 0.91327303 0.91327303 0.91327303 0.91327303 0.91327303 0.91327303\n",
      " 0.91327303 0.91327303 0.91327303 0.91327303 0.91327303 0.91327303\n",
      " 0.91327303 0.91327303 0.91327303 0.91327303 0.91327303 0.91327303\n",
      " 0.91327303 0.91327303 0.91327303 0.91327303 0.91327303 0.91327303\n",
      " 0.91327303 0.91327303 0.91327303 0.91327303 0.91327303 0.91327303\n",
      " 0.91327303 0.91327303 0.91327303 0.91327303 0.91327303 0.91327303\n",
      " 0.91327303 0.91327303 0.91327303 0.91327303 0.91327303 0.91327303\n",
      " 0.91327303 0.91327303 0.91327303 0.91327303 0.91327303 0.91327303\n",
      " 0.91327303 0.91327303 0.91327303 0.91327303 0.91327303 0.91327303\n",
      " 0.91327303 0.91327303 0.91327303 0.91327303]\n"
     ]
    }
   ],
   "source": [
    "from utils.qiskit.mitigation import Mitigation\n",
    "\n",
    "x1 = training_data[0]\n",
    "x2 = training_data[1]\n",
    "mitigator = Mitigation(method='ML-GLOBAL',ml_model= 'POLY_REG', degree=3, alpha=1e-1, circuit_depth = kernel.get_depth(x1, x2), n_qubits=2)\n",
    "diag_vals = torch.diag(km_noisy).cpu().numpy()\n",
    "mitigator.train_global_decay(diag_vals)\n",
    "mitigator.get_survival_probability(training_data)"
   ]
  },
  {
   "cell_type": "code",
   "execution_count": null,
   "id": "9e617d62a9057a26",
   "metadata": {
    "ExecuteTime": {
     "end_time": "2025-08-05T08:53:11.868583Z",
     "start_time": "2025-08-05T08:53:11.862266Z"
    }
   },
   "outputs": [],
   "source": [
    "km_mitigated = mitigator.mitigate(km_noisy)"
   ]
  },
  {
   "cell_type": "code",
   "execution_count": null,
   "id": "4786d91570ad8f7c",
   "metadata": {
    "ExecuteTime": {
     "end_time": "2025-08-05T08:53:11.912908Z",
     "start_time": "2025-08-05T08:53:11.910075Z"
    }
   },
   "outputs": [
    {
     "name": "stdout",
     "output_type": "stream",
     "text": [
      "Kernel Alignment (Uncentered): 0.8346\n"
     ]
    }
   ],
   "source": [
    "alignment_score = kernel_alignment(km, km_mitigated)\n",
    "print(f\"Kernel Alignment (Uncentered): {alignment_score:.4f}\")"
   ]
  },
  {
   "cell_type": "code",
   "execution_count": null,
   "id": "1b3e051f7797e817",
   "metadata": {
    "ExecuteTime": {
     "end_time": "2025-08-05T08:53:11.961273Z",
     "start_time": "2025-08-05T08:53:11.957521Z"
    }
   },
   "outputs": [
    {
     "name": "stdout",
     "output_type": "stream",
     "text": [
      "Max difference: tensor(0.1844)\n",
      "Mean difference: tensor(0.0608)\n",
      "Difference matrix:\n",
      " tensor([[0.1569, 0.0266, 0.0171,  ..., 0.0442, 0.1100, 0.1166],\n",
      "        [0.0278, 0.1761, 0.0594,  ..., 0.0657, 0.0268, 0.0227],\n",
      "        [0.0200, 0.0618, 0.1461,  ..., 0.0602, 0.0237, 0.0214],\n",
      "        ...,\n",
      "        [0.0446, 0.0684, 0.0567,  ..., 0.1683, 0.1214, 0.1102],\n",
      "        [0.1103, 0.0281, 0.0207,  ..., 0.1209, 0.1686, 0.1649],\n",
      "        [0.1172, 0.0250, 0.0187,  ..., 0.1083, 0.1633, 0.1699]])\n"
     ]
    }
   ],
   "source": [
    "diff = km_mitigated - km_noisy\n",
    "print(\"Max difference:\", diff.max())\n",
    "print(\"Mean difference:\", diff.mean())\n",
    "print(\"Difference matrix:\\n\", diff)"
   ]
  },
  {
   "cell_type": "code",
   "execution_count": null,
   "id": "aba7fdd728495d2",
   "metadata": {
    "ExecuteTime": {
     "end_time": "2025-08-05T08:53:12.006970Z",
     "start_time": "2025-08-05T08:53:12.005341Z"
    }
   },
   "outputs": [],
   "source": []
  }
 ],
 "metadata": {
  "kernelspec": {
   "display_name": ".venv",
   "language": "python",
   "name": "python3"
  },
  "language_info": {
   "codemirror_mode": {
    "name": "ipython",
    "version": 3
   },
   "file_extension": ".py",
   "mimetype": "text/x-python",
   "name": "python",
   "nbconvert_exporter": "python",
   "pygments_lexer": "ipython3",
   "version": "3.10.18"
  }
 },
 "nbformat": 4,
 "nbformat_minor": 5
}
